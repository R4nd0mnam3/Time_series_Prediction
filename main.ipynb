{
 "cells": [
  {
   "cell_type": "markdown",
   "id": "0eb14529",
   "metadata": {},
   "source": [
    "# Importing Libraries"
   ]
  },
  {
   "cell_type": "code",
   "execution_count": 31,
   "id": "46334697",
   "metadata": {},
   "outputs": [],
   "source": [
    "import warnings\n",
    "import pandas as pd\n",
    "import numpy as np\n",
    "import matplotlib.pyplot as plt\n",
    "from statsmodels.tsa.stattools import adfuller\n",
    "from sklearn.preprocessing import MinMaxScaler"
   ]
  },
  {
   "cell_type": "code",
   "execution_count": 32,
   "id": "0473409c",
   "metadata": {},
   "outputs": [],
   "source": [
    "import classes.file_loader as file_loader\n",
    "import classes.linear_time_series as linear_time_series\n",
    "import classes.tools as tools\n",
    "import classes.gated_reccurent_unit as gated_reccurent_unit "
   ]
  },
  {
   "cell_type": "markdown",
   "id": "5f1fe4ed",
   "metadata": {},
   "source": [
    "# Data Preprocessing"
   ]
  },
  {
   "cell_type": "markdown",
   "id": "01b37ede",
   "metadata": {},
   "source": [
    "## Loading Files"
   ]
  },
  {
   "cell_type": "code",
   "execution_count": 33,
   "id": "869ef202",
   "metadata": {},
   "outputs": [],
   "source": [
    "file_path = \"\" # File is in the parent file\n",
    "file_name = \"Index.xlsx\"\n",
    "\n",
    "FileLoader = file_loader.FileLoader(file_path, file_name)"
   ]
  },
  {
   "cell_type": "code",
   "execution_count": 34,
   "id": "22abcf23",
   "metadata": {},
   "outputs": [],
   "source": [
    "classic_sheet_name, precarity_sheet_name = \"Classique\",\"Précarité\"\n",
    "\n",
    "classic_raw_df, preacarity_raw_df = FileLoader.load_file(classic_sheet_name, precarity_sheet_name)"
   ]
  },
  {
   "cell_type": "code",
   "execution_count": 35,
   "id": "2e997175",
   "metadata": {},
   "outputs": [
    {
     "data": {
      "text/html": [
       "<div>\n",
       "<style scoped>\n",
       "    .dataframe tbody tr th:only-of-type {\n",
       "        vertical-align: middle;\n",
       "    }\n",
       "\n",
       "    .dataframe tbody tr th {\n",
       "        vertical-align: top;\n",
       "    }\n",
       "\n",
       "    .dataframe thead th {\n",
       "        text-align: right;\n",
       "    }\n",
       "</style>\n",
       "<table border=\"1\" class=\"dataframe\">\n",
       "  <thead>\n",
       "    <tr style=\"text-align: right;\">\n",
       "      <th></th>\n",
       "      <th>Date</th>\n",
       "      <th>SPOT</th>\n",
       "    </tr>\n",
       "  </thead>\n",
       "  <tbody>\n",
       "    <tr>\n",
       "      <th>0</th>\n",
       "      <td>2023-04-24</td>\n",
       "      <td>7.212716</td>\n",
       "    </tr>\n",
       "    <tr>\n",
       "      <th>1</th>\n",
       "      <td>2023-05-01</td>\n",
       "      <td>7.321166</td>\n",
       "    </tr>\n",
       "    <tr>\n",
       "      <th>2</th>\n",
       "      <td>2023-05-08</td>\n",
       "      <td>7.360211</td>\n",
       "    </tr>\n",
       "    <tr>\n",
       "      <th>3</th>\n",
       "      <td>2023-05-15</td>\n",
       "      <td>7.380000</td>\n",
       "    </tr>\n",
       "    <tr>\n",
       "      <th>4</th>\n",
       "      <td>2023-05-22</td>\n",
       "      <td>7.400000</td>\n",
       "    </tr>\n",
       "    <tr>\n",
       "      <th>...</th>\n",
       "      <td>...</td>\n",
       "      <td>...</td>\n",
       "    </tr>\n",
       "    <tr>\n",
       "      <th>85</th>\n",
       "      <td>2024-12-16</td>\n",
       "      <td>7.810000</td>\n",
       "    </tr>\n",
       "    <tr>\n",
       "      <th>86</th>\n",
       "      <td>2024-12-23</td>\n",
       "      <td>7.970000</td>\n",
       "    </tr>\n",
       "    <tr>\n",
       "      <th>87</th>\n",
       "      <td>2024-12-30</td>\n",
       "      <td>7.970000</td>\n",
       "    </tr>\n",
       "    <tr>\n",
       "      <th>88</th>\n",
       "      <td>2025-01-06</td>\n",
       "      <td>7.970000</td>\n",
       "    </tr>\n",
       "    <tr>\n",
       "      <th>89</th>\n",
       "      <td>2025-01-13</td>\n",
       "      <td>8.020000</td>\n",
       "    </tr>\n",
       "  </tbody>\n",
       "</table>\n",
       "<p>90 rows × 2 columns</p>\n",
       "</div>"
      ],
      "text/plain": [
       "         Date      SPOT\n",
       "0  2023-04-24  7.212716\n",
       "1  2023-05-01  7.321166\n",
       "2  2023-05-08  7.360211\n",
       "3  2023-05-15  7.380000\n",
       "4  2023-05-22  7.400000\n",
       "..        ...       ...\n",
       "85 2024-12-16  7.810000\n",
       "86 2024-12-23  7.970000\n",
       "87 2024-12-30  7.970000\n",
       "88 2025-01-06  7.970000\n",
       "89 2025-01-13  8.020000\n",
       "\n",
       "[90 rows x 2 columns]"
      ]
     },
     "execution_count": 35,
     "metadata": {},
     "output_type": "execute_result"
    }
   ],
   "source": [
    "classic_raw_df"
   ]
  },
  {
   "cell_type": "code",
   "execution_count": 36,
   "id": "f6de7c03",
   "metadata": {},
   "outputs": [
    {
     "data": {
      "text/html": [
       "<div>\n",
       "<style scoped>\n",
       "    .dataframe tbody tr th:only-of-type {\n",
       "        vertical-align: middle;\n",
       "    }\n",
       "\n",
       "    .dataframe tbody tr th {\n",
       "        vertical-align: top;\n",
       "    }\n",
       "\n",
       "    .dataframe thead th {\n",
       "        text-align: right;\n",
       "    }\n",
       "</style>\n",
       "<table border=\"1\" class=\"dataframe\">\n",
       "  <thead>\n",
       "    <tr style=\"text-align: right;\">\n",
       "      <th></th>\n",
       "      <th>Date</th>\n",
       "      <th>SPOT</th>\n",
       "    </tr>\n",
       "  </thead>\n",
       "  <tbody>\n",
       "    <tr>\n",
       "      <th>0</th>\n",
       "      <td>2023-04-24</td>\n",
       "      <td>7.296783</td>\n",
       "    </tr>\n",
       "    <tr>\n",
       "      <th>1</th>\n",
       "      <td>2023-05-01</td>\n",
       "      <td>7.460184</td>\n",
       "    </tr>\n",
       "    <tr>\n",
       "      <th>2</th>\n",
       "      <td>2023-05-08</td>\n",
       "      <td>7.465385</td>\n",
       "    </tr>\n",
       "    <tr>\n",
       "      <th>3</th>\n",
       "      <td>2023-05-15</td>\n",
       "      <td>7.465385</td>\n",
       "    </tr>\n",
       "    <tr>\n",
       "      <th>4</th>\n",
       "      <td>2023-05-22</td>\n",
       "      <td>7.473191</td>\n",
       "    </tr>\n",
       "    <tr>\n",
       "      <th>...</th>\n",
       "      <td>...</td>\n",
       "      <td>...</td>\n",
       "    </tr>\n",
       "    <tr>\n",
       "      <th>85</th>\n",
       "      <td>2024-12-16</td>\n",
       "      <td>9.720000</td>\n",
       "    </tr>\n",
       "    <tr>\n",
       "      <th>86</th>\n",
       "      <td>2024-12-23</td>\n",
       "      <td>9.820000</td>\n",
       "    </tr>\n",
       "    <tr>\n",
       "      <th>87</th>\n",
       "      <td>2024-12-30</td>\n",
       "      <td>9.820000</td>\n",
       "    </tr>\n",
       "    <tr>\n",
       "      <th>88</th>\n",
       "      <td>2025-01-06</td>\n",
       "      <td>10.030000</td>\n",
       "    </tr>\n",
       "    <tr>\n",
       "      <th>89</th>\n",
       "      <td>2025-01-13</td>\n",
       "      <td>10.410000</td>\n",
       "    </tr>\n",
       "  </tbody>\n",
       "</table>\n",
       "<p>90 rows × 2 columns</p>\n",
       "</div>"
      ],
      "text/plain": [
       "         Date       SPOT\n",
       "0  2023-04-24   7.296783\n",
       "1  2023-05-01   7.460184\n",
       "2  2023-05-08   7.465385\n",
       "3  2023-05-15   7.465385\n",
       "4  2023-05-22   7.473191\n",
       "..        ...        ...\n",
       "85 2024-12-16   9.720000\n",
       "86 2024-12-23   9.820000\n",
       "87 2024-12-30   9.820000\n",
       "88 2025-01-06  10.030000\n",
       "89 2025-01-13  10.410000\n",
       "\n",
       "[90 rows x 2 columns]"
      ]
     },
     "execution_count": 36,
     "metadata": {},
     "output_type": "execute_result"
    }
   ],
   "source": [
    "preacarity_raw_df"
   ]
  },
  {
   "cell_type": "markdown",
   "id": "a5436e04",
   "metadata": {},
   "source": [
    "## Augmented dataframes"
   ]
  },
  {
   "cell_type": "code",
   "execution_count": 37,
   "id": "33d003bc",
   "metadata": {},
   "outputs": [
    {
     "data": {
      "text/html": [
       "<div>\n",
       "<style scoped>\n",
       "    .dataframe tbody tr th:only-of-type {\n",
       "        vertical-align: middle;\n",
       "    }\n",
       "\n",
       "    .dataframe tbody tr th {\n",
       "        vertical-align: top;\n",
       "    }\n",
       "\n",
       "    .dataframe thead th {\n",
       "        text-align: right;\n",
       "    }\n",
       "</style>\n",
       "<table border=\"1\" class=\"dataframe\">\n",
       "  <thead>\n",
       "    <tr style=\"text-align: right;\">\n",
       "      <th></th>\n",
       "      <th>Date</th>\n",
       "      <th>SPOT</th>\n",
       "    </tr>\n",
       "  </thead>\n",
       "  <tbody>\n",
       "    <tr>\n",
       "      <th>0</th>\n",
       "      <td>2023-04-24</td>\n",
       "      <td>7.212716</td>\n",
       "    </tr>\n",
       "    <tr>\n",
       "      <th>1</th>\n",
       "      <td>2023-04-25</td>\n",
       "      <td>7.206350</td>\n",
       "    </tr>\n",
       "    <tr>\n",
       "      <th>2</th>\n",
       "      <td>2023-04-26</td>\n",
       "      <td>7.246352</td>\n",
       "    </tr>\n",
       "    <tr>\n",
       "      <th>3</th>\n",
       "      <td>2023-04-27</td>\n",
       "      <td>7.272463</td>\n",
       "    </tr>\n",
       "    <tr>\n",
       "      <th>4</th>\n",
       "      <td>2023-04-28</td>\n",
       "      <td>7.269450</td>\n",
       "    </tr>\n",
       "    <tr>\n",
       "      <th>...</th>\n",
       "      <td>...</td>\n",
       "      <td>...</td>\n",
       "    </tr>\n",
       "    <tr>\n",
       "      <th>446</th>\n",
       "      <td>2025-01-07</td>\n",
       "      <td>7.986361</td>\n",
       "    </tr>\n",
       "    <tr>\n",
       "      <th>447</th>\n",
       "      <td>2025-01-08</td>\n",
       "      <td>7.952876</td>\n",
       "    </tr>\n",
       "    <tr>\n",
       "      <th>448</th>\n",
       "      <td>2025-01-09</td>\n",
       "      <td>7.981298</td>\n",
       "    </tr>\n",
       "    <tr>\n",
       "      <th>449</th>\n",
       "      <td>2025-01-10</td>\n",
       "      <td>7.989128</td>\n",
       "    </tr>\n",
       "    <tr>\n",
       "      <th>450</th>\n",
       "      <td>2025-01-13</td>\n",
       "      <td>8.020000</td>\n",
       "    </tr>\n",
       "  </tbody>\n",
       "</table>\n",
       "<p>451 rows × 2 columns</p>\n",
       "</div>"
      ],
      "text/plain": [
       "          Date      SPOT\n",
       "0   2023-04-24  7.212716\n",
       "1   2023-04-25  7.206350\n",
       "2   2023-04-26  7.246352\n",
       "3   2023-04-27  7.272463\n",
       "4   2023-04-28  7.269450\n",
       "..         ...       ...\n",
       "446 2025-01-07  7.986361\n",
       "447 2025-01-08  7.952876\n",
       "448 2025-01-09  7.981298\n",
       "449 2025-01-10  7.989128\n",
       "450 2025-01-13  8.020000\n",
       "\n",
       "[451 rows x 2 columns]"
      ]
     },
     "execution_count": 37,
     "metadata": {},
     "output_type": "execute_result"
    }
   ],
   "source": [
    "augmented_classic_df = FileLoader.interpolate_dataframe(classic_raw_df)\n",
    "augmented_classic_df.to_csv(\"augmented_classic_df.csv\", index=False)\n",
    "augmented_classic_df"
   ]
  },
  {
   "cell_type": "code",
   "execution_count": 38,
   "id": "686d1676",
   "metadata": {},
   "outputs": [
    {
     "data": {
      "text/html": [
       "<div>\n",
       "<style scoped>\n",
       "    .dataframe tbody tr th:only-of-type {\n",
       "        vertical-align: middle;\n",
       "    }\n",
       "\n",
       "    .dataframe tbody tr th {\n",
       "        vertical-align: top;\n",
       "    }\n",
       "\n",
       "    .dataframe thead th {\n",
       "        text-align: right;\n",
       "    }\n",
       "</style>\n",
       "<table border=\"1\" class=\"dataframe\">\n",
       "  <thead>\n",
       "    <tr style=\"text-align: right;\">\n",
       "      <th></th>\n",
       "      <th>Date</th>\n",
       "      <th>SPOT</th>\n",
       "    </tr>\n",
       "  </thead>\n",
       "  <tbody>\n",
       "    <tr>\n",
       "      <th>0</th>\n",
       "      <td>2023-04-24</td>\n",
       "      <td>7.296783</td>\n",
       "    </tr>\n",
       "    <tr>\n",
       "      <th>1</th>\n",
       "      <td>2023-04-25</td>\n",
       "      <td>7.294167</td>\n",
       "    </tr>\n",
       "    <tr>\n",
       "      <th>2</th>\n",
       "      <td>2023-04-26</td>\n",
       "      <td>7.310253</td>\n",
       "    </tr>\n",
       "    <tr>\n",
       "      <th>3</th>\n",
       "      <td>2023-04-27</td>\n",
       "      <td>7.333490</td>\n",
       "    </tr>\n",
       "    <tr>\n",
       "      <th>4</th>\n",
       "      <td>2023-04-28</td>\n",
       "      <td>7.464436</td>\n",
       "    </tr>\n",
       "    <tr>\n",
       "      <th>...</th>\n",
       "      <td>...</td>\n",
       "      <td>...</td>\n",
       "    </tr>\n",
       "    <tr>\n",
       "      <th>446</th>\n",
       "      <td>2025-01-07</td>\n",
       "      <td>9.983752</td>\n",
       "    </tr>\n",
       "    <tr>\n",
       "      <th>447</th>\n",
       "      <td>2025-01-08</td>\n",
       "      <td>10.329386</td>\n",
       "    </tr>\n",
       "    <tr>\n",
       "      <th>448</th>\n",
       "      <td>2025-01-09</td>\n",
       "      <td>10.079581</td>\n",
       "    </tr>\n",
       "    <tr>\n",
       "      <th>449</th>\n",
       "      <td>2025-01-10</td>\n",
       "      <td>10.407575</td>\n",
       "    </tr>\n",
       "    <tr>\n",
       "      <th>450</th>\n",
       "      <td>2025-01-13</td>\n",
       "      <td>10.410000</td>\n",
       "    </tr>\n",
       "  </tbody>\n",
       "</table>\n",
       "<p>451 rows × 2 columns</p>\n",
       "</div>"
      ],
      "text/plain": [
       "          Date       SPOT\n",
       "0   2023-04-24   7.296783\n",
       "1   2023-04-25   7.294167\n",
       "2   2023-04-26   7.310253\n",
       "3   2023-04-27   7.333490\n",
       "4   2023-04-28   7.464436\n",
       "..         ...        ...\n",
       "446 2025-01-07   9.983752\n",
       "447 2025-01-08  10.329386\n",
       "448 2025-01-09  10.079581\n",
       "449 2025-01-10  10.407575\n",
       "450 2025-01-13  10.410000\n",
       "\n",
       "[451 rows x 2 columns]"
      ]
     },
     "execution_count": 38,
     "metadata": {},
     "output_type": "execute_result"
    }
   ],
   "source": [
    "augmented_precarity_df = FileLoader.interpolate_dataframe(preacarity_raw_df)\n",
    "augmented_precarity_df.to_csv(\"augmented_precarity_df.csv\", index=False)\n",
    "augmented_precarity_df"
   ]
  },
  {
   "cell_type": "markdown",
   "id": "c7701cda",
   "metadata": {},
   "source": [
    "## Plotting the selected augmented dataframes "
   ]
  },
  {
   "cell_type": "markdown",
   "id": "cf50c99f",
   "metadata": {},
   "source": [
    "We select one iteration of fir the classic and precarirty dataframe."
   ]
  },
  {
   "cell_type": "code",
   "execution_count": 39,
   "id": "21d98306",
   "metadata": {},
   "outputs": [],
   "source": [
    "classic_df = pd.read_csv(\"selected_augmented_classic_df.csv\")\n",
    "precarity_df = pd.read_csv(\"selected_augmented_precarity_df.csv\")"
   ]
  },
  {
   "cell_type": "code",
   "execution_count": 40,
   "id": "c2223577",
   "metadata": {},
   "outputs": [
    {
     "data": {
      "image/png": "[encoded data removed]",
      "text/plain": [
       "<Figure size 640x480 with 1 Axes>"
      ]
     },
     "metadata": {},
     "output_type": "display_data"
    }
   ],
   "source": [
    "plt.figure()\n",
    "\n",
    "plt.plot(classic_df[\"SPOT\"], label = \"Classic EEC\")\n",
    "plt.plot(precarity_df[\"SPOT\"], label = \"Precarity EEC\")\n",
    "plt.legend()\n",
    "plt.xticks(rotation = 90)\n",
    "\n",
    "plt.show()"
   ]
  },
  {
   "cell_type": "markdown",
   "id": "f59913d1",
   "metadata": {},
   "source": [
    "Now we will separate data between data that will be used to train our models and the data which will be used to test our trading strategies."
   ]
  },
  {
   "cell_type": "markdown",
   "id": "cf26b625",
   "metadata": {},
   "source": [
    "From the Graph we can clearly see that the data is non stationnary. We will first differentiate the time series and check weither it has "
   ]
  },
  {
   "cell_type": "code",
   "execution_count": 41,
   "id": "656811d3",
   "metadata": {},
   "outputs": [
    {
     "data": {
      "text/html": [
       "<div>\n",
       "<style scoped>\n",
       "    .dataframe tbody tr th:only-of-type {\n",
       "        vertical-align: middle;\n",
       "    }\n",
       "\n",
       "    .dataframe tbody tr th {\n",
       "        vertical-align: top;\n",
       "    }\n",
       "\n",
       "    .dataframe thead th {\n",
       "        text-align: right;\n",
       "    }\n",
       "</style>\n",
       "<table border=\"1\" class=\"dataframe\">\n",
       "  <thead>\n",
       "    <tr style=\"text-align: right;\">\n",
       "      <th></th>\n",
       "      <th>Date</th>\n",
       "      <th>SPOT</th>\n",
       "      <th>Delta</th>\n",
       "    </tr>\n",
       "  </thead>\n",
       "  <tbody>\n",
       "    <tr>\n",
       "      <th>1</th>\n",
       "      <td>2023-04-25</td>\n",
       "      <td>7.174503</td>\n",
       "      <td>-0.038213</td>\n",
       "    </tr>\n",
       "    <tr>\n",
       "      <th>2</th>\n",
       "      <td>2023-04-26</td>\n",
       "      <td>7.238924</td>\n",
       "      <td>0.064421</td>\n",
       "    </tr>\n",
       "    <tr>\n",
       "      <th>3</th>\n",
       "      <td>2023-04-27</td>\n",
       "      <td>7.224501</td>\n",
       "      <td>-0.014423</td>\n",
       "    </tr>\n",
       "    <tr>\n",
       "      <th>4</th>\n",
       "      <td>2023-04-28</td>\n",
       "      <td>7.249729</td>\n",
       "      <td>0.025228</td>\n",
       "    </tr>\n",
       "    <tr>\n",
       "      <th>5</th>\n",
       "      <td>2023-05-01</td>\n",
       "      <td>7.321166</td>\n",
       "      <td>0.071437</td>\n",
       "    </tr>\n",
       "    <tr>\n",
       "      <th>...</th>\n",
       "      <td>...</td>\n",
       "      <td>...</td>\n",
       "      <td>...</td>\n",
       "    </tr>\n",
       "    <tr>\n",
       "      <th>446</th>\n",
       "      <td>2025-01-07</td>\n",
       "      <td>7.969759</td>\n",
       "      <td>-0.000241</td>\n",
       "    </tr>\n",
       "    <tr>\n",
       "      <th>447</th>\n",
       "      <td>2025-01-08</td>\n",
       "      <td>7.969839</td>\n",
       "      <td>0.000079</td>\n",
       "    </tr>\n",
       "    <tr>\n",
       "      <th>448</th>\n",
       "      <td>2025-01-09</td>\n",
       "      <td>7.986663</td>\n",
       "      <td>0.016825</td>\n",
       "    </tr>\n",
       "    <tr>\n",
       "      <th>449</th>\n",
       "      <td>2025-01-10</td>\n",
       "      <td>7.988577</td>\n",
       "      <td>0.001914</td>\n",
       "    </tr>\n",
       "    <tr>\n",
       "      <th>450</th>\n",
       "      <td>2025-01-13</td>\n",
       "      <td>8.020000</td>\n",
       "      <td>0.031423</td>\n",
       "    </tr>\n",
       "  </tbody>\n",
       "</table>\n",
       "<p>450 rows × 3 columns</p>\n",
       "</div>"
      ],
      "text/plain": [
       "           Date      SPOT     Delta\n",
       "1    2023-04-25  7.174503 -0.038213\n",
       "2    2023-04-26  7.238924  0.064421\n",
       "3    2023-04-27  7.224501 -0.014423\n",
       "4    2023-04-28  7.249729  0.025228\n",
       "5    2023-05-01  7.321166  0.071437\n",
       "..          ...       ...       ...\n",
       "446  2025-01-07  7.969759 -0.000241\n",
       "447  2025-01-08  7.969839  0.000079\n",
       "448  2025-01-09  7.986663  0.016825\n",
       "449  2025-01-10  7.988577  0.001914\n",
       "450  2025-01-13  8.020000  0.031423\n",
       "\n",
       "[450 rows x 3 columns]"
      ]
     },
     "execution_count": 41,
     "metadata": {},
     "output_type": "execute_result"
    }
   ],
   "source": [
    "classic_df[\"Delta\"] = classic_df[\"SPOT\"] - classic_df[\"SPOT\"].shift(1)\n",
    "classic_df.dropna(inplace = True)\n",
    "classic_df"
   ]
  },
  {
   "cell_type": "markdown",
   "id": "7dbed25a",
   "metadata": {},
   "source": [
    "Neural Networks do not necessarily need stationnary data. However they perform better on normalized data. Hence we create the normalized data using Min-Max Scaler as the data is not normally distributed :"
   ]
  },
  {
   "cell_type": "code",
   "execution_count": 42,
   "id": "216cbc73",
   "metadata": {},
   "outputs": [
    {
     "data": {
      "text/html": [
       "<div>\n",
       "<style scoped>\n",
       "    .dataframe tbody tr th:only-of-type {\n",
       "        vertical-align: middle;\n",
       "    }\n",
       "\n",
       "    .dataframe tbody tr th {\n",
       "        vertical-align: top;\n",
       "    }\n",
       "\n",
       "    .dataframe thead th {\n",
       "        text-align: right;\n",
       "    }\n",
       "</style>\n",
       "<table border=\"1\" class=\"dataframe\">\n",
       "  <thead>\n",
       "    <tr style=\"text-align: right;\">\n",
       "      <th></th>\n",
       "      <th>Date</th>\n",
       "      <th>SPOT</th>\n",
       "      <th>Delta</th>\n",
       "      <th>Normalized Spot</th>\n",
       "    </tr>\n",
       "  </thead>\n",
       "  <tbody>\n",
       "    <tr>\n",
       "      <th>1</th>\n",
       "      <td>2023-04-25</td>\n",
       "      <td>7.174503</td>\n",
       "      <td>-0.038213</td>\n",
       "      <td>0.095268</td>\n",
       "    </tr>\n",
       "    <tr>\n",
       "      <th>2</th>\n",
       "      <td>2023-04-26</td>\n",
       "      <td>7.238924</td>\n",
       "      <td>0.064421</td>\n",
       "      <td>0.129266</td>\n",
       "    </tr>\n",
       "    <tr>\n",
       "      <th>3</th>\n",
       "      <td>2023-04-27</td>\n",
       "      <td>7.224501</td>\n",
       "      <td>-0.014423</td>\n",
       "      <td>0.121654</td>\n",
       "    </tr>\n",
       "    <tr>\n",
       "      <th>4</th>\n",
       "      <td>2023-04-28</td>\n",
       "      <td>7.249729</td>\n",
       "      <td>0.025228</td>\n",
       "      <td>0.134968</td>\n",
       "    </tr>\n",
       "    <tr>\n",
       "      <th>5</th>\n",
       "      <td>2023-05-01</td>\n",
       "      <td>7.321166</td>\n",
       "      <td>0.071437</td>\n",
       "      <td>0.172669</td>\n",
       "    </tr>\n",
       "    <tr>\n",
       "      <th>...</th>\n",
       "      <td>...</td>\n",
       "      <td>...</td>\n",
       "      <td>...</td>\n",
       "      <td>...</td>\n",
       "    </tr>\n",
       "    <tr>\n",
       "      <th>446</th>\n",
       "      <td>2025-01-07</td>\n",
       "      <td>7.969759</td>\n",
       "      <td>-0.000241</td>\n",
       "      <td>0.514964</td>\n",
       "    </tr>\n",
       "    <tr>\n",
       "      <th>447</th>\n",
       "      <td>2025-01-08</td>\n",
       "      <td>7.969839</td>\n",
       "      <td>0.000079</td>\n",
       "      <td>0.515006</td>\n",
       "    </tr>\n",
       "    <tr>\n",
       "      <th>448</th>\n",
       "      <td>2025-01-09</td>\n",
       "      <td>7.986663</td>\n",
       "      <td>0.016825</td>\n",
       "      <td>0.523885</td>\n",
       "    </tr>\n",
       "    <tr>\n",
       "      <th>449</th>\n",
       "      <td>2025-01-10</td>\n",
       "      <td>7.988577</td>\n",
       "      <td>0.001914</td>\n",
       "      <td>0.524895</td>\n",
       "    </tr>\n",
       "    <tr>\n",
       "      <th>450</th>\n",
       "      <td>2025-01-13</td>\n",
       "      <td>8.020000</td>\n",
       "      <td>0.031423</td>\n",
       "      <td>0.541478</td>\n",
       "    </tr>\n",
       "  </tbody>\n",
       "</table>\n",
       "<p>450 rows × 4 columns</p>\n",
       "</div>"
      ],
      "text/plain": [
       "           Date      SPOT     Delta  Normalized Spot\n",
       "1    2023-04-25  7.174503 -0.038213         0.095268\n",
       "2    2023-04-26  7.238924  0.064421         0.129266\n",
       "3    2023-04-27  7.224501 -0.014423         0.121654\n",
       "4    2023-04-28  7.249729  0.025228         0.134968\n",
       "5    2023-05-01  7.321166  0.071437         0.172669\n",
       "..          ...       ...       ...              ...\n",
       "446  2025-01-07  7.969759 -0.000241         0.514964\n",
       "447  2025-01-08  7.969839  0.000079         0.515006\n",
       "448  2025-01-09  7.986663  0.016825         0.523885\n",
       "449  2025-01-10  7.988577  0.001914         0.524895\n",
       "450  2025-01-13  8.020000  0.031423         0.541478\n",
       "\n",
       "[450 rows x 4 columns]"
      ]
     },
     "execution_count": 42,
     "metadata": {},
     "output_type": "execute_result"
    }
   ],
   "source": [
    "minmax_scaler = MinMaxScaler()\n",
    "classic_df[\"Normalized Spot\"] = minmax_scaler.fit_transform(classic_df[[\"SPOT\"]])\n",
    "classic_df"
   ]
  },
  {
   "cell_type": "code",
   "execution_count": 43,
   "id": "b616f060",
   "metadata": {},
   "outputs": [],
   "source": [
    "classic_train_df, classic_test_df = classic_df[:int(0.80*len(classic_df))], classic_df[int(0.80*len(classic_df)):]"
   ]
  },
  {
   "cell_type": "code",
   "execution_count": 44,
   "id": "b922b7d1",
   "metadata": {},
   "outputs": [
    {
     "data": {
      "text/html": [
       "<div>\n",
       "<style scoped>\n",
       "    .dataframe tbody tr th:only-of-type {\n",
       "        vertical-align: middle;\n",
       "    }\n",
       "\n",
       "    .dataframe tbody tr th {\n",
       "        vertical-align: top;\n",
       "    }\n",
       "\n",
       "    .dataframe thead th {\n",
       "        text-align: right;\n",
       "    }\n",
       "</style>\n",
       "<table border=\"1\" class=\"dataframe\">\n",
       "  <thead>\n",
       "    <tr style=\"text-align: right;\">\n",
       "      <th></th>\n",
       "      <th>Date</th>\n",
       "      <th>SPOT</th>\n",
       "      <th>Delta</th>\n",
       "      <th>Normalized Spot</th>\n",
       "    </tr>\n",
       "  </thead>\n",
       "  <tbody>\n",
       "    <tr>\n",
       "      <th>1</th>\n",
       "      <td>2023-04-25</td>\n",
       "      <td>7.174503</td>\n",
       "      <td>-0.038213</td>\n",
       "      <td>0.095268</td>\n",
       "    </tr>\n",
       "    <tr>\n",
       "      <th>2</th>\n",
       "      <td>2023-04-26</td>\n",
       "      <td>7.238924</td>\n",
       "      <td>0.064421</td>\n",
       "      <td>0.129266</td>\n",
       "    </tr>\n",
       "    <tr>\n",
       "      <th>3</th>\n",
       "      <td>2023-04-27</td>\n",
       "      <td>7.224501</td>\n",
       "      <td>-0.014423</td>\n",
       "      <td>0.121654</td>\n",
       "    </tr>\n",
       "    <tr>\n",
       "      <th>4</th>\n",
       "      <td>2023-04-28</td>\n",
       "      <td>7.249729</td>\n",
       "      <td>0.025228</td>\n",
       "      <td>0.134968</td>\n",
       "    </tr>\n",
       "    <tr>\n",
       "      <th>5</th>\n",
       "      <td>2023-05-01</td>\n",
       "      <td>7.321166</td>\n",
       "      <td>0.071437</td>\n",
       "      <td>0.172669</td>\n",
       "    </tr>\n",
       "    <tr>\n",
       "      <th>...</th>\n",
       "      <td>...</td>\n",
       "      <td>...</td>\n",
       "      <td>...</td>\n",
       "      <td>...</td>\n",
       "    </tr>\n",
       "    <tr>\n",
       "      <th>356</th>\n",
       "      <td>2024-09-03</td>\n",
       "      <td>7.939913</td>\n",
       "      <td>-0.013183</td>\n",
       "      <td>0.499213</td>\n",
       "    </tr>\n",
       "    <tr>\n",
       "      <th>357</th>\n",
       "      <td>2024-09-04</td>\n",
       "      <td>7.993982</td>\n",
       "      <td>0.054069</td>\n",
       "      <td>0.527747</td>\n",
       "    </tr>\n",
       "    <tr>\n",
       "      <th>358</th>\n",
       "      <td>2024-09-05</td>\n",
       "      <td>8.041032</td>\n",
       "      <td>0.047050</td>\n",
       "      <td>0.552578</td>\n",
       "    </tr>\n",
       "    <tr>\n",
       "      <th>359</th>\n",
       "      <td>2024-09-06</td>\n",
       "      <td>8.013912</td>\n",
       "      <td>-0.027120</td>\n",
       "      <td>0.538266</td>\n",
       "    </tr>\n",
       "    <tr>\n",
       "      <th>360</th>\n",
       "      <td>2024-09-09</td>\n",
       "      <td>8.061539</td>\n",
       "      <td>0.047627</td>\n",
       "      <td>0.563401</td>\n",
       "    </tr>\n",
       "  </tbody>\n",
       "</table>\n",
       "<p>360 rows × 4 columns</p>\n",
       "</div>"
      ],
      "text/plain": [
       "           Date      SPOT     Delta  Normalized Spot\n",
       "1    2023-04-25  7.174503 -0.038213         0.095268\n",
       "2    2023-04-26  7.238924  0.064421         0.129266\n",
       "3    2023-04-27  7.224501 -0.014423         0.121654\n",
       "4    2023-04-28  7.249729  0.025228         0.134968\n",
       "5    2023-05-01  7.321166  0.071437         0.172669\n",
       "..          ...       ...       ...              ...\n",
       "356  2024-09-03  7.939913 -0.013183         0.499213\n",
       "357  2024-09-04  7.993982  0.054069         0.527747\n",
       "358  2024-09-05  8.041032  0.047050         0.552578\n",
       "359  2024-09-06  8.013912 -0.027120         0.538266\n",
       "360  2024-09-09  8.061539  0.047627         0.563401\n",
       "\n",
       "[360 rows x 4 columns]"
      ]
     },
     "execution_count": 44,
     "metadata": {},
     "output_type": "execute_result"
    }
   ],
   "source": [
    "classic_train_df"
   ]
  },
  {
   "cell_type": "code",
   "execution_count": 45,
   "id": "fd27fa53",
   "metadata": {},
   "outputs": [
    {
     "data": {
      "text/html": [
       "<div>\n",
       "<style scoped>\n",
       "    .dataframe tbody tr th:only-of-type {\n",
       "        vertical-align: middle;\n",
       "    }\n",
       "\n",
       "    .dataframe tbody tr th {\n",
       "        vertical-align: top;\n",
       "    }\n",
       "\n",
       "    .dataframe thead th {\n",
       "        text-align: right;\n",
       "    }\n",
       "</style>\n",
       "<table border=\"1\" class=\"dataframe\">\n",
       "  <thead>\n",
       "    <tr style=\"text-align: right;\">\n",
       "      <th></th>\n",
       "      <th>Date</th>\n",
       "      <th>SPOT</th>\n",
       "      <th>Delta</th>\n",
       "      <th>Normalized Spot</th>\n",
       "    </tr>\n",
       "  </thead>\n",
       "  <tbody>\n",
       "    <tr>\n",
       "      <th>361</th>\n",
       "      <td>2024-09-10</td>\n",
       "      <td>8.089756</td>\n",
       "      <td>0.028217</td>\n",
       "      <td>0.578292</td>\n",
       "    </tr>\n",
       "    <tr>\n",
       "      <th>362</th>\n",
       "      <td>2024-09-11</td>\n",
       "      <td>8.101701</td>\n",
       "      <td>0.011945</td>\n",
       "      <td>0.584596</td>\n",
       "    </tr>\n",
       "    <tr>\n",
       "      <th>363</th>\n",
       "      <td>2024-09-12</td>\n",
       "      <td>8.149817</td>\n",
       "      <td>0.048116</td>\n",
       "      <td>0.609989</td>\n",
       "    </tr>\n",
       "    <tr>\n",
       "      <th>364</th>\n",
       "      <td>2024-09-13</td>\n",
       "      <td>8.259876</td>\n",
       "      <td>0.110059</td>\n",
       "      <td>0.668073</td>\n",
       "    </tr>\n",
       "    <tr>\n",
       "      <th>365</th>\n",
       "      <td>2024-09-16</td>\n",
       "      <td>8.274618</td>\n",
       "      <td>0.014742</td>\n",
       "      <td>0.675853</td>\n",
       "    </tr>\n",
       "    <tr>\n",
       "      <th>...</th>\n",
       "      <td>...</td>\n",
       "      <td>...</td>\n",
       "      <td>...</td>\n",
       "      <td>...</td>\n",
       "    </tr>\n",
       "    <tr>\n",
       "      <th>446</th>\n",
       "      <td>2025-01-07</td>\n",
       "      <td>7.969759</td>\n",
       "      <td>-0.000241</td>\n",
       "      <td>0.514964</td>\n",
       "    </tr>\n",
       "    <tr>\n",
       "      <th>447</th>\n",
       "      <td>2025-01-08</td>\n",
       "      <td>7.969839</td>\n",
       "      <td>0.000079</td>\n",
       "      <td>0.515006</td>\n",
       "    </tr>\n",
       "    <tr>\n",
       "      <th>448</th>\n",
       "      <td>2025-01-09</td>\n",
       "      <td>7.986663</td>\n",
       "      <td>0.016825</td>\n",
       "      <td>0.523885</td>\n",
       "    </tr>\n",
       "    <tr>\n",
       "      <th>449</th>\n",
       "      <td>2025-01-10</td>\n",
       "      <td>7.988577</td>\n",
       "      <td>0.001914</td>\n",
       "      <td>0.524895</td>\n",
       "    </tr>\n",
       "    <tr>\n",
       "      <th>450</th>\n",
       "      <td>2025-01-13</td>\n",
       "      <td>8.020000</td>\n",
       "      <td>0.031423</td>\n",
       "      <td>0.541478</td>\n",
       "    </tr>\n",
       "  </tbody>\n",
       "</table>\n",
       "<p>90 rows × 4 columns</p>\n",
       "</div>"
      ],
      "text/plain": [
       "           Date      SPOT     Delta  Normalized Spot\n",
       "361  2024-09-10  8.089756  0.028217         0.578292\n",
       "362  2024-09-11  8.101701  0.011945         0.584596\n",
       "363  2024-09-12  8.149817  0.048116         0.609989\n",
       "364  2024-09-13  8.259876  0.110059         0.668073\n",
       "365  2024-09-16  8.274618  0.014742         0.675853\n",
       "..          ...       ...       ...              ...\n",
       "446  2025-01-07  7.969759 -0.000241         0.514964\n",
       "447  2025-01-08  7.969839  0.000079         0.515006\n",
       "448  2025-01-09  7.986663  0.016825         0.523885\n",
       "449  2025-01-10  7.988577  0.001914         0.524895\n",
       "450  2025-01-13  8.020000  0.031423         0.541478\n",
       "\n",
       "[90 rows x 4 columns]"
      ]
     },
     "execution_count": 45,
     "metadata": {},
     "output_type": "execute_result"
    }
   ],
   "source": [
    "classic_test_df"
   ]
  },
  {
   "cell_type": "markdown",
   "id": "3d565f44",
   "metadata": {},
   "source": [
    "# Data forecasting"
   ]
  },
  {
   "cell_type": "markdown",
   "id": "c9639d7d",
   "metadata": {},
   "source": [
    "## Classic EEC"
   ]
  },
  {
   "cell_type": "markdown",
   "id": "1e236f22",
   "metadata": {},
   "source": [
    "### ARMA"
   ]
  },
  {
   "cell_type": "code",
   "execution_count": 46,
   "id": "f2c316d0",
   "metadata": {},
   "outputs": [
    {
     "name": "stdout",
     "output_type": "stream",
     "text": [
      "p-value: 8.410526298028812e-14\n",
      "Result: reject unit root -> series is stationary (at 5% level).\n"
     ]
    }
   ],
   "source": [
    "result = adfuller(classic_train_df[\"Delta\"], regression='c', autolag='AIC')\n",
    "\n",
    "adf_stat, pvalue, usedlag, nobs, crit_values, icbest = result\n",
    "\n",
    "print(f\"p-value: {pvalue}\")\n",
    "\n",
    "if pvalue < 0.05:\n",
    "    print(\"Result: reject unit root -> series is stationary (at 5% level).\")\n",
    "else:\n",
    "    print(\"Result: fail to reject unit root -> series is non-stationary.\")"
   ]
  },
  {
   "cell_type": "code",
   "execution_count": 47,
   "id": "3564bd7f",
   "metadata": {},
   "outputs": [
    {
     "data": {
      "image/png": "[encoded data removed]",
      "text/plain": [
       "<Figure size 640x480 with 1 Axes>"
      ]
     },
     "metadata": {},
     "output_type": "display_data"
    }
   ],
   "source": [
    "#Spltting the data into train and test sets\n",
    "\n",
    "plt.figure()\n",
    "plt.plot(classic_train_df[\"Delta\"], label=\"Train data\")\n",
    "plt.plot(classic_test_df[\"Delta\"], label=\"Test data\")\n",
    "plt.legend()\n",
    "plt.show()"
   ]
  },
  {
   "cell_type": "markdown",
   "id": "76389958",
   "metadata": {},
   "source": [
    "We create an ARMA model (in reality ARIMA as the series was already differentiated), using a class built on our own."
   ]
  },
  {
   "cell_type": "code",
   "execution_count": 48,
   "id": "c2bbd0f9",
   "metadata": {},
   "outputs": [],
   "source": [
    "# Initiate the ARMA class\n",
    "\n",
    "LineaTimeSeriesModel = linear_time_series.LineaTimeSeriesModel(classic_train_df[\"Delta\"])"
   ]
  },
  {
   "cell_type": "code",
   "execution_count": 49,
   "id": "1b6d0b83",
   "metadata": {},
   "outputs": [
    {
     "name": "stdout",
     "output_type": "stream",
     "text": [
      "Max MA order: 2, Max AR order: 3\n"
     ]
    }
   ],
   "source": [
    "# Selecting the last relevant lags\n",
    "\n",
    "ma_max_order = LineaTimeSeriesModel.get_ma_max_order()\n",
    "ar_max_order = LineaTimeSeriesModel.get_ar_max_order()\n",
    "print(f\"Max MA order: {ma_max_order}, Max AR order: {ar_max_order}\")"
   ]
  },
  {
   "cell_type": "code",
   "execution_count": 50,
   "id": "5e14bc6a",
   "metadata": {},
   "outputs": [
    {
     "name": "stdout",
     "output_type": "stream",
     "text": [
      "The p-value of the L-JungBox test is 0.0010769501074859085 for the model ARIMA(0,0,0) with AIC = -865.2753020188441\n",
      "The p-value of the L-JungBox test is 0.00019603097391850257 for the model ARIMA(1,0,0) with AIC = -868.6999244134302\n",
      "The p-value of the L-JungBox test is 0.16297763069657353 for the model ARIMA(2,0,0) with AIC = -876.2575485804443\n",
      "The p-value of the L-JungBox test is 0.7157039287487104 for the model ARIMA(3,0,0) with AIC = -880.290798166852\n",
      "The p-value of the L-JungBox test is 0.00035552134315067045 for the model ARIMA(0,0,1) with AIC = -867.1486027223268\n",
      "The p-value of the L-JungBox test is 0.000996118074009808 for the model ARIMA(1,0,1) with AIC = -869.6690742834808\n",
      "The p-value of the L-JungBox test is 0.9172372412594008 for the model ARIMA(2,0,1) with AIC = -883.1324185428401\n",
      "The p-value of the L-JungBox test is 0.9436762578020534 for the model ARIMA(3,0,1) with AIC = -881.5935715246574\n",
      "The p-value of the L-JungBox test is 0.28029800957465645 for the model ARIMA(0,0,2) with AIC = -879.2671580763902\n",
      "The p-value of the L-JungBox test is 0.7646494447600677 for the model ARIMA(1,0,2) with AIC = -880.3339941603922\n",
      "The p-value of the L-JungBox test is 0.9331632727242808 for the model ARIMA(2,0,2) with AIC = -881.3984165633323\n",
      "The p-value of the L-JungBox test is 0.9486866779357128 for the model ARIMA(3,0,2) with AIC = -880.1122307006603\n"
     ]
    },
    {
     "data": {
      "text/plain": [
       "{'order': (2, 0, 1),\n",
       " 'model': <statsmodels.tsa.arima.model.ARIMAResultsWrapper at 0x1ba926a31d0>,\n",
       " 'aic': np.float64(-883.1324185428401)}"
      ]
     },
     "execution_count": 50,
     "metadata": {},
     "output_type": "execute_result"
    }
   ],
   "source": [
    "# Selecting the best model according to AIC using the maximum relevant lags\n",
    "\n",
    "warnings.filterwarnings(\"ignore\")\n",
    "\n",
    "selected_models = LineaTimeSeriesModel.select_model(ma_max_order, ar_max_order)\n",
    "selected_models[\"aic\"]"
   ]
  },
  {
   "cell_type": "code",
   "execution_count": 51,
   "id": "bce72b34",
   "metadata": {},
   "outputs": [
    {
     "data": {
      "image/png": "[encoded data removed]",
      "text/plain": [
       "<Figure size 640x480 with 1 Axes>"
      ]
     },
     "metadata": {},
     "output_type": "display_data"
    }
   ],
   "source": [
    "# Prediction using our model\n",
    "train_pred, test_pred = LineaTimeSeriesModel.model_prediction(selected_models[\"aic\"][\"model\"])\n",
    "prediction = np.concatenate([train_pred, test_pred])\n",
    "\n",
    "# Cumulative sum to get back to the original scale\n",
    "cum_train_pred = np.cumsum(train_pred) + classic_df[\"SPOT\"].iloc[0]\n",
    "cum_test_pred = np.cumsum(test_pred) + cum_train_pred.iloc[-1]\n",
    "cum_prediction = np.cumsum(prediction) + classic_df[\"SPOT\"].iloc[0]\n",
    "\n",
    "plt.figure()\n",
    "plt.title(\"Classic EEC - ARMA Model Prediction\")\n",
    "plt.plot(classic_train_df[\"SPOT\"], label=\"Real\")\n",
    "plt.plot(cum_prediction, label=\"Prediction\")\n",
    "plt.legend()\n",
    "plt.show()"
   ]
  },
  {
   "cell_type": "code",
   "execution_count": 52,
   "id": "ce8759b3",
   "metadata": {},
   "outputs": [
    {
     "data": {
      "text/plain": [
       "{'train': {'mae': 7.713470145971037,\n",
       "  'rmse': 7.717456448645649,\n",
       "  'mape': inf,\n",
       "  'r2': -20745.296219818112},\n",
       " 'test': {'mae': nan, 'rmse': 7.976731219354144, 'mape': nan, 'r2': 1.0}}"
      ]
     },
     "execution_count": 52,
     "metadata": {},
     "output_type": "execute_result"
    }
   ],
   "source": [
    "# Asssessing performances of ARIMA model\n",
    "arima_model_metrics = tools.model_metrics(LineaTimeSeriesModel.train_dependent, cum_train_pred, LineaTimeSeriesModel.test_dependent, cum_test_pred)\n",
    "\n",
    "all_metrics = arima_model_metrics.get_all_metrics()\n",
    "all_metrics"
   ]
  },
  {
   "cell_type": "markdown",
   "id": "caeb3fb2",
   "metadata": {},
   "source": [
    "### RNN"
   ]
  },
  {
   "cell_type": "markdown",
   "id": "8594a441",
   "metadata": {},
   "source": [
    "#### GRU"
   ]
  },
  {
   "cell_type": "markdown",
   "id": "c3359e1b",
   "metadata": {},
   "source": [
    "Parameters to optimize :\n",
    "\n",
    "-   Lookback : Number of points used to predict the next oneNombre de points utilisés pour prédire le point suivant\n",
    "-   Hidden size : Number of GRU cells per layer\n",
    "-   Number of layers : Number of layers\n",
    "\n",
    "\n",
    "*NB : After having conducted many tests 1 layer seems to provide better results than 2 layers*"
   ]
  },
  {
   "cell_type": "code",
   "execution_count": 53,
   "id": "943a7a29",
   "metadata": {},
   "outputs": [],
   "source": [
    "# Initializing the GRU class\n",
    "GRU = gated_reccurent_unit.GRU(classic_df[\"Normalized Spot\"], train_test_ratio=0.8)"
   ]
  },
  {
   "cell_type": "markdown",
   "id": "c900c2eb",
   "metadata": {},
   "source": [
    "##### Tuning Training Parameters"
   ]
  },
  {
   "cell_type": "code",
   "execution_count": 54,
   "id": "7990cb84",
   "metadata": {},
   "outputs": [
    {
     "name": "stdout",
     "output_type": "stream",
     "text": [
      "Training results: cv_mse : 0.020553607493638992, val_size : 200, n_splits : 5\n"
     ]
    },
    {
     "data": {
      "text/plain": [
       "{'lr': 0.1, 'l2': 1e-06, 'epochs': 60}"
      ]
     },
     "execution_count": 54,
     "metadata": {},
     "output_type": "execute_result"
    }
   ],
   "source": [
    "train_param_grid = {\n",
    "    \"l2\" : [1e-02, 1e-03, 1e-04, 1e-05, 1e-06],\n",
    "    \"lrs\" : [1, 0.1, 0.01, 0.001],\n",
    "    \"epochs\" : [20, 30, 40, 60, 80, 100, 120, 140],\n",
    "    \"epochs_mid\" : 80,\n",
    "    \"patience\": 10,\n",
    "    \"min_delta\": 1e-4,\n",
    "    \"n_splits\": 5,\n",
    "    \"val_size\": 200,\n",
    "    \"min_train_size\" : 50     \n",
    "}\n",
    "\n",
    "model_param = {\n",
    "    \"lookback\": 40,\n",
    "    \"hidden_size\": 16,\n",
    "    \"num_layers\": 1,\n",
    "}\n",
    "GRU.tune_train(train_param_grid, model_param)\n",
    "\n",
    "GRU.training_params"
   ]
  },
  {
   "cell_type": "markdown",
   "id": "965bb98f",
   "metadata": {},
   "source": [
    "##### Tuning Model Parameters"
   ]
  },
  {
   "cell_type": "code",
   "execution_count": 55,
   "id": "ec989b42",
   "metadata": {},
   "outputs": [
    {
     "name": "stdout",
     "output_type": "stream",
     "text": [
      "lookback=10, hidden=2, layers=1 → MSE=0.000860\n",
      "lookback=10, hidden=2, layers=2 → MSE=0.001132\n",
      "lookback=10, hidden=4, layers=1 → MSE=0.000772\n",
      "lookback=10, hidden=4, layers=2 → MSE=0.000839\n",
      "lookback=10, hidden=8, layers=1 → MSE=0.000787\n",
      "lookback=10, hidden=8, layers=2 → MSE=0.000780\n",
      "lookback=10, hidden=16, layers=1 → MSE=0.001456\n",
      "lookback=10, hidden=16, layers=2 → MSE=0.004196\n",
      "lookback=15, hidden=2, layers=1 → MSE=0.001157\n",
      "lookback=15, hidden=2, layers=2 → MSE=0.004210\n",
      "lookback=15, hidden=4, layers=1 → MSE=0.000822\n",
      "lookback=15, hidden=4, layers=2 → MSE=0.001606\n",
      "lookback=15, hidden=8, layers=1 → MSE=0.001328\n",
      "lookback=15, hidden=8, layers=2 → MSE=0.002033\n",
      "lookback=15, hidden=16, layers=1 → MSE=0.000829\n",
      "lookback=15, hidden=16, layers=2 → MSE=0.000917\n",
      "lookback=20, hidden=2, layers=1 → MSE=0.000998\n",
      "lookback=20, hidden=2, layers=2 → MSE=0.001256\n",
      "lookback=20, hidden=4, layers=1 → MSE=0.000945\n",
      "lookback=20, hidden=4, layers=2 → MSE=0.001790\n",
      "lookback=20, hidden=8, layers=1 → MSE=0.000860\n",
      "lookback=20, hidden=8, layers=2 → MSE=0.000980\n",
      "lookback=20, hidden=16, layers=1 → MSE=0.002385\n",
      "lookback=20, hidden=16, layers=2 → MSE=0.000811\n",
      "lookback=26, hidden=2, layers=1 → MSE=0.002497\n",
      "lookback=26, hidden=2, layers=2 → MSE=0.010507\n",
      "lookback=26, hidden=4, layers=1 → MSE=0.002032\n",
      "lookback=26, hidden=4, layers=2 → MSE=0.001119\n",
      "lookback=26, hidden=8, layers=1 → MSE=0.001683\n",
      "lookback=26, hidden=8, layers=2 → MSE=0.001341\n",
      "lookback=26, hidden=16, layers=1 → MSE=0.001133\n",
      "lookback=26, hidden=16, layers=2 → MSE=0.002363\n",
      "lookback=31, hidden=2, layers=1 → MSE=0.001259\n",
      "lookback=31, hidden=2, layers=2 → MSE=0.005897\n",
      "lookback=31, hidden=4, layers=1 → MSE=0.001386\n",
      "lookback=31, hidden=4, layers=2 → MSE=0.001489\n",
      "lookback=31, hidden=8, layers=1 → MSE=0.001079\n",
      "lookback=31, hidden=8, layers=2 → MSE=0.001176\n",
      "lookback=31, hidden=16, layers=1 → MSE=0.001638\n",
      "lookback=31, hidden=16, layers=2 → MSE=0.001048\n",
      "lookback=37, hidden=2, layers=1 → MSE=0.001358\n",
      "lookback=37, hidden=2, layers=2 → MSE=0.002111\n",
      "lookback=37, hidden=4, layers=1 → MSE=0.001427\n",
      "lookback=37, hidden=4, layers=2 → MSE=0.001794\n",
      "lookback=37, hidden=8, layers=1 → MSE=0.001192\n",
      "lookback=37, hidden=8, layers=2 → MSE=0.001239\n",
      "lookback=37, hidden=16, layers=1 → MSE=0.001163\n",
      "lookback=37, hidden=16, layers=2 → MSE=0.004817\n",
      "lookback=42, hidden=2, layers=1 → MSE=0.001185\n",
      "lookback=42, hidden=2, layers=2 → MSE=0.001774\n",
      "lookback=42, hidden=4, layers=1 → MSE=0.004652\n",
      "lookback=42, hidden=4, layers=2 → MSE=0.003226\n",
      "lookback=42, hidden=8, layers=1 → MSE=0.001606\n",
      "lookback=42, hidden=8, layers=2 → MSE=0.001296\n",
      "lookback=42, hidden=16, layers=1 → MSE=0.001271\n",
      "lookback=42, hidden=16, layers=2 → MSE=0.001341\n",
      "lookback=48, hidden=2, layers=1 → MSE=0.020869\n",
      "lookback=48, hidden=2, layers=2 → MSE=0.002154\n",
      "lookback=48, hidden=4, layers=1 → MSE=0.001446\n",
      "lookback=48, hidden=4, layers=2 → MSE=0.002765\n",
      "lookback=48, hidden=8, layers=1 → MSE=0.001596\n",
      "lookback=48, hidden=8, layers=2 → MSE=0.001620\n",
      "lookback=48, hidden=16, layers=1 → MSE=0.001963\n",
      "lookback=48, hidden=16, layers=2 → MSE=0.001748\n",
      "lookback=53, hidden=2, layers=1 → MSE=0.005152\n",
      "lookback=53, hidden=2, layers=2 → MSE=0.002005\n",
      "lookback=53, hidden=4, layers=1 → MSE=0.003023\n",
      "lookback=53, hidden=4, layers=2 → MSE=0.002086\n",
      "lookback=53, hidden=8, layers=1 → MSE=0.003037\n",
      "lookback=53, hidden=8, layers=2 → MSE=0.001709\n",
      "lookback=53, hidden=16, layers=1 → MSE=0.001605\n",
      "lookback=53, hidden=16, layers=2 → MSE=0.001807\n",
      "lookback=59, hidden=2, layers=1 → MSE=0.002011\n",
      "lookback=59, hidden=2, layers=2 → MSE=0.002175\n",
      "lookback=59, hidden=4, layers=1 → MSE=0.002162\n",
      "lookback=59, hidden=4, layers=2 → MSE=0.002150\n",
      "lookback=59, hidden=8, layers=1 → MSE=0.001986\n",
      "lookback=59, hidden=8, layers=2 → MSE=0.002044\n",
      "lookback=59, hidden=16, layers=1 → MSE=0.002250\n",
      "lookback=59, hidden=16, layers=2 → MSE=0.002065\n",
      "lookback=64, hidden=2, layers=1 → MSE=0.000512\n",
      "lookback=64, hidden=2, layers=2 → MSE=0.000463\n",
      "lookback=64, hidden=4, layers=1 → MSE=0.000332\n",
      "lookback=64, hidden=4, layers=2 → MSE=0.000224\n",
      "lookback=64, hidden=8, layers=1 → MSE=0.000237\n",
      "lookback=64, hidden=8, layers=2 → MSE=0.000255\n",
      "lookback=64, hidden=16, layers=1 → MSE=0.000433\n",
      "lookback=64, hidden=16, layers=2 → MSE=0.000312\n",
      "lookback=70, hidden=2, layers=1 → MSE=0.004455\n",
      "lookback=70, hidden=2, layers=2 → MSE=0.000874\n",
      "lookback=70, hidden=4, layers=1 → MSE=0.000300\n",
      "lookback=70, hidden=4, layers=2 → MSE=0.000309\n",
      "lookback=70, hidden=8, layers=1 → MSE=0.000399\n",
      "lookback=70, hidden=8, layers=2 → MSE=0.000386\n",
      "lookback=70, hidden=16, layers=1 → MSE=0.000469\n",
      "lookback=70, hidden=16, layers=2 → MSE=0.000273\n",
      "\n",
      "✅ Best parameters: lookback=64, hidden=4, layers=2\n",
      "Best MSE: 0.000224\n"
     ]
    }
   ],
   "source": [
    "model_param_grid = {\n",
    "    \"lookback\": [int(x) for x in np.linspace(10, 70, 12)],\n",
    "    \"hidden_size\": [2, 4, 8, 16],\n",
    "    \"num_layers\": [1, 2],\n",
    "}\n",
    "GRU.tune_model(model_param_grid)"
   ]
  },
  {
   "cell_type": "code",
   "execution_count": 57,
   "id": "6c8367c4",
   "metadata": {},
   "outputs": [],
   "source": [
    "data_type = \"train\"\n",
    "y_pred, y = GRU.predict(data=data_type)\n",
    "\n",
    "y_pred, y = minmax_scaler.inverse_transform(y_pred.reshape(-1,1)), minmax_scaler.inverse_transform(y.reshape(-1,1))"
   ]
  },
  {
   "cell_type": "code",
   "execution_count": 58,
   "id": "d8a4996c",
   "metadata": {},
   "outputs": [
    {
     "data": {
      "image/png": "[encoded data removed]",
      "text/plain": [
       "<Figure size 640x480 with 1 Axes>"
      ]
     },
     "metadata": {},
     "output_type": "display_data"
    }
   ],
   "source": [
    "plt.figure()\n",
    "plt.title(\"Classic EEC - GRU Model Prediction\")\n",
    "plt.plot(y, label=\"Real\")\n",
    "plt.plot(y_pred, label=\"Prediction\")\n",
    "plt.legend()\n",
    "plt.show()"
   ]
  },
  {
   "cell_type": "markdown",
   "id": "dbea66c1",
   "metadata": {},
   "source": [
    "#### LSTM"
   ]
  }
 ],
 "metadata": {
  "kernelspec": {
   "display_name": "venv_time_series_prediction",
   "language": "python",
   "name": "python3"
  },
  "language_info": {
   "codemirror_mode": {
    "name": "ipython",
    "version": 3
   },
   "file_extension": ".py",
   "mimetype": "text/x-python",
   "name": "python",
   "nbconvert_exporter": "python",
   "pygments_lexer": "ipython3",
   "version": "3.12.10"
  }
 },
 "nbformat": 4,
 "nbformat_minor": 5
}
