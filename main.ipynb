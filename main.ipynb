{
 "cells": [
  {
   "cell_type": "markdown",
   "id": "0eb14529",
   "metadata": {},
   "source": [
    "# Importing Libraries"
   ]
  },
  {
   "cell_type": "code",
   "execution_count": 1,
   "id": "46334697",
   "metadata": {},
   "outputs": [],
   "source": [
    "import pandas as pd\n",
    "import numpy as np\n",
    "import matplotlib.pyplot as plt\n",
    "from statsmodels.tsa.stattools import adfuller"
   ]
  },
  {
   "cell_type": "code",
   "execution_count": 2,
   "id": "0473409c",
   "metadata": {},
   "outputs": [],
   "source": [
    "import classes.file_loader as file_loader\n",
    "import classes.linear_time_series as linear_time_series"
   ]
  },
  {
   "cell_type": "markdown",
   "id": "5f1fe4ed",
   "metadata": {},
   "source": [
    "# Data Preprocessing"
   ]
  },
  {
   "cell_type": "markdown",
   "id": "01b37ede",
   "metadata": {},
   "source": [
    "## Loading Files"
   ]
  },
  {
   "cell_type": "code",
   "execution_count": 3,
   "id": "869ef202",
   "metadata": {},
   "outputs": [],
   "source": [
    "file_path = \"\" # File is in the parent file\n",
    "file_name = \"Index.xlsx\"\n",
    "\n",
    "FileLoader = file_loader.FileLoader(file_path, file_name)"
   ]
  },
  {
   "cell_type": "code",
   "execution_count": 4,
   "id": "22abcf23",
   "metadata": {},
   "outputs": [
    {
     "name": "stderr",
     "output_type": "stream",
     "text": [
      "c:\\Users\\PC FIXE HUGO\\Documents\\Time_series_Prediction\\classes\\file_loader.py:37: FutureWarning: DataFrame.fillna with 'method' is deprecated and will raise in a future version. Use obj.ffill() or obj.bfill() instead.\n",
      "  classic_raw_df.fillna(method = \"ffill\", inplace=True)\n",
      "c:\\Users\\PC FIXE HUGO\\Documents\\Time_series_Prediction\\classes\\file_loader.py:38: FutureWarning: DataFrame.fillna with 'method' is deprecated and will raise in a future version. Use obj.ffill() or obj.bfill() instead.\n",
      "  precarity_raw_df.fillna(method = \"ffill\", inplace=True)\n"
     ]
    }
   ],
   "source": [
    "classic_sheet_name, precarity_sheet_name = \"Classique\",\"Précarité\"\n",
    "\n",
    "classic_raw_df, preacarity_raw_df = FileLoader.load_file(classic_sheet_name, precarity_sheet_name)"
   ]
  },
  {
   "cell_type": "code",
   "execution_count": 5,
   "id": "2e997175",
   "metadata": {},
   "outputs": [
    {
     "data": {
      "text/html": [
       "<div>\n",
       "<style scoped>\n",
       "    .dataframe tbody tr th:only-of-type {\n",
       "        vertical-align: middle;\n",
       "    }\n",
       "\n",
       "    .dataframe tbody tr th {\n",
       "        vertical-align: top;\n",
       "    }\n",
       "\n",
       "    .dataframe thead th {\n",
       "        text-align: right;\n",
       "    }\n",
       "</style>\n",
       "<table border=\"1\" class=\"dataframe\">\n",
       "  <thead>\n",
       "    <tr style=\"text-align: right;\">\n",
       "      <th></th>\n",
       "      <th>Date</th>\n",
       "      <th>SPOT</th>\n",
       "    </tr>\n",
       "  </thead>\n",
       "  <tbody>\n",
       "    <tr>\n",
       "      <th>0</th>\n",
       "      <td>2023-04-24</td>\n",
       "      <td>7.212716</td>\n",
       "    </tr>\n",
       "    <tr>\n",
       "      <th>1</th>\n",
       "      <td>2023-05-01</td>\n",
       "      <td>7.321166</td>\n",
       "    </tr>\n",
       "    <tr>\n",
       "      <th>2</th>\n",
       "      <td>2023-05-08</td>\n",
       "      <td>7.360211</td>\n",
       "    </tr>\n",
       "    <tr>\n",
       "      <th>3</th>\n",
       "      <td>2023-05-15</td>\n",
       "      <td>7.380000</td>\n",
       "    </tr>\n",
       "    <tr>\n",
       "      <th>4</th>\n",
       "      <td>2023-05-22</td>\n",
       "      <td>7.400000</td>\n",
       "    </tr>\n",
       "    <tr>\n",
       "      <th>...</th>\n",
       "      <td>...</td>\n",
       "      <td>...</td>\n",
       "    </tr>\n",
       "    <tr>\n",
       "      <th>85</th>\n",
       "      <td>2024-12-16</td>\n",
       "      <td>7.810000</td>\n",
       "    </tr>\n",
       "    <tr>\n",
       "      <th>86</th>\n",
       "      <td>2024-12-23</td>\n",
       "      <td>7.970000</td>\n",
       "    </tr>\n",
       "    <tr>\n",
       "      <th>87</th>\n",
       "      <td>2024-12-30</td>\n",
       "      <td>7.970000</td>\n",
       "    </tr>\n",
       "    <tr>\n",
       "      <th>88</th>\n",
       "      <td>2025-01-06</td>\n",
       "      <td>7.970000</td>\n",
       "    </tr>\n",
       "    <tr>\n",
       "      <th>89</th>\n",
       "      <td>2025-01-13</td>\n",
       "      <td>8.020000</td>\n",
       "    </tr>\n",
       "  </tbody>\n",
       "</table>\n",
       "<p>90 rows × 2 columns</p>\n",
       "</div>"
      ],
      "text/plain": [
       "         Date      SPOT\n",
       "0  2023-04-24  7.212716\n",
       "1  2023-05-01  7.321166\n",
       "2  2023-05-08  7.360211\n",
       "3  2023-05-15  7.380000\n",
       "4  2023-05-22  7.400000\n",
       "..        ...       ...\n",
       "85 2024-12-16  7.810000\n",
       "86 2024-12-23  7.970000\n",
       "87 2024-12-30  7.970000\n",
       "88 2025-01-06  7.970000\n",
       "89 2025-01-13  8.020000\n",
       "\n",
       "[90 rows x 2 columns]"
      ]
     },
     "execution_count": 5,
     "metadata": {},
     "output_type": "execute_result"
    }
   ],
   "source": [
    "classic_raw_df"
   ]
  },
  {
   "cell_type": "code",
   "execution_count": 6,
   "id": "f6de7c03",
   "metadata": {},
   "outputs": [
    {
     "data": {
      "text/html": [
       "<div>\n",
       "<style scoped>\n",
       "    .dataframe tbody tr th:only-of-type {\n",
       "        vertical-align: middle;\n",
       "    }\n",
       "\n",
       "    .dataframe tbody tr th {\n",
       "        vertical-align: top;\n",
       "    }\n",
       "\n",
       "    .dataframe thead th {\n",
       "        text-align: right;\n",
       "    }\n",
       "</style>\n",
       "<table border=\"1\" class=\"dataframe\">\n",
       "  <thead>\n",
       "    <tr style=\"text-align: right;\">\n",
       "      <th></th>\n",
       "      <th>Date</th>\n",
       "      <th>SPOT</th>\n",
       "    </tr>\n",
       "  </thead>\n",
       "  <tbody>\n",
       "    <tr>\n",
       "      <th>0</th>\n",
       "      <td>2023-04-24</td>\n",
       "      <td>7.296783</td>\n",
       "    </tr>\n",
       "    <tr>\n",
       "      <th>1</th>\n",
       "      <td>2023-05-01</td>\n",
       "      <td>7.460184</td>\n",
       "    </tr>\n",
       "    <tr>\n",
       "      <th>2</th>\n",
       "      <td>2023-05-08</td>\n",
       "      <td>7.465385</td>\n",
       "    </tr>\n",
       "    <tr>\n",
       "      <th>3</th>\n",
       "      <td>2023-05-15</td>\n",
       "      <td>7.465385</td>\n",
       "    </tr>\n",
       "    <tr>\n",
       "      <th>4</th>\n",
       "      <td>2023-05-22</td>\n",
       "      <td>7.473191</td>\n",
       "    </tr>\n",
       "    <tr>\n",
       "      <th>...</th>\n",
       "      <td>...</td>\n",
       "      <td>...</td>\n",
       "    </tr>\n",
       "    <tr>\n",
       "      <th>85</th>\n",
       "      <td>2024-12-16</td>\n",
       "      <td>9.720000</td>\n",
       "    </tr>\n",
       "    <tr>\n",
       "      <th>86</th>\n",
       "      <td>2024-12-23</td>\n",
       "      <td>9.820000</td>\n",
       "    </tr>\n",
       "    <tr>\n",
       "      <th>87</th>\n",
       "      <td>2024-12-30</td>\n",
       "      <td>9.820000</td>\n",
       "    </tr>\n",
       "    <tr>\n",
       "      <th>88</th>\n",
       "      <td>2025-01-06</td>\n",
       "      <td>10.030000</td>\n",
       "    </tr>\n",
       "    <tr>\n",
       "      <th>89</th>\n",
       "      <td>2025-01-13</td>\n",
       "      <td>10.410000</td>\n",
       "    </tr>\n",
       "  </tbody>\n",
       "</table>\n",
       "<p>90 rows × 2 columns</p>\n",
       "</div>"
      ],
      "text/plain": [
       "         Date       SPOT\n",
       "0  2023-04-24   7.296783\n",
       "1  2023-05-01   7.460184\n",
       "2  2023-05-08   7.465385\n",
       "3  2023-05-15   7.465385\n",
       "4  2023-05-22   7.473191\n",
       "..        ...        ...\n",
       "85 2024-12-16   9.720000\n",
       "86 2024-12-23   9.820000\n",
       "87 2024-12-30   9.820000\n",
       "88 2025-01-06  10.030000\n",
       "89 2025-01-13  10.410000\n",
       "\n",
       "[90 rows x 2 columns]"
      ]
     },
     "execution_count": 6,
     "metadata": {},
     "output_type": "execute_result"
    }
   ],
   "source": [
    "preacarity_raw_df"
   ]
  },
  {
   "cell_type": "markdown",
   "id": "a5436e04",
   "metadata": {},
   "source": [
    "## Augmented dataframes"
   ]
  },
  {
   "cell_type": "code",
   "execution_count": 7,
   "id": "33d003bc",
   "metadata": {},
   "outputs": [
    {
     "data": {
      "text/html": [
       "<div>\n",
       "<style scoped>\n",
       "    .dataframe tbody tr th:only-of-type {\n",
       "        vertical-align: middle;\n",
       "    }\n",
       "\n",
       "    .dataframe tbody tr th {\n",
       "        vertical-align: top;\n",
       "    }\n",
       "\n",
       "    .dataframe thead th {\n",
       "        text-align: right;\n",
       "    }\n",
       "</style>\n",
       "<table border=\"1\" class=\"dataframe\">\n",
       "  <thead>\n",
       "    <tr style=\"text-align: right;\">\n",
       "      <th></th>\n",
       "      <th>Date</th>\n",
       "      <th>SPOT</th>\n",
       "    </tr>\n",
       "  </thead>\n",
       "  <tbody>\n",
       "    <tr>\n",
       "      <th>0</th>\n",
       "      <td>2023-04-24</td>\n",
       "      <td>7.212716</td>\n",
       "    </tr>\n",
       "    <tr>\n",
       "      <th>1</th>\n",
       "      <td>2023-04-25</td>\n",
       "      <td>7.289782</td>\n",
       "    </tr>\n",
       "    <tr>\n",
       "      <th>2</th>\n",
       "      <td>2023-04-26</td>\n",
       "      <td>7.157317</td>\n",
       "    </tr>\n",
       "    <tr>\n",
       "      <th>3</th>\n",
       "      <td>2023-04-27</td>\n",
       "      <td>7.237827</td>\n",
       "    </tr>\n",
       "    <tr>\n",
       "      <th>4</th>\n",
       "      <td>2023-04-28</td>\n",
       "      <td>7.210467</td>\n",
       "    </tr>\n",
       "    <tr>\n",
       "      <th>...</th>\n",
       "      <td>...</td>\n",
       "      <td>...</td>\n",
       "    </tr>\n",
       "    <tr>\n",
       "      <th>446</th>\n",
       "      <td>2025-01-07</td>\n",
       "      <td>7.995751</td>\n",
       "    </tr>\n",
       "    <tr>\n",
       "      <th>447</th>\n",
       "      <td>2025-01-08</td>\n",
       "      <td>7.958149</td>\n",
       "    </tr>\n",
       "    <tr>\n",
       "      <th>448</th>\n",
       "      <td>2025-01-09</td>\n",
       "      <td>7.932486</td>\n",
       "    </tr>\n",
       "    <tr>\n",
       "      <th>449</th>\n",
       "      <td>2025-01-10</td>\n",
       "      <td>8.005431</td>\n",
       "    </tr>\n",
       "    <tr>\n",
       "      <th>450</th>\n",
       "      <td>2025-01-13</td>\n",
       "      <td>8.020000</td>\n",
       "    </tr>\n",
       "  </tbody>\n",
       "</table>\n",
       "<p>451 rows × 2 columns</p>\n",
       "</div>"
      ],
      "text/plain": [
       "          Date      SPOT\n",
       "0   2023-04-24  7.212716\n",
       "1   2023-04-25  7.289782\n",
       "2   2023-04-26  7.157317\n",
       "3   2023-04-27  7.237827\n",
       "4   2023-04-28  7.210467\n",
       "..         ...       ...\n",
       "446 2025-01-07  7.995751\n",
       "447 2025-01-08  7.958149\n",
       "448 2025-01-09  7.932486\n",
       "449 2025-01-10  8.005431\n",
       "450 2025-01-13  8.020000\n",
       "\n",
       "[451 rows x 2 columns]"
      ]
     },
     "execution_count": 7,
     "metadata": {},
     "output_type": "execute_result"
    }
   ],
   "source": [
    "augmented_classic_df = FileLoader.interpolate_dataframe(classic_raw_df)\n",
    "augmented_classic_df.to_csv(\"augmented_classic_df.csv\", index=False)\n",
    "augmented_classic_df"
   ]
  },
  {
   "cell_type": "code",
   "execution_count": 8,
   "id": "686d1676",
   "metadata": {},
   "outputs": [
    {
     "data": {
      "text/html": [
       "<div>\n",
       "<style scoped>\n",
       "    .dataframe tbody tr th:only-of-type {\n",
       "        vertical-align: middle;\n",
       "    }\n",
       "\n",
       "    .dataframe tbody tr th {\n",
       "        vertical-align: top;\n",
       "    }\n",
       "\n",
       "    .dataframe thead th {\n",
       "        text-align: right;\n",
       "    }\n",
       "</style>\n",
       "<table border=\"1\" class=\"dataframe\">\n",
       "  <thead>\n",
       "    <tr style=\"text-align: right;\">\n",
       "      <th></th>\n",
       "      <th>Date</th>\n",
       "      <th>SPOT</th>\n",
       "    </tr>\n",
       "  </thead>\n",
       "  <tbody>\n",
       "    <tr>\n",
       "      <th>0</th>\n",
       "      <td>2023-04-24</td>\n",
       "      <td>7.296783</td>\n",
       "    </tr>\n",
       "    <tr>\n",
       "      <th>1</th>\n",
       "      <td>2023-04-25</td>\n",
       "      <td>7.254814</td>\n",
       "    </tr>\n",
       "    <tr>\n",
       "      <th>2</th>\n",
       "      <td>2023-04-26</td>\n",
       "      <td>7.281411</td>\n",
       "    </tr>\n",
       "    <tr>\n",
       "      <th>3</th>\n",
       "      <td>2023-04-27</td>\n",
       "      <td>7.352457</td>\n",
       "    </tr>\n",
       "    <tr>\n",
       "      <th>4</th>\n",
       "      <td>2023-04-28</td>\n",
       "      <td>7.439401</td>\n",
       "    </tr>\n",
       "    <tr>\n",
       "      <th>...</th>\n",
       "      <td>...</td>\n",
       "      <td>...</td>\n",
       "    </tr>\n",
       "    <tr>\n",
       "      <th>446</th>\n",
       "      <td>2025-01-07</td>\n",
       "      <td>10.017342</td>\n",
       "    </tr>\n",
       "    <tr>\n",
       "      <th>447</th>\n",
       "      <td>2025-01-08</td>\n",
       "      <td>10.043145</td>\n",
       "    </tr>\n",
       "    <tr>\n",
       "      <th>448</th>\n",
       "      <td>2025-01-09</td>\n",
       "      <td>9.925274</td>\n",
       "    </tr>\n",
       "    <tr>\n",
       "      <th>449</th>\n",
       "      <td>2025-01-10</td>\n",
       "      <td>10.119873</td>\n",
       "    </tr>\n",
       "    <tr>\n",
       "      <th>450</th>\n",
       "      <td>2025-01-13</td>\n",
       "      <td>10.410000</td>\n",
       "    </tr>\n",
       "  </tbody>\n",
       "</table>\n",
       "<p>451 rows × 2 columns</p>\n",
       "</div>"
      ],
      "text/plain": [
       "          Date       SPOT\n",
       "0   2023-04-24   7.296783\n",
       "1   2023-04-25   7.254814\n",
       "2   2023-04-26   7.281411\n",
       "3   2023-04-27   7.352457\n",
       "4   2023-04-28   7.439401\n",
       "..         ...        ...\n",
       "446 2025-01-07  10.017342\n",
       "447 2025-01-08  10.043145\n",
       "448 2025-01-09   9.925274\n",
       "449 2025-01-10  10.119873\n",
       "450 2025-01-13  10.410000\n",
       "\n",
       "[451 rows x 2 columns]"
      ]
     },
     "execution_count": 8,
     "metadata": {},
     "output_type": "execute_result"
    }
   ],
   "source": [
    "augmented_precarity_df = FileLoader.interpolate_dataframe(preacarity_raw_df)\n",
    "augmented_precarity_df.to_csv(\"augmented_precarity_df.csv\", index=False)\n",
    "augmented_precarity_df"
   ]
  },
  {
   "cell_type": "markdown",
   "id": "c7701cda",
   "metadata": {},
   "source": [
    "## Plotting the augmented dataframes "
   ]
  },
  {
   "cell_type": "code",
   "execution_count": 9,
   "id": "c2223577",
   "metadata": {},
   "outputs": [
    {
     "data": {
      "image/png": "[encoded data removed]",
      "text/plain": [
       "<Figure size 640x480 with 1 Axes>"
      ]
     },
     "metadata": {},
     "output_type": "display_data"
    }
   ],
   "source": [
    "plt.figure()\n",
    "\n",
    "plt.plot(augmented_classic_df[\"Date\"], augmented_classic_df[\"SPOT\"], label = \"Classic EEC\")\n",
    "plt.plot(augmented_precarity_df[\"Date\"], augmented_precarity_df[\"SPOT\"], label = \"Precarity EEC\")\n",
    "plt.legend()\n",
    "plt.xticks(rotation = 90)\n",
    "\n",
    "plt.show()"
   ]
  },
  {
   "cell_type": "markdown",
   "id": "3d565f44",
   "metadata": {},
   "source": [
    "# Data forecasting"
   ]
  },
  {
   "cell_type": "markdown",
   "id": "c9639d7d",
   "metadata": {},
   "source": [
    "## Classic EEC"
   ]
  },
  {
   "cell_type": "markdown",
   "id": "fded1a13",
   "metadata": {},
   "source": [
    "### Tests"
   ]
  },
  {
   "cell_type": "markdown",
   "id": "93a59e8f",
   "metadata": {},
   "source": [
    "#### Stationnarity"
   ]
  },
  {
   "cell_type": "markdown",
   "id": "cf26b625",
   "metadata": {},
   "source": [
    "From the Graph we can clearly see that the data is non stationnary. We will first differentiate the time series and check weither it has "
   ]
  },
  {
   "cell_type": "code",
   "execution_count": 10,
   "id": "656811d3",
   "metadata": {},
   "outputs": [
    {
     "data": {
      "text/html": [
       "<div>\n",
       "<style scoped>\n",
       "    .dataframe tbody tr th:only-of-type {\n",
       "        vertical-align: middle;\n",
       "    }\n",
       "\n",
       "    .dataframe tbody tr th {\n",
       "        vertical-align: top;\n",
       "    }\n",
       "\n",
       "    .dataframe thead th {\n",
       "        text-align: right;\n",
       "    }\n",
       "</style>\n",
       "<table border=\"1\" class=\"dataframe\">\n",
       "  <thead>\n",
       "    <tr style=\"text-align: right;\">\n",
       "      <th></th>\n",
       "      <th>Date</th>\n",
       "      <th>SPOT</th>\n",
       "      <th>Delta</th>\n",
       "    </tr>\n",
       "  </thead>\n",
       "  <tbody>\n",
       "    <tr>\n",
       "      <th>1</th>\n",
       "      <td>2023-04-25</td>\n",
       "      <td>7.289782</td>\n",
       "      <td>0.077066</td>\n",
       "    </tr>\n",
       "    <tr>\n",
       "      <th>2</th>\n",
       "      <td>2023-04-26</td>\n",
       "      <td>7.157317</td>\n",
       "      <td>-0.132465</td>\n",
       "    </tr>\n",
       "    <tr>\n",
       "      <th>3</th>\n",
       "      <td>2023-04-27</td>\n",
       "      <td>7.237827</td>\n",
       "      <td>0.080510</td>\n",
       "    </tr>\n",
       "    <tr>\n",
       "      <th>4</th>\n",
       "      <td>2023-04-28</td>\n",
       "      <td>7.210467</td>\n",
       "      <td>-0.027360</td>\n",
       "    </tr>\n",
       "    <tr>\n",
       "      <th>5</th>\n",
       "      <td>2023-05-01</td>\n",
       "      <td>7.321166</td>\n",
       "      <td>0.110698</td>\n",
       "    </tr>\n",
       "    <tr>\n",
       "      <th>...</th>\n",
       "      <td>...</td>\n",
       "      <td>...</td>\n",
       "      <td>...</td>\n",
       "    </tr>\n",
       "    <tr>\n",
       "      <th>446</th>\n",
       "      <td>2025-01-07</td>\n",
       "      <td>7.995751</td>\n",
       "      <td>0.025751</td>\n",
       "    </tr>\n",
       "    <tr>\n",
       "      <th>447</th>\n",
       "      <td>2025-01-08</td>\n",
       "      <td>7.958149</td>\n",
       "      <td>-0.037602</td>\n",
       "    </tr>\n",
       "    <tr>\n",
       "      <th>448</th>\n",
       "      <td>2025-01-09</td>\n",
       "      <td>7.932486</td>\n",
       "      <td>-0.025663</td>\n",
       "    </tr>\n",
       "    <tr>\n",
       "      <th>449</th>\n",
       "      <td>2025-01-10</td>\n",
       "      <td>8.005431</td>\n",
       "      <td>0.072945</td>\n",
       "    </tr>\n",
       "    <tr>\n",
       "      <th>450</th>\n",
       "      <td>2025-01-13</td>\n",
       "      <td>8.020000</td>\n",
       "      <td>0.014569</td>\n",
       "    </tr>\n",
       "  </tbody>\n",
       "</table>\n",
       "<p>450 rows × 3 columns</p>\n",
       "</div>"
      ],
      "text/plain": [
       "          Date      SPOT     Delta\n",
       "1   2023-04-25  7.289782  0.077066\n",
       "2   2023-04-26  7.157317 -0.132465\n",
       "3   2023-04-27  7.237827  0.080510\n",
       "4   2023-04-28  7.210467 -0.027360\n",
       "5   2023-05-01  7.321166  0.110698\n",
       "..         ...       ...       ...\n",
       "446 2025-01-07  7.995751  0.025751\n",
       "447 2025-01-08  7.958149 -0.037602\n",
       "448 2025-01-09  7.932486 -0.025663\n",
       "449 2025-01-10  8.005431  0.072945\n",
       "450 2025-01-13  8.020000  0.014569\n",
       "\n",
       "[450 rows x 3 columns]"
      ]
     },
     "execution_count": 10,
     "metadata": {},
     "output_type": "execute_result"
    }
   ],
   "source": [
    "classic_df = augmented_classic_df.copy()\n",
    "classic_df[\"Delta\"] = classic_df[\"SPOT\"] - classic_df[\"SPOT\"].shift(1)\n",
    "classic_df.dropna(inplace = True)\n",
    "classic_df"
   ]
  },
  {
   "cell_type": "code",
   "execution_count": 11,
   "id": "f2c316d0",
   "metadata": {},
   "outputs": [
    {
     "name": "stdout",
     "output_type": "stream",
     "text": [
      "p-value: 3.915905853565676e-07\n",
      "Result: reject unit root -> series is stationary (at 5% level).\n"
     ]
    }
   ],
   "source": [
    "result = adfuller(classic_df[\"Delta\"], regression='c', autolag='AIC')\n",
    "\n",
    "adf_stat, pvalue, usedlag, nobs, crit_values, icbest = result\n",
    "\n",
    "print(f\"p-value: {pvalue}\")\n",
    "\n",
    "if pvalue < 0.05:\n",
    "    print(\"Result: reject unit root -> series is stationary (at 5% level).\")\n",
    "else:\n",
    "    print(\"Result: fail to reject unit root -> series is non-stationary.\")"
   ]
  },
  {
   "cell_type": "code",
   "execution_count": 12,
   "id": "318ba007",
   "metadata": {},
   "outputs": [
    {
     "data": {
      "text/html": [
       "<div>\n",
       "<style scoped>\n",
       "    .dataframe tbody tr th:only-of-type {\n",
       "        vertical-align: middle;\n",
       "    }\n",
       "\n",
       "    .dataframe tbody tr th {\n",
       "        vertical-align: top;\n",
       "    }\n",
       "\n",
       "    .dataframe thead th {\n",
       "        text-align: right;\n",
       "    }\n",
       "</style>\n",
       "<table border=\"1\" class=\"dataframe\">\n",
       "  <thead>\n",
       "    <tr style=\"text-align: right;\">\n",
       "      <th></th>\n",
       "      <th>Date</th>\n",
       "      <th>SPOT</th>\n",
       "      <th>Delta</th>\n",
       "    </tr>\n",
       "  </thead>\n",
       "  <tbody>\n",
       "    <tr>\n",
       "      <th>1</th>\n",
       "      <td>2023-04-25</td>\n",
       "      <td>7.254814</td>\n",
       "      <td>-0.041969</td>\n",
       "    </tr>\n",
       "    <tr>\n",
       "      <th>2</th>\n",
       "      <td>2023-04-26</td>\n",
       "      <td>7.281411</td>\n",
       "      <td>0.026597</td>\n",
       "    </tr>\n",
       "    <tr>\n",
       "      <th>3</th>\n",
       "      <td>2023-04-27</td>\n",
       "      <td>7.352457</td>\n",
       "      <td>0.071046</td>\n",
       "    </tr>\n",
       "    <tr>\n",
       "      <th>4</th>\n",
       "      <td>2023-04-28</td>\n",
       "      <td>7.439401</td>\n",
       "      <td>0.086944</td>\n",
       "    </tr>\n",
       "    <tr>\n",
       "      <th>5</th>\n",
       "      <td>2023-05-01</td>\n",
       "      <td>7.460184</td>\n",
       "      <td>0.020783</td>\n",
       "    </tr>\n",
       "    <tr>\n",
       "      <th>...</th>\n",
       "      <td>...</td>\n",
       "      <td>...</td>\n",
       "      <td>...</td>\n",
       "    </tr>\n",
       "    <tr>\n",
       "      <th>446</th>\n",
       "      <td>2025-01-07</td>\n",
       "      <td>10.017342</td>\n",
       "      <td>-0.012658</td>\n",
       "    </tr>\n",
       "    <tr>\n",
       "      <th>447</th>\n",
       "      <td>2025-01-08</td>\n",
       "      <td>10.043145</td>\n",
       "      <td>0.025803</td>\n",
       "    </tr>\n",
       "    <tr>\n",
       "      <th>448</th>\n",
       "      <td>2025-01-09</td>\n",
       "      <td>9.925274</td>\n",
       "      <td>-0.117871</td>\n",
       "    </tr>\n",
       "    <tr>\n",
       "      <th>449</th>\n",
       "      <td>2025-01-10</td>\n",
       "      <td>10.119873</td>\n",
       "      <td>0.194599</td>\n",
       "    </tr>\n",
       "    <tr>\n",
       "      <th>450</th>\n",
       "      <td>2025-01-13</td>\n",
       "      <td>10.410000</td>\n",
       "      <td>0.290127</td>\n",
       "    </tr>\n",
       "  </tbody>\n",
       "</table>\n",
       "<p>450 rows × 3 columns</p>\n",
       "</div>"
      ],
      "text/plain": [
       "          Date       SPOT     Delta\n",
       "1   2023-04-25   7.254814 -0.041969\n",
       "2   2023-04-26   7.281411  0.026597\n",
       "3   2023-04-27   7.352457  0.071046\n",
       "4   2023-04-28   7.439401  0.086944\n",
       "5   2023-05-01   7.460184  0.020783\n",
       "..         ...        ...       ...\n",
       "446 2025-01-07  10.017342 -0.012658\n",
       "447 2025-01-08  10.043145  0.025803\n",
       "448 2025-01-09   9.925274 -0.117871\n",
       "449 2025-01-10  10.119873  0.194599\n",
       "450 2025-01-13  10.410000  0.290127\n",
       "\n",
       "[450 rows x 3 columns]"
      ]
     },
     "execution_count": 12,
     "metadata": {},
     "output_type": "execute_result"
    }
   ],
   "source": [
    "precarity_df = augmented_precarity_df.copy()\n",
    "precarity_df[\"Delta\"] = precarity_df[\"SPOT\"] - precarity_df[\"SPOT\"].shift(1)\n",
    "precarity_df.dropna(inplace = True)\n",
    "precarity_df"
   ]
  },
  {
   "cell_type": "code",
   "execution_count": 13,
   "id": "19a18ff6",
   "metadata": {},
   "outputs": [
    {
     "name": "stdout",
     "output_type": "stream",
     "text": [
      "p-value: 0.0\n",
      "Result: reject unit root -> series is stationary (at 5% level).\n"
     ]
    }
   ],
   "source": [
    "result = adfuller(precarity_df[\"Delta\"], regression='c', autolag='AIC')\n",
    "\n",
    "adf_stat, pvalue, usedlag, nobs, crit_values, icbest = result\n",
    "\n",
    "print(f\"p-value: {pvalue}\")\n",
    "\n",
    "if pvalue < 0.05:\n",
    "    print(\"Result: reject unit root -> series is stationary (at 5% level).\")\n",
    "else:\n",
    "    print(\"Result: fail to reject unit root -> series is non-stationary.\")"
   ]
  },
  {
   "cell_type": "markdown",
   "id": "839515c9",
   "metadata": {},
   "source": [
    "We separate trainning and test data to test our models predictions on out of sample data."
   ]
  },
  {
   "cell_type": "markdown",
   "id": "0b78bbce",
   "metadata": {},
   "source": [
    "### ARIMA"
   ]
  },
  {
   "cell_type": "markdown",
   "id": "76389958",
   "metadata": {},
   "source": [
    "We create an ARMA model (in reality ARIMA as the series wwas already differentiated), using a class built on our own."
   ]
  },
  {
   "cell_type": "code",
   "execution_count": 14,
   "id": "c2bbd0f9",
   "metadata": {},
   "outputs": [],
   "source": [
    "# Initiate the ARMA class\n",
    "LineaTimeSeriesModel = linear_time_series.LineaTimeSeriesModel(classic_df[\"Delta\"])"
   ]
  },
  {
   "cell_type": "code",
   "execution_count": 15,
   "id": "3564bd7f",
   "metadata": {},
   "outputs": [
    {
     "data": {
      "image/png": "[encoded data removed]",
      "text/plain": [
       "<Figure size 640x480 with 1 Axes>"
      ]
     },
     "metadata": {},
     "output_type": "display_data"
    }
   ],
   "source": [
    "LineaTimeSeriesModel.train_test_split()\n",
    "\n",
    "plt.figure()\n",
    "plt.plot(LineaTimeSeriesModel.train_dependent, label=\"Train data\")\n",
    "plt.plot(LineaTimeSeriesModel.test_dependent, label=\"Test data\")\n",
    "plt.legend()\n",
    "plt.show()"
   ]
  },
  {
   "cell_type": "code",
   "execution_count": 16,
   "id": "1b6d0b83",
   "metadata": {},
   "outputs": [
    {
     "name": "stdout",
     "output_type": "stream",
     "text": [
      "Max MA order: 1, Max AR order: 1\n"
     ]
    }
   ],
   "source": [
    "# Selecting the last relevant lags\n",
    "ma_max_order = LineaTimeSeriesModel.get_ma_max_order()\n",
    "ar_max_order = LineaTimeSeriesModel.get_ar_max_order()\n",
    "print(f\"Max MA order: {ma_max_order}, Max AR order: {ar_max_order}\")"
   ]
  },
  {
   "cell_type": "markdown",
   "id": "33ac170d",
   "metadata": {},
   "source": [
    "Now we select the best model using BIC and AIC critertions :"
   ]
  },
  {
   "cell_type": "code",
   "execution_count": 17,
   "id": "5e14bc6a",
   "metadata": {},
   "outputs": [
    {
     "name": "stdout",
     "output_type": "stream",
     "text": [
      "The p-value of the L-JungBox test is 3.913464089607621e-08 for the model ARIMA(0,0,0) with AIC = -788.1891407028002\n",
      "The p-value of the L-JungBox test is 0.018410220344271616 for the model ARIMA(1,0,0) with AIC = -830.4525684684115\n",
      "The p-value of the L-JungBox test is 0.01588383679767056 for the model ARIMA(0,0,1) with AIC = -830.8660714440314\n",
      "The p-value of the L-JungBox test is 0.03216745955869455 for the model ARIMA(1,0,1) with AIC = -830.8366947137839\n"
     ]
    },
    {
     "name": "stderr",
     "output_type": "stream",
     "text": [
      "c:\\Users\\PC FIXE HUGO\\Documents\\Time_series_Prediction\\venv_time_series_prediction\\Lib\\site-packages\\statsmodels\\tsa\\base\\tsa_model.py:473: ValueWarning: An unsupported index was provided. As a result, forecasts cannot be generated. To use the model for forecasting, use one of the supported classes of index.\n",
      "  self._init_dates(dates, freq)\n",
      "c:\\Users\\PC FIXE HUGO\\Documents\\Time_series_Prediction\\venv_time_series_prediction\\Lib\\site-packages\\statsmodels\\tsa\\base\\tsa_model.py:473: ValueWarning: An unsupported index was provided. As a result, forecasts cannot be generated. To use the model for forecasting, use one of the supported classes of index.\n",
      "  self._init_dates(dates, freq)\n",
      "c:\\Users\\PC FIXE HUGO\\Documents\\Time_series_Prediction\\venv_time_series_prediction\\Lib\\site-packages\\statsmodels\\tsa\\base\\tsa_model.py:473: ValueWarning: An unsupported index was provided. As a result, forecasts cannot be generated. To use the model for forecasting, use one of the supported classes of index.\n",
      "  self._init_dates(dates, freq)\n",
      "c:\\Users\\PC FIXE HUGO\\Documents\\Time_series_Prediction\\venv_time_series_prediction\\Lib\\site-packages\\statsmodels\\tsa\\base\\tsa_model.py:473: ValueWarning: An unsupported index was provided. As a result, forecasts cannot be generated. To use the model for forecasting, use one of the supported classes of index.\n",
      "  self._init_dates(dates, freq)\n",
      "c:\\Users\\PC FIXE HUGO\\Documents\\Time_series_Prediction\\venv_time_series_prediction\\Lib\\site-packages\\statsmodels\\tsa\\base\\tsa_model.py:473: ValueWarning: An unsupported index was provided. As a result, forecasts cannot be generated. To use the model for forecasting, use one of the supported classes of index.\n",
      "  self._init_dates(dates, freq)\n",
      "c:\\Users\\PC FIXE HUGO\\Documents\\Time_series_Prediction\\venv_time_series_prediction\\Lib\\site-packages\\statsmodels\\tsa\\base\\tsa_model.py:473: ValueWarning: An unsupported index was provided. As a result, forecasts cannot be generated. To use the model for forecasting, use one of the supported classes of index.\n",
      "  self._init_dates(dates, freq)\n",
      "c:\\Users\\PC FIXE HUGO\\Documents\\Time_series_Prediction\\venv_time_series_prediction\\Lib\\site-packages\\statsmodels\\tsa\\base\\tsa_model.py:473: ValueWarning: An unsupported index was provided. As a result, forecasts cannot be generated. To use the model for forecasting, use one of the supported classes of index.\n",
      "  self._init_dates(dates, freq)\n",
      "c:\\Users\\PC FIXE HUGO\\Documents\\Time_series_Prediction\\venv_time_series_prediction\\Lib\\site-packages\\statsmodels\\tsa\\base\\tsa_model.py:473: ValueWarning: An unsupported index was provided. As a result, forecasts cannot be generated. To use the model for forecasting, use one of the supported classes of index.\n",
      "  self._init_dates(dates, freq)\n",
      "c:\\Users\\PC FIXE HUGO\\Documents\\Time_series_Prediction\\venv_time_series_prediction\\Lib\\site-packages\\statsmodels\\tsa\\base\\tsa_model.py:473: ValueWarning: An unsupported index was provided. As a result, forecasts cannot be generated. To use the model for forecasting, use one of the supported classes of index.\n",
      "  self._init_dates(dates, freq)\n",
      "c:\\Users\\PC FIXE HUGO\\Documents\\Time_series_Prediction\\venv_time_series_prediction\\Lib\\site-packages\\statsmodels\\tsa\\base\\tsa_model.py:473: ValueWarning: An unsupported index was provided. As a result, forecasts cannot be generated. To use the model for forecasting, use one of the supported classes of index.\n",
      "  self._init_dates(dates, freq)\n",
      "c:\\Users\\PC FIXE HUGO\\Documents\\Time_series_Prediction\\venv_time_series_prediction\\Lib\\site-packages\\statsmodels\\tsa\\base\\tsa_model.py:473: ValueWarning: An unsupported index was provided. As a result, forecasts cannot be generated. To use the model for forecasting, use one of the supported classes of index.\n",
      "  self._init_dates(dates, freq)\n",
      "c:\\Users\\PC FIXE HUGO\\Documents\\Time_series_Prediction\\venv_time_series_prediction\\Lib\\site-packages\\statsmodels\\tsa\\base\\tsa_model.py:473: ValueWarning: An unsupported index was provided. As a result, forecasts cannot be generated. To use the model for forecasting, use one of the supported classes of index.\n",
      "  self._init_dates(dates, freq)\n"
     ]
    }
   ],
   "source": [
    "selected_models = LineaTimeSeriesModel.select_model(ma_max_order, ar_max_order)"
   ]
  },
  {
   "cell_type": "code",
   "execution_count": 18,
   "id": "a9fe74da",
   "metadata": {},
   "outputs": [
    {
     "data": {
      "text/plain": [
       "{'order': None, 'model': None, 'aic': inf}"
      ]
     },
     "execution_count": 18,
     "metadata": {},
     "output_type": "execute_result"
    }
   ],
   "source": [
    "selected_models[\"aic\"]"
   ]
  },
  {
   "cell_type": "markdown",
   "id": "dbea66c1",
   "metadata": {},
   "source": [
    "### LSTM"
   ]
  },
  {
   "cell_type": "markdown",
   "id": "8594a441",
   "metadata": {},
   "source": [
    "### GRU"
   ]
  },
  {
   "cell_type": "markdown",
   "id": "8f7919b9",
   "metadata": {},
   "source": []
  }
 ],
 "metadata": {
  "kernelspec": {
   "display_name": "venv_time_series_prediction",
   "language": "python",
   "name": "python3"
  },
  "language_info": {
   "codemirror_mode": {
    "name": "ipython",
    "version": 3
   },
   "file_extension": ".py",
   "mimetype": "text/x-python",
   "name": "python",
   "nbconvert_exporter": "python",
   "pygments_lexer": "ipython3",
   "version": "3.12.10"
  }
 },
 "nbformat": 4,
 "nbformat_minor": 5
}
