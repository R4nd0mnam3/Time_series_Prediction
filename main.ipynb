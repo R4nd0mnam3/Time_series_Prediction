{
 "cells": [
  {
   "cell_type": "markdown",
   "id": "0eb14529",
   "metadata": {},
   "source": [
    "# Importing Libraries"
   ]
  },
  {
   "cell_type": "code",
   "execution_count": 1,
   "id": "46334697",
   "metadata": {},
   "outputs": [],
   "source": [
    "import warnings\n",
    "import pandas as pd\n",
    "import numpy as np\n",
    "import matplotlib.pyplot as plt\n",
    "from statsmodels.tsa.stattools import adfuller\n",
    "from sklearn.preprocessing import MinMaxScaler"
   ]
  },
  {
   "cell_type": "code",
   "execution_count": 2,
   "id": "0473409c",
   "metadata": {},
   "outputs": [],
   "source": [
    "import classes.file_loader as file_loader\n",
    "import classes.linear_time_series as linear_time_series\n",
    "import classes.tools as tools\n",
    "import classes.gated_reccurent_unit as gated_reccurent_unit\n",
    "import classes.long_short_term_memory as long_short_term_memory"
   ]
  },
  {
   "cell_type": "markdown",
   "id": "5f1fe4ed",
   "metadata": {},
   "source": [
    "# Data Preprocessing"
   ]
  },
  {
   "cell_type": "markdown",
   "id": "01b37ede",
   "metadata": {
    "jp-MarkdownHeadingCollapsed": true
   },
   "source": [
    "## Loading Files"
   ]
  },
  {
   "cell_type": "code",
   "execution_count": 3,
   "id": "869ef202",
   "metadata": {},
   "outputs": [],
   "source": [
    "file_path = \"\" # File is in the parent file\n",
    "file_name = \"Index.xlsx\"\n",
    "\n",
    "FileLoader = file_loader.FileLoader(file_path, file_name)"
   ]
  },
  {
   "cell_type": "code",
   "execution_count": 4,
   "id": "22abcf23",
   "metadata": {},
   "outputs": [],
   "source": [
    "warnings.filterwarnings(\"ignore\")\n",
    "\n",
    "classic_sheet_name, precarity_sheet_name = \"Classique\",\"Précarité\"\n",
    "\n",
    "classic_raw_df, preacarity_raw_df = FileLoader.load_file(classic_sheet_name, precarity_sheet_name)"
   ]
  },
  {
   "cell_type": "code",
   "execution_count": 5,
   "id": "2e997175",
   "metadata": {},
   "outputs": [
    {
     "data": {
      "text/html": [
       "<div>\n",
       "<style scoped>\n",
       "    .dataframe tbody tr th:only-of-type {\n",
       "        vertical-align: middle;\n",
       "    }\n",
       "\n",
       "    .dataframe tbody tr th {\n",
       "        vertical-align: top;\n",
       "    }\n",
       "\n",
       "    .dataframe thead th {\n",
       "        text-align: right;\n",
       "    }\n",
       "</style>\n",
       "<table border=\"1\" class=\"dataframe\">\n",
       "  <thead>\n",
       "    <tr style=\"text-align: right;\">\n",
       "      <th></th>\n",
       "      <th>Date</th>\n",
       "      <th>SPOT</th>\n",
       "    </tr>\n",
       "  </thead>\n",
       "  <tbody>\n",
       "    <tr>\n",
       "      <th>0</th>\n",
       "      <td>2023-04-24</td>\n",
       "      <td>7.212716</td>\n",
       "    </tr>\n",
       "    <tr>\n",
       "      <th>1</th>\n",
       "      <td>2023-05-01</td>\n",
       "      <td>7.321166</td>\n",
       "    </tr>\n",
       "    <tr>\n",
       "      <th>2</th>\n",
       "      <td>2023-05-08</td>\n",
       "      <td>7.360211</td>\n",
       "    </tr>\n",
       "    <tr>\n",
       "      <th>3</th>\n",
       "      <td>2023-05-15</td>\n",
       "      <td>7.380000</td>\n",
       "    </tr>\n",
       "    <tr>\n",
       "      <th>4</th>\n",
       "      <td>2023-05-22</td>\n",
       "      <td>7.400000</td>\n",
       "    </tr>\n",
       "    <tr>\n",
       "      <th>...</th>\n",
       "      <td>...</td>\n",
       "      <td>...</td>\n",
       "    </tr>\n",
       "    <tr>\n",
       "      <th>85</th>\n",
       "      <td>2024-12-16</td>\n",
       "      <td>7.810000</td>\n",
       "    </tr>\n",
       "    <tr>\n",
       "      <th>86</th>\n",
       "      <td>2024-12-23</td>\n",
       "      <td>7.970000</td>\n",
       "    </tr>\n",
       "    <tr>\n",
       "      <th>87</th>\n",
       "      <td>2024-12-30</td>\n",
       "      <td>7.970000</td>\n",
       "    </tr>\n",
       "    <tr>\n",
       "      <th>88</th>\n",
       "      <td>2025-01-06</td>\n",
       "      <td>7.970000</td>\n",
       "    </tr>\n",
       "    <tr>\n",
       "      <th>89</th>\n",
       "      <td>2025-01-13</td>\n",
       "      <td>8.020000</td>\n",
       "    </tr>\n",
       "  </tbody>\n",
       "</table>\n",
       "<p>90 rows × 2 columns</p>\n",
       "</div>"
      ],
      "text/plain": [
       "         Date      SPOT\n",
       "0  2023-04-24  7.212716\n",
       "1  2023-05-01  7.321166\n",
       "2  2023-05-08  7.360211\n",
       "3  2023-05-15  7.380000\n",
       "4  2023-05-22  7.400000\n",
       "..        ...       ...\n",
       "85 2024-12-16  7.810000\n",
       "86 2024-12-23  7.970000\n",
       "87 2024-12-30  7.970000\n",
       "88 2025-01-06  7.970000\n",
       "89 2025-01-13  8.020000\n",
       "\n",
       "[90 rows x 2 columns]"
      ]
     },
     "execution_count": 5,
     "metadata": {},
     "output_type": "execute_result"
    }
   ],
   "source": [
    "classic_raw_df"
   ]
  },
  {
   "cell_type": "code",
   "execution_count": 6,
   "id": "f6de7c03",
   "metadata": {},
   "outputs": [
    {
     "data": {
      "text/html": [
       "<div>\n",
       "<style scoped>\n",
       "    .dataframe tbody tr th:only-of-type {\n",
       "        vertical-align: middle;\n",
       "    }\n",
       "\n",
       "    .dataframe tbody tr th {\n",
       "        vertical-align: top;\n",
       "    }\n",
       "\n",
       "    .dataframe thead th {\n",
       "        text-align: right;\n",
       "    }\n",
       "</style>\n",
       "<table border=\"1\" class=\"dataframe\">\n",
       "  <thead>\n",
       "    <tr style=\"text-align: right;\">\n",
       "      <th></th>\n",
       "      <th>Date</th>\n",
       "      <th>SPOT</th>\n",
       "    </tr>\n",
       "  </thead>\n",
       "  <tbody>\n",
       "    <tr>\n",
       "      <th>0</th>\n",
       "      <td>2023-04-24</td>\n",
       "      <td>7.296783</td>\n",
       "    </tr>\n",
       "    <tr>\n",
       "      <th>1</th>\n",
       "      <td>2023-05-01</td>\n",
       "      <td>7.460184</td>\n",
       "    </tr>\n",
       "    <tr>\n",
       "      <th>2</th>\n",
       "      <td>2023-05-08</td>\n",
       "      <td>7.465385</td>\n",
       "    </tr>\n",
       "    <tr>\n",
       "      <th>3</th>\n",
       "      <td>2023-05-15</td>\n",
       "      <td>7.465385</td>\n",
       "    </tr>\n",
       "    <tr>\n",
       "      <th>4</th>\n",
       "      <td>2023-05-22</td>\n",
       "      <td>7.473191</td>\n",
       "    </tr>\n",
       "    <tr>\n",
       "      <th>...</th>\n",
       "      <td>...</td>\n",
       "      <td>...</td>\n",
       "    </tr>\n",
       "    <tr>\n",
       "      <th>85</th>\n",
       "      <td>2024-12-16</td>\n",
       "      <td>9.720000</td>\n",
       "    </tr>\n",
       "    <tr>\n",
       "      <th>86</th>\n",
       "      <td>2024-12-23</td>\n",
       "      <td>9.820000</td>\n",
       "    </tr>\n",
       "    <tr>\n",
       "      <th>87</th>\n",
       "      <td>2024-12-30</td>\n",
       "      <td>9.820000</td>\n",
       "    </tr>\n",
       "    <tr>\n",
       "      <th>88</th>\n",
       "      <td>2025-01-06</td>\n",
       "      <td>10.030000</td>\n",
       "    </tr>\n",
       "    <tr>\n",
       "      <th>89</th>\n",
       "      <td>2025-01-13</td>\n",
       "      <td>10.410000</td>\n",
       "    </tr>\n",
       "  </tbody>\n",
       "</table>\n",
       "<p>90 rows × 2 columns</p>\n",
       "</div>"
      ],
      "text/plain": [
       "         Date       SPOT\n",
       "0  2023-04-24   7.296783\n",
       "1  2023-05-01   7.460184\n",
       "2  2023-05-08   7.465385\n",
       "3  2023-05-15   7.465385\n",
       "4  2023-05-22   7.473191\n",
       "..        ...        ...\n",
       "85 2024-12-16   9.720000\n",
       "86 2024-12-23   9.820000\n",
       "87 2024-12-30   9.820000\n",
       "88 2025-01-06  10.030000\n",
       "89 2025-01-13  10.410000\n",
       "\n",
       "[90 rows x 2 columns]"
      ]
     },
     "execution_count": 6,
     "metadata": {},
     "output_type": "execute_result"
    }
   ],
   "source": [
    "preacarity_raw_df"
   ]
  },
  {
   "cell_type": "markdown",
   "id": "a5436e04",
   "metadata": {
    "jp-MarkdownHeadingCollapsed": true
   },
   "source": [
    "## Augmented dataframes"
   ]
  },
  {
   "cell_type": "code",
   "execution_count": 7,
   "id": "33d003bc",
   "metadata": {},
   "outputs": [
    {
     "data": {
      "text/html": [
       "<div>\n",
       "<style scoped>\n",
       "    .dataframe tbody tr th:only-of-type {\n",
       "        vertical-align: middle;\n",
       "    }\n",
       "\n",
       "    .dataframe tbody tr th {\n",
       "        vertical-align: top;\n",
       "    }\n",
       "\n",
       "    .dataframe thead th {\n",
       "        text-align: right;\n",
       "    }\n",
       "</style>\n",
       "<table border=\"1\" class=\"dataframe\">\n",
       "  <thead>\n",
       "    <tr style=\"text-align: right;\">\n",
       "      <th></th>\n",
       "      <th>Date</th>\n",
       "      <th>SPOT</th>\n",
       "    </tr>\n",
       "  </thead>\n",
       "  <tbody>\n",
       "    <tr>\n",
       "      <th>0</th>\n",
       "      <td>2023-04-24</td>\n",
       "      <td>7.212716</td>\n",
       "    </tr>\n",
       "    <tr>\n",
       "      <th>1</th>\n",
       "      <td>2023-04-25</td>\n",
       "      <td>7.233615</td>\n",
       "    </tr>\n",
       "    <tr>\n",
       "      <th>2</th>\n",
       "      <td>2023-04-26</td>\n",
       "      <td>7.190693</td>\n",
       "    </tr>\n",
       "    <tr>\n",
       "      <th>3</th>\n",
       "      <td>2023-04-27</td>\n",
       "      <td>7.187605</td>\n",
       "    </tr>\n",
       "    <tr>\n",
       "      <th>4</th>\n",
       "      <td>2023-04-28</td>\n",
       "      <td>7.244509</td>\n",
       "    </tr>\n",
       "    <tr>\n",
       "      <th>...</th>\n",
       "      <td>...</td>\n",
       "      <td>...</td>\n",
       "    </tr>\n",
       "    <tr>\n",
       "      <th>446</th>\n",
       "      <td>2025-01-07</td>\n",
       "      <td>7.965917</td>\n",
       "    </tr>\n",
       "    <tr>\n",
       "      <th>447</th>\n",
       "      <td>2025-01-08</td>\n",
       "      <td>7.987371</td>\n",
       "    </tr>\n",
       "    <tr>\n",
       "      <th>448</th>\n",
       "      <td>2025-01-09</td>\n",
       "      <td>7.999525</td>\n",
       "    </tr>\n",
       "    <tr>\n",
       "      <th>449</th>\n",
       "      <td>2025-01-10</td>\n",
       "      <td>8.015557</td>\n",
       "    </tr>\n",
       "    <tr>\n",
       "      <th>450</th>\n",
       "      <td>2025-01-13</td>\n",
       "      <td>8.020000</td>\n",
       "    </tr>\n",
       "  </tbody>\n",
       "</table>\n",
       "<p>451 rows × 2 columns</p>\n",
       "</div>"
      ],
      "text/plain": [
       "          Date      SPOT\n",
       "0   2023-04-24  7.212716\n",
       "1   2023-04-25  7.233615\n",
       "2   2023-04-26  7.190693\n",
       "3   2023-04-27  7.187605\n",
       "4   2023-04-28  7.244509\n",
       "..         ...       ...\n",
       "446 2025-01-07  7.965917\n",
       "447 2025-01-08  7.987371\n",
       "448 2025-01-09  7.999525\n",
       "449 2025-01-10  8.015557\n",
       "450 2025-01-13  8.020000\n",
       "\n",
       "[451 rows x 2 columns]"
      ]
     },
     "execution_count": 7,
     "metadata": {},
     "output_type": "execute_result"
    }
   ],
   "source": [
    "augmented_classic_df = FileLoader.interpolate_dataframe(classic_raw_df)\n",
    "augmented_classic_df.to_csv(\"augmented_classic_df.csv\", index=False)\n",
    "augmented_classic_df"
   ]
  },
  {
   "cell_type": "code",
   "execution_count": 8,
   "id": "686d1676",
   "metadata": {
    "scrolled": true
   },
   "outputs": [
    {
     "data": {
      "text/html": [
       "<div>\n",
       "<style scoped>\n",
       "    .dataframe tbody tr th:only-of-type {\n",
       "        vertical-align: middle;\n",
       "    }\n",
       "\n",
       "    .dataframe tbody tr th {\n",
       "        vertical-align: top;\n",
       "    }\n",
       "\n",
       "    .dataframe thead th {\n",
       "        text-align: right;\n",
       "    }\n",
       "</style>\n",
       "<table border=\"1\" class=\"dataframe\">\n",
       "  <thead>\n",
       "    <tr style=\"text-align: right;\">\n",
       "      <th></th>\n",
       "      <th>Date</th>\n",
       "      <th>SPOT</th>\n",
       "    </tr>\n",
       "  </thead>\n",
       "  <tbody>\n",
       "    <tr>\n",
       "      <th>0</th>\n",
       "      <td>2023-04-24</td>\n",
       "      <td>7.296783</td>\n",
       "    </tr>\n",
       "    <tr>\n",
       "      <th>1</th>\n",
       "      <td>2023-04-25</td>\n",
       "      <td>7.278144</td>\n",
       "    </tr>\n",
       "    <tr>\n",
       "      <th>2</th>\n",
       "      <td>2023-04-26</td>\n",
       "      <td>7.381565</td>\n",
       "    </tr>\n",
       "    <tr>\n",
       "      <th>3</th>\n",
       "      <td>2023-04-27</td>\n",
       "      <td>7.303161</td>\n",
       "    </tr>\n",
       "    <tr>\n",
       "      <th>4</th>\n",
       "      <td>2023-04-28</td>\n",
       "      <td>7.397351</td>\n",
       "    </tr>\n",
       "    <tr>\n",
       "      <th>...</th>\n",
       "      <td>...</td>\n",
       "      <td>...</td>\n",
       "    </tr>\n",
       "    <tr>\n",
       "      <th>446</th>\n",
       "      <td>2025-01-07</td>\n",
       "      <td>10.099806</td>\n",
       "    </tr>\n",
       "    <tr>\n",
       "      <th>447</th>\n",
       "      <td>2025-01-08</td>\n",
       "      <td>10.080114</td>\n",
       "    </tr>\n",
       "    <tr>\n",
       "      <th>448</th>\n",
       "      <td>2025-01-09</td>\n",
       "      <td>9.918183</td>\n",
       "    </tr>\n",
       "    <tr>\n",
       "      <th>449</th>\n",
       "      <td>2025-01-10</td>\n",
       "      <td>10.364094</td>\n",
       "    </tr>\n",
       "    <tr>\n",
       "      <th>450</th>\n",
       "      <td>2025-01-13</td>\n",
       "      <td>10.410000</td>\n",
       "    </tr>\n",
       "  </tbody>\n",
       "</table>\n",
       "<p>451 rows × 2 columns</p>\n",
       "</div>"
      ],
      "text/plain": [
       "          Date       SPOT\n",
       "0   2023-04-24   7.296783\n",
       "1   2023-04-25   7.278144\n",
       "2   2023-04-26   7.381565\n",
       "3   2023-04-27   7.303161\n",
       "4   2023-04-28   7.397351\n",
       "..         ...        ...\n",
       "446 2025-01-07  10.099806\n",
       "447 2025-01-08  10.080114\n",
       "448 2025-01-09   9.918183\n",
       "449 2025-01-10  10.364094\n",
       "450 2025-01-13  10.410000\n",
       "\n",
       "[451 rows x 2 columns]"
      ]
     },
     "execution_count": 8,
     "metadata": {},
     "output_type": "execute_result"
    }
   ],
   "source": [
    "augmented_precarity_df = FileLoader.interpolate_dataframe(preacarity_raw_df)\n",
    "augmented_precarity_df.to_csv(\"augmented_precarity_df.csv\", index=False)\n",
    "augmented_precarity_df"
   ]
  },
  {
   "cell_type": "markdown",
   "id": "c7701cda",
   "metadata": {
    "jp-MarkdownHeadingCollapsed": true
   },
   "source": [
    "## Plotting the selected augmented dataframes "
   ]
  },
  {
   "cell_type": "markdown",
   "id": "cf50c99f",
   "metadata": {},
   "source": [
    "We select one iteration of fir the classic and precarirty dataframe."
   ]
  },
  {
   "cell_type": "code",
   "execution_count": 9,
   "id": "21d98306",
   "metadata": {},
   "outputs": [],
   "source": [
    "classic_df = pd.read_csv(\"selected_augmented_classic_df.csv\")\n",
    "precarity_df = pd.read_csv(\"selected_augmented_precarity_df.csv\")"
   ]
  },
  {
   "cell_type": "code",
   "execution_count": 10,
   "id": "c2223577",
   "metadata": {},
   "outputs": [
    {
     "data": {
      "image/png": "[encoded data removed]",
      "text/plain": [
       "<Figure size 640x480 with 1 Axes>"
      ]
     },
     "metadata": {},
     "output_type": "display_data"
    }
   ],
   "source": [
    "plt.figure()\n",
    "\n",
    "plt.plot(classic_df[\"SPOT\"], label = \"Classic EEC\")\n",
    "plt.plot(precarity_df[\"SPOT\"], label = \"Precarity EEC\")\n",
    "plt.title(\"EEC Classic and Precarity\")\n",
    "plt.legend()\n",
    "plt.xticks(rotation = 90)\n",
    "\n",
    "plt.show()"
   ]
  },
  {
   "cell_type": "markdown",
   "id": "f59913d1",
   "metadata": {},
   "source": [
    "Now we will separate data between data that will be used to train our models and the data which will be used to test our trading strategies."
   ]
  },
  {
   "cell_type": "markdown",
   "id": "cf26b625",
   "metadata": {},
   "source": [
    "From the graph we can clearly see that the data is non stationnary. We will first differentiate the time series and check weither it has "
   ]
  },
  {
   "cell_type": "code",
   "execution_count": 11,
   "id": "656811d3",
   "metadata": {},
   "outputs": [
    {
     "data": {
      "text/html": [
       "<div>\n",
       "<style scoped>\n",
       "    .dataframe tbody tr th:only-of-type {\n",
       "        vertical-align: middle;\n",
       "    }\n",
       "\n",
       "    .dataframe tbody tr th {\n",
       "        vertical-align: top;\n",
       "    }\n",
       "\n",
       "    .dataframe thead th {\n",
       "        text-align: right;\n",
       "    }\n",
       "</style>\n",
       "<table border=\"1\" class=\"dataframe\">\n",
       "  <thead>\n",
       "    <tr style=\"text-align: right;\">\n",
       "      <th></th>\n",
       "      <th>Date</th>\n",
       "      <th>SPOT</th>\n",
       "      <th>Delta</th>\n",
       "    </tr>\n",
       "  </thead>\n",
       "  <tbody>\n",
       "    <tr>\n",
       "      <th>1</th>\n",
       "      <td>2023-04-25</td>\n",
       "      <td>7.174503</td>\n",
       "      <td>-0.038213</td>\n",
       "    </tr>\n",
       "    <tr>\n",
       "      <th>2</th>\n",
       "      <td>2023-04-26</td>\n",
       "      <td>7.238924</td>\n",
       "      <td>0.064421</td>\n",
       "    </tr>\n",
       "    <tr>\n",
       "      <th>3</th>\n",
       "      <td>2023-04-27</td>\n",
       "      <td>7.224501</td>\n",
       "      <td>-0.014423</td>\n",
       "    </tr>\n",
       "    <tr>\n",
       "      <th>4</th>\n",
       "      <td>2023-04-28</td>\n",
       "      <td>7.249729</td>\n",
       "      <td>0.025228</td>\n",
       "    </tr>\n",
       "    <tr>\n",
       "      <th>5</th>\n",
       "      <td>2023-05-01</td>\n",
       "      <td>7.321166</td>\n",
       "      <td>0.071437</td>\n",
       "    </tr>\n",
       "    <tr>\n",
       "      <th>...</th>\n",
       "      <td>...</td>\n",
       "      <td>...</td>\n",
       "      <td>...</td>\n",
       "    </tr>\n",
       "    <tr>\n",
       "      <th>446</th>\n",
       "      <td>2025-01-07</td>\n",
       "      <td>7.969759</td>\n",
       "      <td>-0.000241</td>\n",
       "    </tr>\n",
       "    <tr>\n",
       "      <th>447</th>\n",
       "      <td>2025-01-08</td>\n",
       "      <td>7.969839</td>\n",
       "      <td>0.000079</td>\n",
       "    </tr>\n",
       "    <tr>\n",
       "      <th>448</th>\n",
       "      <td>2025-01-09</td>\n",
       "      <td>7.986663</td>\n",
       "      <td>0.016825</td>\n",
       "    </tr>\n",
       "    <tr>\n",
       "      <th>449</th>\n",
       "      <td>2025-01-10</td>\n",
       "      <td>7.988577</td>\n",
       "      <td>0.001914</td>\n",
       "    </tr>\n",
       "    <tr>\n",
       "      <th>450</th>\n",
       "      <td>2025-01-13</td>\n",
       "      <td>8.020000</td>\n",
       "      <td>0.031423</td>\n",
       "    </tr>\n",
       "  </tbody>\n",
       "</table>\n",
       "<p>450 rows × 3 columns</p>\n",
       "</div>"
      ],
      "text/plain": [
       "           Date      SPOT     Delta\n",
       "1    2023-04-25  7.174503 -0.038213\n",
       "2    2023-04-26  7.238924  0.064421\n",
       "3    2023-04-27  7.224501 -0.014423\n",
       "4    2023-04-28  7.249729  0.025228\n",
       "5    2023-05-01  7.321166  0.071437\n",
       "..          ...       ...       ...\n",
       "446  2025-01-07  7.969759 -0.000241\n",
       "447  2025-01-08  7.969839  0.000079\n",
       "448  2025-01-09  7.986663  0.016825\n",
       "449  2025-01-10  7.988577  0.001914\n",
       "450  2025-01-13  8.020000  0.031423\n",
       "\n",
       "[450 rows x 3 columns]"
      ]
     },
     "execution_count": 11,
     "metadata": {},
     "output_type": "execute_result"
    }
   ],
   "source": [
    "classic_df[\"Delta\"] = classic_df[\"SPOT\"] - classic_df[\"SPOT\"].shift(1)\n",
    "classic_df.dropna(inplace = True)\n",
    "classic_df"
   ]
  },
  {
   "cell_type": "markdown",
   "id": "7dbed25a",
   "metadata": {},
   "source": [
    "Neural Networks do not necessarily need stationnary data. However they perform better on normalized data. Hence we create the normalized data using Min-Max Scaler as the data is not normally distributed :"
   ]
  },
  {
   "cell_type": "code",
   "execution_count": 12,
   "id": "216cbc73",
   "metadata": {},
   "outputs": [
    {
     "data": {
      "text/html": [
       "<div>\n",
       "<style scoped>\n",
       "    .dataframe tbody tr th:only-of-type {\n",
       "        vertical-align: middle;\n",
       "    }\n",
       "\n",
       "    .dataframe tbody tr th {\n",
       "        vertical-align: top;\n",
       "    }\n",
       "\n",
       "    .dataframe thead th {\n",
       "        text-align: right;\n",
       "    }\n",
       "</style>\n",
       "<table border=\"1\" class=\"dataframe\">\n",
       "  <thead>\n",
       "    <tr style=\"text-align: right;\">\n",
       "      <th></th>\n",
       "      <th>Date</th>\n",
       "      <th>SPOT</th>\n",
       "      <th>Delta</th>\n",
       "      <th>Normalized Spot</th>\n",
       "    </tr>\n",
       "  </thead>\n",
       "  <tbody>\n",
       "    <tr>\n",
       "      <th>1</th>\n",
       "      <td>2023-04-25</td>\n",
       "      <td>7.174503</td>\n",
       "      <td>-0.038213</td>\n",
       "      <td>0.095268</td>\n",
       "    </tr>\n",
       "    <tr>\n",
       "      <th>2</th>\n",
       "      <td>2023-04-26</td>\n",
       "      <td>7.238924</td>\n",
       "      <td>0.064421</td>\n",
       "      <td>0.129266</td>\n",
       "    </tr>\n",
       "    <tr>\n",
       "      <th>3</th>\n",
       "      <td>2023-04-27</td>\n",
       "      <td>7.224501</td>\n",
       "      <td>-0.014423</td>\n",
       "      <td>0.121654</td>\n",
       "    </tr>\n",
       "    <tr>\n",
       "      <th>4</th>\n",
       "      <td>2023-04-28</td>\n",
       "      <td>7.249729</td>\n",
       "      <td>0.025228</td>\n",
       "      <td>0.134968</td>\n",
       "    </tr>\n",
       "    <tr>\n",
       "      <th>5</th>\n",
       "      <td>2023-05-01</td>\n",
       "      <td>7.321166</td>\n",
       "      <td>0.071437</td>\n",
       "      <td>0.172669</td>\n",
       "    </tr>\n",
       "    <tr>\n",
       "      <th>...</th>\n",
       "      <td>...</td>\n",
       "      <td>...</td>\n",
       "      <td>...</td>\n",
       "      <td>...</td>\n",
       "    </tr>\n",
       "    <tr>\n",
       "      <th>446</th>\n",
       "      <td>2025-01-07</td>\n",
       "      <td>7.969759</td>\n",
       "      <td>-0.000241</td>\n",
       "      <td>0.514964</td>\n",
       "    </tr>\n",
       "    <tr>\n",
       "      <th>447</th>\n",
       "      <td>2025-01-08</td>\n",
       "      <td>7.969839</td>\n",
       "      <td>0.000079</td>\n",
       "      <td>0.515006</td>\n",
       "    </tr>\n",
       "    <tr>\n",
       "      <th>448</th>\n",
       "      <td>2025-01-09</td>\n",
       "      <td>7.986663</td>\n",
       "      <td>0.016825</td>\n",
       "      <td>0.523885</td>\n",
       "    </tr>\n",
       "    <tr>\n",
       "      <th>449</th>\n",
       "      <td>2025-01-10</td>\n",
       "      <td>7.988577</td>\n",
       "      <td>0.001914</td>\n",
       "      <td>0.524895</td>\n",
       "    </tr>\n",
       "    <tr>\n",
       "      <th>450</th>\n",
       "      <td>2025-01-13</td>\n",
       "      <td>8.020000</td>\n",
       "      <td>0.031423</td>\n",
       "      <td>0.541478</td>\n",
       "    </tr>\n",
       "  </tbody>\n",
       "</table>\n",
       "<p>450 rows × 4 columns</p>\n",
       "</div>"
      ],
      "text/plain": [
       "           Date      SPOT     Delta  Normalized Spot\n",
       "1    2023-04-25  7.174503 -0.038213         0.095268\n",
       "2    2023-04-26  7.238924  0.064421         0.129266\n",
       "3    2023-04-27  7.224501 -0.014423         0.121654\n",
       "4    2023-04-28  7.249729  0.025228         0.134968\n",
       "5    2023-05-01  7.321166  0.071437         0.172669\n",
       "..          ...       ...       ...              ...\n",
       "446  2025-01-07  7.969759 -0.000241         0.514964\n",
       "447  2025-01-08  7.969839  0.000079         0.515006\n",
       "448  2025-01-09  7.986663  0.016825         0.523885\n",
       "449  2025-01-10  7.988577  0.001914         0.524895\n",
       "450  2025-01-13  8.020000  0.031423         0.541478\n",
       "\n",
       "[450 rows x 4 columns]"
      ]
     },
     "execution_count": 12,
     "metadata": {},
     "output_type": "execute_result"
    }
   ],
   "source": [
    "minmax_scaler = MinMaxScaler()\n",
    "classic_df[\"Normalized Spot\"] = minmax_scaler.fit_transform(classic_df[[\"SPOT\"]])\n",
    "classic_df"
   ]
  },
  {
   "cell_type": "code",
   "execution_count": 13,
   "id": "b616f060",
   "metadata": {},
   "outputs": [],
   "source": [
    "classic_development_df, classic_test_df = classic_df[:int(0.80*len(classic_df))], classic_df[int(0.80*len(classic_df)):]"
   ]
  },
  {
   "cell_type": "code",
   "execution_count": 14,
   "id": "b922b7d1",
   "metadata": {},
   "outputs": [
    {
     "data": {
      "text/html": [
       "<div>\n",
       "<style scoped>\n",
       "    .dataframe tbody tr th:only-of-type {\n",
       "        vertical-align: middle;\n",
       "    }\n",
       "\n",
       "    .dataframe tbody tr th {\n",
       "        vertical-align: top;\n",
       "    }\n",
       "\n",
       "    .dataframe thead th {\n",
       "        text-align: right;\n",
       "    }\n",
       "</style>\n",
       "<table border=\"1\" class=\"dataframe\">\n",
       "  <thead>\n",
       "    <tr style=\"text-align: right;\">\n",
       "      <th></th>\n",
       "      <th>Date</th>\n",
       "      <th>SPOT</th>\n",
       "      <th>Delta</th>\n",
       "      <th>Normalized Spot</th>\n",
       "    </tr>\n",
       "  </thead>\n",
       "  <tbody>\n",
       "    <tr>\n",
       "      <th>1</th>\n",
       "      <td>2023-04-25</td>\n",
       "      <td>7.174503</td>\n",
       "      <td>-0.038213</td>\n",
       "      <td>0.095268</td>\n",
       "    </tr>\n",
       "    <tr>\n",
       "      <th>2</th>\n",
       "      <td>2023-04-26</td>\n",
       "      <td>7.238924</td>\n",
       "      <td>0.064421</td>\n",
       "      <td>0.129266</td>\n",
       "    </tr>\n",
       "    <tr>\n",
       "      <th>3</th>\n",
       "      <td>2023-04-27</td>\n",
       "      <td>7.224501</td>\n",
       "      <td>-0.014423</td>\n",
       "      <td>0.121654</td>\n",
       "    </tr>\n",
       "    <tr>\n",
       "      <th>4</th>\n",
       "      <td>2023-04-28</td>\n",
       "      <td>7.249729</td>\n",
       "      <td>0.025228</td>\n",
       "      <td>0.134968</td>\n",
       "    </tr>\n",
       "    <tr>\n",
       "      <th>5</th>\n",
       "      <td>2023-05-01</td>\n",
       "      <td>7.321166</td>\n",
       "      <td>0.071437</td>\n",
       "      <td>0.172669</td>\n",
       "    </tr>\n",
       "    <tr>\n",
       "      <th>...</th>\n",
       "      <td>...</td>\n",
       "      <td>...</td>\n",
       "      <td>...</td>\n",
       "      <td>...</td>\n",
       "    </tr>\n",
       "    <tr>\n",
       "      <th>356</th>\n",
       "      <td>2024-09-03</td>\n",
       "      <td>7.939913</td>\n",
       "      <td>-0.013183</td>\n",
       "      <td>0.499213</td>\n",
       "    </tr>\n",
       "    <tr>\n",
       "      <th>357</th>\n",
       "      <td>2024-09-04</td>\n",
       "      <td>7.993982</td>\n",
       "      <td>0.054069</td>\n",
       "      <td>0.527747</td>\n",
       "    </tr>\n",
       "    <tr>\n",
       "      <th>358</th>\n",
       "      <td>2024-09-05</td>\n",
       "      <td>8.041032</td>\n",
       "      <td>0.047050</td>\n",
       "      <td>0.552578</td>\n",
       "    </tr>\n",
       "    <tr>\n",
       "      <th>359</th>\n",
       "      <td>2024-09-06</td>\n",
       "      <td>8.013912</td>\n",
       "      <td>-0.027120</td>\n",
       "      <td>0.538266</td>\n",
       "    </tr>\n",
       "    <tr>\n",
       "      <th>360</th>\n",
       "      <td>2024-09-09</td>\n",
       "      <td>8.061539</td>\n",
       "      <td>0.047627</td>\n",
       "      <td>0.563401</td>\n",
       "    </tr>\n",
       "  </tbody>\n",
       "</table>\n",
       "<p>360 rows × 4 columns</p>\n",
       "</div>"
      ],
      "text/plain": [
       "           Date      SPOT     Delta  Normalized Spot\n",
       "1    2023-04-25  7.174503 -0.038213         0.095268\n",
       "2    2023-04-26  7.238924  0.064421         0.129266\n",
       "3    2023-04-27  7.224501 -0.014423         0.121654\n",
       "4    2023-04-28  7.249729  0.025228         0.134968\n",
       "5    2023-05-01  7.321166  0.071437         0.172669\n",
       "..          ...       ...       ...              ...\n",
       "356  2024-09-03  7.939913 -0.013183         0.499213\n",
       "357  2024-09-04  7.993982  0.054069         0.527747\n",
       "358  2024-09-05  8.041032  0.047050         0.552578\n",
       "359  2024-09-06  8.013912 -0.027120         0.538266\n",
       "360  2024-09-09  8.061539  0.047627         0.563401\n",
       "\n",
       "[360 rows x 4 columns]"
      ]
     },
     "execution_count": 14,
     "metadata": {},
     "output_type": "execute_result"
    }
   ],
   "source": [
    "classic_development_df"
   ]
  },
  {
   "cell_type": "code",
   "execution_count": 15,
   "id": "fd27fa53",
   "metadata": {},
   "outputs": [
    {
     "data": {
      "text/html": [
       "<div>\n",
       "<style scoped>\n",
       "    .dataframe tbody tr th:only-of-type {\n",
       "        vertical-align: middle;\n",
       "    }\n",
       "\n",
       "    .dataframe tbody tr th {\n",
       "        vertical-align: top;\n",
       "    }\n",
       "\n",
       "    .dataframe thead th {\n",
       "        text-align: right;\n",
       "    }\n",
       "</style>\n",
       "<table border=\"1\" class=\"dataframe\">\n",
       "  <thead>\n",
       "    <tr style=\"text-align: right;\">\n",
       "      <th></th>\n",
       "      <th>Date</th>\n",
       "      <th>SPOT</th>\n",
       "      <th>Delta</th>\n",
       "      <th>Normalized Spot</th>\n",
       "    </tr>\n",
       "  </thead>\n",
       "  <tbody>\n",
       "    <tr>\n",
       "      <th>361</th>\n",
       "      <td>2024-09-10</td>\n",
       "      <td>8.089756</td>\n",
       "      <td>0.028217</td>\n",
       "      <td>0.578292</td>\n",
       "    </tr>\n",
       "    <tr>\n",
       "      <th>362</th>\n",
       "      <td>2024-09-11</td>\n",
       "      <td>8.101701</td>\n",
       "      <td>0.011945</td>\n",
       "      <td>0.584596</td>\n",
       "    </tr>\n",
       "    <tr>\n",
       "      <th>363</th>\n",
       "      <td>2024-09-12</td>\n",
       "      <td>8.149817</td>\n",
       "      <td>0.048116</td>\n",
       "      <td>0.609989</td>\n",
       "    </tr>\n",
       "    <tr>\n",
       "      <th>364</th>\n",
       "      <td>2024-09-13</td>\n",
       "      <td>8.259876</td>\n",
       "      <td>0.110059</td>\n",
       "      <td>0.668073</td>\n",
       "    </tr>\n",
       "    <tr>\n",
       "      <th>365</th>\n",
       "      <td>2024-09-16</td>\n",
       "      <td>8.274618</td>\n",
       "      <td>0.014742</td>\n",
       "      <td>0.675853</td>\n",
       "    </tr>\n",
       "    <tr>\n",
       "      <th>...</th>\n",
       "      <td>...</td>\n",
       "      <td>...</td>\n",
       "      <td>...</td>\n",
       "      <td>...</td>\n",
       "    </tr>\n",
       "    <tr>\n",
       "      <th>446</th>\n",
       "      <td>2025-01-07</td>\n",
       "      <td>7.969759</td>\n",
       "      <td>-0.000241</td>\n",
       "      <td>0.514964</td>\n",
       "    </tr>\n",
       "    <tr>\n",
       "      <th>447</th>\n",
       "      <td>2025-01-08</td>\n",
       "      <td>7.969839</td>\n",
       "      <td>0.000079</td>\n",
       "      <td>0.515006</td>\n",
       "    </tr>\n",
       "    <tr>\n",
       "      <th>448</th>\n",
       "      <td>2025-01-09</td>\n",
       "      <td>7.986663</td>\n",
       "      <td>0.016825</td>\n",
       "      <td>0.523885</td>\n",
       "    </tr>\n",
       "    <tr>\n",
       "      <th>449</th>\n",
       "      <td>2025-01-10</td>\n",
       "      <td>7.988577</td>\n",
       "      <td>0.001914</td>\n",
       "      <td>0.524895</td>\n",
       "    </tr>\n",
       "    <tr>\n",
       "      <th>450</th>\n",
       "      <td>2025-01-13</td>\n",
       "      <td>8.020000</td>\n",
       "      <td>0.031423</td>\n",
       "      <td>0.541478</td>\n",
       "    </tr>\n",
       "  </tbody>\n",
       "</table>\n",
       "<p>90 rows × 4 columns</p>\n",
       "</div>"
      ],
      "text/plain": [
       "           Date      SPOT     Delta  Normalized Spot\n",
       "361  2024-09-10  8.089756  0.028217         0.578292\n",
       "362  2024-09-11  8.101701  0.011945         0.584596\n",
       "363  2024-09-12  8.149817  0.048116         0.609989\n",
       "364  2024-09-13  8.259876  0.110059         0.668073\n",
       "365  2024-09-16  8.274618  0.014742         0.675853\n",
       "..          ...       ...       ...              ...\n",
       "446  2025-01-07  7.969759 -0.000241         0.514964\n",
       "447  2025-01-08  7.969839  0.000079         0.515006\n",
       "448  2025-01-09  7.986663  0.016825         0.523885\n",
       "449  2025-01-10  7.988577  0.001914         0.524895\n",
       "450  2025-01-13  8.020000  0.031423         0.541478\n",
       "\n",
       "[90 rows x 4 columns]"
      ]
     },
     "execution_count": 15,
     "metadata": {},
     "output_type": "execute_result"
    }
   ],
   "source": [
    "classic_test_df"
   ]
  },
  {
   "cell_type": "markdown",
   "id": "3d565f44",
   "metadata": {},
   "source": [
    "# Data forecasting"
   ]
  },
  {
   "cell_type": "markdown",
   "id": "c9639d7d",
   "metadata": {},
   "source": [
    "## Classic EEC"
   ]
  },
  {
   "cell_type": "markdown",
   "id": "1e236f22",
   "metadata": {
    "jp-MarkdownHeadingCollapsed": true
   },
   "source": [
    "### ARMA"
   ]
  },
  {
   "cell_type": "code",
   "execution_count": 16,
   "id": "3564bd7f",
   "metadata": {},
   "outputs": [
    {
     "data": {
      "image/png": "[encoded data removed]",
      "text/plain": [
       "<Figure size 640x480 with 1 Axes>"
      ]
     },
     "metadata": {},
     "output_type": "display_data"
    }
   ],
   "source": [
    "#Spltting the data into train and test sets\n",
    "\n",
    "plt.figure()\n",
    "plt.plot(classic_development_df[\"Delta\"], label=\"Train data\")\n",
    "plt.plot(classic_test_df[\"Delta\"], label=\"Test data\")\n",
    "plt.legend()\n",
    "plt.show()"
   ]
  },
  {
   "cell_type": "markdown",
   "id": "76389958",
   "metadata": {},
   "source": [
    "We create an ARMA model (in reality ARIMA as the series was already differentiated), using a class built on our own."
   ]
  },
  {
   "cell_type": "code",
   "execution_count": 17,
   "id": "f2c316d0",
   "metadata": {},
   "outputs": [
    {
     "name": "stdout",
     "output_type": "stream",
     "text": [
      "p-value: 8.410526298029595e-14\n",
      "Result: reject unit root -> series is stationary (at 5% level).\n"
     ]
    }
   ],
   "source": [
    "result = adfuller(classic_development_df[\"Delta\"], regression='c', autolag='AIC')\n",
    "\n",
    "adf_stat, pvalue, usedlag, nobs, crit_values, icbest = result\n",
    "\n",
    "print(f\"p-value: {pvalue}\")\n",
    "\n",
    "if pvalue < 0.05:\n",
    "    print(\"Result: reject unit root -> series is stationary (at 5% level).\")\n",
    "else:\n",
    "    print(\"Result: fail to reject unit root -> series is non-stationary.\")"
   ]
  },
  {
   "cell_type": "code",
   "execution_count": 18,
   "id": "c2bbd0f9",
   "metadata": {},
   "outputs": [],
   "source": [
    "# Initiate the ARMA class\n",
    "\n",
    "LinearTimeSeriesModel = linear_time_series.LinearTimeSeriesModel(classic_development_df[\"Delta\"])"
   ]
  },
  {
   "cell_type": "code",
   "execution_count": 19,
   "id": "1b6d0b83",
   "metadata": {},
   "outputs": [
    {
     "name": "stdout",
     "output_type": "stream",
     "text": [
      "Max MA order: 2, Max AR order: 3\n"
     ]
    }
   ],
   "source": [
    "# Selecting the last relevant lags\n",
    "\n",
    "LinearTimeSeriesModel.get_ma_max_order()\n",
    "LinearTimeSeriesModel.get_ar_max_order()\n",
    "print(f\"Max MA order: {LinearTimeSeriesModel.ma_max_order}, Max AR order: {LinearTimeSeriesModel.ar_max_order}\")"
   ]
  },
  {
   "cell_type": "code",
   "execution_count": 20,
   "id": "5e14bc6a",
   "metadata": {},
   "outputs": [
    {
     "name": "stdout",
     "output_type": "stream",
     "text": [
      "The p-value of the L-JungBox test is 0.0010769501074859085 for the model ARIMA(0,0,0) with AIC = -865.2753020188438\n",
      "The p-value of the L-JungBox test is 0.00019603097391517166 for the model ARIMA(1,0,0) with AIC = -868.69992441343\n",
      "The p-value of the L-JungBox test is 0.16297763067651264 for the model ARIMA(2,0,0) with AIC = -876.2575485804443\n",
      "The p-value of the L-JungBox test is 0.7157039278648097 for the model ARIMA(3,0,0) with AIC = -880.2907981667475\n",
      "The p-value of the L-JungBox test is 0.00035552134321538046 for the model ARIMA(0,0,1) with AIC = -867.1486027223268\n",
      "The p-value of the L-JungBox test is 0.0009961180754488983 for the model ARIMA(1,0,1) with AIC = -869.6690742834805\n",
      "The p-value of the L-JungBox test is 0.9172372269960318 for the model ARIMA(2,0,1) with AIC = -883.1324185445949\n",
      "The p-value of the L-JungBox test is 0.9437340891958436 for the model ARIMA(3,0,1) with AIC = -881.5936067228174\n",
      "The p-value of the L-JungBox test is 0.28029800966799606 for the model ARIMA(0,0,2) with AIC = -879.2671580763865\n",
      "The p-value of the L-JungBox test is 0.7646494397607725 for the model ARIMA(1,0,2) with AIC = -880.3339941605234\n",
      "The p-value of the L-JungBox test is 0.9331630567315433 for the model ARIMA(2,0,2) with AIC = -881.398413803613\n",
      "The p-value of the L-JungBox test is 0.9486788411594449 for the model ARIMA(3,0,2) with AIC = -880.1120833204634\n"
     ]
    },
    {
     "data": {
      "text/plain": [
       "{'order': (2, 0, 1), 'aicc': -883.0479115023413}"
      ]
     },
     "execution_count": 20,
     "metadata": {},
     "output_type": "execute_result"
    }
   ],
   "source": [
    "# Selecting the best model according to AIC using the maximum relevant lags\n",
    "\n",
    "selected_models = LinearTimeSeriesModel.select_model()\n",
    "selected_models[\"aicc\"]"
   ]
  },
  {
   "cell_type": "code",
   "execution_count": 21,
   "id": "bce72b34",
   "metadata": {},
   "outputs": [],
   "source": [
    "# Prediction using our model\n",
    "train_pred, validation_pred = LinearTimeSeriesModel.model_prediction()\n",
    "\n",
    "# Cumulative sum to get back to the original scale\n",
    "cum_train_pred = np.cumsum(train_pred) + classic_development_df[\"SPOT\"].iloc[0]\n",
    "cum_train_real = np.cumsum(LinearTimeSeriesModel.train_dependent) + classic_development_df[\"SPOT\"].iloc[0]\n",
    "\n",
    "cum_validation_pred = np.cumsum(validation_pred) + cum_train_pred.iloc[-1]\n",
    "cum_validation_real = np.cumsum(LinearTimeSeriesModel.validation_dependent) + classic_development_df[\"SPOT\"].iloc[0]"
   ]
  },
  {
   "cell_type": "code",
   "execution_count": 22,
   "id": "e013f7ea",
   "metadata": {},
   "outputs": [
    {
     "data": {
      "image/png": "[encoded data removed]",
      "text/plain": [
       "<Figure size 640x480 with 1 Axes>"
      ]
     },
     "metadata": {},
     "output_type": "display_data"
    }
   ],
   "source": [
    "plt.figure()\n",
    "plt.title(\"Classic EEC - ARMA Model Train Prediction\")\n",
    "plt.plot(cum_train_real, label=\"Real\")\n",
    "plt.plot(cum_train_pred, label=\"Prediction\")\n",
    "plt.legend()\n",
    "plt.show()"
   ]
  },
  {
   "cell_type": "code",
   "execution_count": 23,
   "id": "9f846d99-3cc1-47f4-b0e3-1781f680ddc0",
   "metadata": {},
   "outputs": [
    {
     "data": {
      "image/png": "[encoded data removed]",
      "text/plain": [
       "<Figure size 640x480 with 1 Axes>"
      ]
     },
     "metadata": {},
     "output_type": "display_data"
    }
   ],
   "source": [
    "plt.figure()\n",
    "plt.title(\"Classic EEC - ARMA Model Validation Prediction\")\n",
    "plt.plot(cum_validation_pred, label=\"Real\")\n",
    "plt.plot(cum_validation_real, label=\"Prediction\")\n",
    "plt.legend()\n",
    "plt.show()"
   ]
  },
  {
   "cell_type": "code",
   "execution_count": 26,
   "id": "ce8759b3",
   "metadata": {},
   "outputs": [
    {
     "name": "stdout",
     "output_type": "stream",
     "text": [
      "{'mae': 0.2730466389385462, 'rmse': 0.3385583106514087, 'mape': 3.4013534814716833, 'r2': 0.5606640317756916}\n",
      "{'mae': 0.8154890033153315, 'rmse': 0.8169689412986304, 'mape': 11.389533021732055, 'r2': -110.76576664466795}\n"
     ]
    }
   ],
   "source": [
    "# Asssessing performances of ARIMA model\n",
    "arima_model_metrics = tools.model_metrics(cum_train_real, cum_train_pred, cum_validation_real, cum_validation_pred)\n",
    "\n",
    "all_metrics = arima_model_metrics.get_all_metrics()\n",
    "\n",
    "print(all_metrics[\"train\"])\n",
    "\n",
    "print(all_metrics[\"validation\"])"
   ]
  },
  {
   "cell_type": "markdown",
   "id": "caeb3fb2",
   "metadata": {},
   "source": [
    "### RNN"
   ]
  },
  {
   "cell_type": "markdown",
   "id": "8594a441",
   "metadata": {},
   "source": [
    "#### GRU"
   ]
  },
  {
   "cell_type": "markdown",
   "id": "c3359e1b",
   "metadata": {},
   "source": [
    "Parameters to optimize :\n",
    "\n",
    "-   Lookback : Number of points used to predict the next oneNombre de points utilisés pour prédire le point suivant\n",
    "-   Hidden size : Number of GRU cells per layer\n",
    "-   Number of layers : Number of layers\n",
    "\n",
    "\n",
    "*NB : After having conducted many tests 1 layer seems to provide better results than 2 layers*"
   ]
  },
  {
   "cell_type": "code",
   "execution_count": 24,
   "id": "943a7a29",
   "metadata": {},
   "outputs": [],
   "source": [
    "# Initializing the GRU class\n",
    "GRU = gated_reccurent_unit.GRU(classic_development_df[\"Normalized Spot\"], train_test_ratio=0.8)"
   ]
  },
  {
   "cell_type": "markdown",
   "id": "c900c2eb",
   "metadata": {},
   "source": [
    "##### Tuning Training Parameters"
   ]
  },
  {
   "cell_type": "code",
   "execution_count": 25,
   "id": "7990cb84",
   "metadata": {},
   "outputs": [
    {
     "name": "stdout",
     "output_type": "stream",
     "text": [
      "Training results: cv_mse : 0.047902461141347885, val_size : 200, n_splits : 5\n"
     ]
    },
    {
     "data": {
      "text/plain": [
       "{'lr': 0.1, 'l2': 0.0001, 'epochs': 80}"
      ]
     },
     "execution_count": 25,
     "metadata": {},
     "output_type": "execute_result"
    }
   ],
   "source": [
    "train_param_grid = {\n",
    "    \"l2\" : [1e-02, 1e-03, 1e-04, 1e-05, 1e-06],\n",
    "    \"lrs\" : [1, 0.1, 0.01, 0.001],\n",
    "    \"epochs\" : [20, 30, 40, 60, 80, 100, 120, 140],\n",
    "    \"epochs_mid\" : 80,\n",
    "    \"patience\": 10,\n",
    "    \"min_delta\": 1e-4,\n",
    "    \"n_splits\": 5,\n",
    "    \"val_size\": 200,\n",
    "    \"min_train_size\" : 50     \n",
    "}\n",
    "\n",
    "model_param = {\n",
    "    \"lookback\": 40,\n",
    "    \"hidden_size\": 16,\n",
    "    \"num_layers\": 1,\n",
    "}\n",
    "GRU.tune_train(train_param_grid, model_param)\n",
    "\n",
    "GRU.training_params"
   ]
  },
  {
   "cell_type": "markdown",
   "id": "965bb98f",
   "metadata": {},
   "source": [
    "##### Tuning Model Parameters"
   ]
  },
  {
   "cell_type": "code",
   "execution_count": 26,
   "id": "ec989b42",
   "metadata": {
    "scrolled": true
   },
   "outputs": [
    {
     "name": "stdout",
     "output_type": "stream",
     "text": [
      "lookback=10, hidden=2, layers=1 → MSE=0.000160\n",
      "lookback=10, hidden=2, layers=2 → MSE=0.000183\n",
      "lookback=10, hidden=4, layers=1 → MSE=0.000188\n",
      "lookback=10, hidden=4, layers=2 → MSE=0.000187\n",
      "lookback=10, hidden=8, layers=1 → MSE=0.000159\n",
      "lookback=10, hidden=8, layers=2 → MSE=0.000166\n",
      "lookback=10, hidden=16, layers=1 → MSE=0.000208\n",
      "lookback=10, hidden=16, layers=2 → MSE=0.000190\n",
      "lookback=15, hidden=2, layers=1 → MSE=0.000156\n",
      "lookback=15, hidden=2, layers=2 → MSE=0.000177\n",
      "lookback=15, hidden=4, layers=1 → MSE=0.000156\n",
      "lookback=15, hidden=4, layers=2 → MSE=0.000149\n",
      "lookback=15, hidden=8, layers=1 → MSE=0.000266\n",
      "lookback=15, hidden=8, layers=2 → MSE=0.000162\n",
      "lookback=15, hidden=16, layers=1 → MSE=0.000160\n",
      "lookback=15, hidden=16, layers=2 → MSE=0.000193\n",
      "lookback=20, hidden=2, layers=1 → MSE=0.000410\n",
      "lookback=20, hidden=2, layers=2 → MSE=0.000258\n",
      "lookback=20, hidden=4, layers=1 → MSE=0.000193\n",
      "lookback=20, hidden=4, layers=2 → MSE=0.005072\n",
      "lookback=20, hidden=8, layers=1 → MSE=0.000155\n",
      "lookback=20, hidden=8, layers=2 → MSE=0.000151\n",
      "lookback=20, hidden=16, layers=1 → MSE=0.000163\n",
      "lookback=20, hidden=16, layers=2 → MSE=0.000206\n",
      "lookback=26, hidden=2, layers=1 → MSE=0.000157\n",
      "lookback=26, hidden=2, layers=2 → MSE=0.000172\n",
      "lookback=26, hidden=4, layers=1 → MSE=0.000157\n",
      "lookback=26, hidden=4, layers=2 → MSE=0.000158\n",
      "lookback=26, hidden=8, layers=1 → MSE=0.000153\n",
      "lookback=26, hidden=8, layers=2 → MSE=0.000199\n",
      "lookback=26, hidden=16, layers=1 → MSE=0.000144\n",
      "lookback=26, hidden=16, layers=2 → MSE=0.000181\n",
      "lookback=31, hidden=2, layers=1 → MSE=0.000208\n",
      "lookback=31, hidden=2, layers=2 → MSE=0.000624\n",
      "lookback=31, hidden=4, layers=1 → MSE=0.000182\n",
      "lookback=31, hidden=4, layers=2 → MSE=0.000239\n",
      "lookback=31, hidden=8, layers=1 → MSE=0.000153\n",
      "lookback=31, hidden=8, layers=2 → MSE=0.000178\n",
      "lookback=31, hidden=16, layers=1 → MSE=0.000201\n",
      "lookback=31, hidden=16, layers=2 → MSE=0.000186\n",
      "lookback=37, hidden=2, layers=1 → MSE=0.000154\n",
      "lookback=37, hidden=2, layers=2 → MSE=0.000231\n",
      "lookback=37, hidden=4, layers=1 → MSE=0.000154\n",
      "lookback=37, hidden=4, layers=2 → MSE=0.000169\n",
      "lookback=37, hidden=8, layers=1 → MSE=0.000246\n",
      "lookback=37, hidden=8, layers=2 → MSE=0.000239\n",
      "lookback=37, hidden=16, layers=1 → MSE=0.000189\n",
      "lookback=37, hidden=16, layers=2 → MSE=0.000220\n",
      "lookback=42, hidden=2, layers=1 → MSE=0.000153\n",
      "lookback=42, hidden=2, layers=2 → MSE=0.000219\n",
      "lookback=42, hidden=4, layers=1 → MSE=0.000186\n",
      "lookback=42, hidden=4, layers=2 → MSE=0.000413\n",
      "lookback=42, hidden=8, layers=1 → MSE=0.000193\n",
      "lookback=42, hidden=8, layers=2 → MSE=0.000207\n",
      "lookback=42, hidden=16, layers=1 → MSE=0.000172\n",
      "lookback=42, hidden=16, layers=2 → MSE=0.000275\n",
      "lookback=48, hidden=2, layers=1 → MSE=0.000227\n",
      "lookback=48, hidden=2, layers=2 → MSE=0.000193\n",
      "lookback=48, hidden=4, layers=1 → MSE=0.000157\n",
      "lookback=48, hidden=4, layers=2 → MSE=0.000198\n",
      "lookback=48, hidden=8, layers=1 → MSE=0.000154\n",
      "lookback=48, hidden=8, layers=2 → MSE=0.000159\n",
      "lookback=48, hidden=16, layers=1 → MSE=0.000159\n",
      "lookback=48, hidden=16, layers=2 → MSE=0.000161\n",
      "lookback=53, hidden=2, layers=1 → MSE=0.007929\n",
      "lookback=53, hidden=2, layers=2 → MSE=0.000294\n",
      "lookback=53, hidden=4, layers=1 → MSE=0.000200\n",
      "lookback=53, hidden=4, layers=2 → MSE=0.000151\n",
      "lookback=53, hidden=8, layers=1 → MSE=0.000166\n",
      "lookback=53, hidden=8, layers=2 → MSE=0.000270\n",
      "lookback=53, hidden=16, layers=1 → MSE=0.000179\n",
      "lookback=53, hidden=16, layers=2 → MSE=0.000196\n",
      "lookback=59, hidden=2, layers=1 → MSE=0.000174\n",
      "lookback=59, hidden=2, layers=2 → MSE=0.000208\n",
      "lookback=59, hidden=4, layers=1 → MSE=0.000157\n",
      "lookback=59, hidden=4, layers=2 → MSE=0.000224\n",
      "lookback=59, hidden=8, layers=1 → MSE=0.000261\n",
      "lookback=59, hidden=8, layers=2 → MSE=0.000206\n",
      "lookback=59, hidden=16, layers=1 → MSE=0.000169\n",
      "lookback=59, hidden=16, layers=2 → MSE=0.000211\n",
      "lookback=64, hidden=2, layers=1 → MSE=0.000159\n",
      "lookback=64, hidden=2, layers=2 → MSE=0.000230\n",
      "lookback=64, hidden=4, layers=1 → MSE=0.000157\n",
      "lookback=64, hidden=4, layers=2 → MSE=0.000166\n",
      "lookback=64, hidden=8, layers=1 → MSE=0.000180\n",
      "lookback=64, hidden=8, layers=2 → MSE=0.000258\n",
      "lookback=64, hidden=16, layers=1 → MSE=0.000185\n",
      "lookback=64, hidden=16, layers=2 → MSE=0.000262\n",
      "lookback=70, hidden=2, layers=1 → MSE=0.000176\n",
      "lookback=70, hidden=2, layers=2 → MSE=0.000310\n",
      "lookback=70, hidden=4, layers=1 → MSE=0.000181\n",
      "lookback=70, hidden=4, layers=2 → MSE=0.000159\n",
      "lookback=70, hidden=8, layers=1 → MSE=0.000146\n",
      "lookback=70, hidden=8, layers=2 → MSE=0.000160\n",
      "lookback=70, hidden=16, layers=1 → MSE=0.001287\n",
      "lookback=70, hidden=16, layers=2 → MSE=0.000222\n",
      "\n",
      "✅ Best parameters: lookback=26, hidden=16, layers=1\n",
      "Best MSE: 0.000144\n"
     ]
    }
   ],
   "source": [
    "model_param_grid = {\n",
    "    \"lookback\": [int(x) for x in np.linspace(10, 70, 12)],\n",
    "    \"hidden_size\": [2, 4, 8, 16],\n",
    "    \"num_layers\": [1, 2],\n",
    "}\n",
    "GRU.tune_model(model_param_grid)"
   ]
  },
  {
   "cell_type": "code",
   "execution_count": 27,
   "id": "6c8367c4",
   "metadata": {},
   "outputs": [],
   "source": [
    "data_type = \"validation\"\n",
    "y_pred, y = GRU.predict(data=data_type)\n",
    "\n",
    "y_pred, y = minmax_scaler.inverse_transform(y_pred.reshape(-1,1)), minmax_scaler.inverse_transform(y.reshape(-1,1))"
   ]
  },
  {
   "cell_type": "code",
   "execution_count": 28,
   "id": "d8a4996c",
   "metadata": {},
   "outputs": [
    {
     "data": {
      "image/png": "[encoded data removed]",
      "text/plain": [
       "<Figure size 640x480 with 1 Axes>"
      ]
     },
     "metadata": {},
     "output_type": "display_data"
    }
   ],
   "source": [
    "plt.figure()\n",
    "plt.title(\"Classic EEC - GRU Model Prediction\")\n",
    "plt.plot(y, label=\"Real\")\n",
    "plt.plot(y_pred, label=\"Prediction\")\n",
    "plt.legend()\n",
    "plt.show()"
   ]
  },
  {
   "cell_type": "markdown",
   "id": "dbea66c1",
   "metadata": {
    "jp-MarkdownHeadingCollapsed": true
   },
   "source": [
    "#### LSTM"
   ]
  },
  {
   "cell_type": "code",
   "execution_count": 29,
   "id": "315f9d46",
   "metadata": {},
   "outputs": [],
   "source": [
    "# Initializing the LSTM class\n",
    "\n",
    "LSTM = long_short_term_memory.LSTM(classic_development_df[\"Normalized Spot\"], train_test_ratio=0.8)"
   ]
  },
  {
   "cell_type": "markdown",
   "id": "195f32a3-4169-4733-9d1b-46a975074648",
   "metadata": {
    "jp-MarkdownHeadingCollapsed": true
   },
   "source": [
    "##### Tuning Training Parameters"
   ]
  },
  {
   "cell_type": "code",
   "execution_count": 30,
   "id": "209f2425-e41a-48e6-9969-d25a942e0e8d",
   "metadata": {},
   "outputs": [
    {
     "name": "stdout",
     "output_type": "stream",
     "text": [
      "Training results: cv_mse : 0.07373794913291931, val_size : 200, n_splits : 5\n"
     ]
    },
    {
     "data": {
      "text/plain": [
       "{'lr': 0.01, 'l2': 1e-05, 'epochs': 150}"
      ]
     },
     "execution_count": 30,
     "metadata": {},
     "output_type": "execute_result"
    }
   ],
   "source": [
    "train_param_grid = {\n",
    "    \"l2\" : [1e-02, 1e-03, 1e-04, 1e-05, 1e-06],\n",
    "    \"lrs\" : [1, 0.1, 0.01, 0.001],\n",
    "    \"epochs\" : [20, 30, 40, 60, 80, 100, 120, 140, 150, 160],\n",
    "    \"epochs_mid\" : 80,\n",
    "    \"patience\": 10,\n",
    "    \"min_delta\": 1e-4,\n",
    "    \"n_splits\": 5,\n",
    "    \"val_size\": 200,\n",
    "    \"min_train_size\" : 50     \n",
    "}\n",
    "\n",
    "model_param = {\n",
    "    \"lookback\": 40,\n",
    "    \"hidden_size\": 16,\n",
    "    \"num_layers\": 1,\n",
    "}\n",
    "LSTM.tune_train(train_param_grid, model_param)\n",
    "\n",
    "LSTM.training_params"
   ]
  },
  {
   "cell_type": "markdown",
   "id": "36f42a17-2af5-441d-9cbc-3827ee8d0450",
   "metadata": {
    "jp-MarkdownHeadingCollapsed": true
   },
   "source": [
    "##### Tuning Model Parameters"
   ]
  },
  {
   "cell_type": "code",
   "execution_count": 31,
   "id": "3f478717-e3b8-4d8e-aebf-b5a535e53357",
   "metadata": {},
   "outputs": [
    {
     "name": "stdout",
     "output_type": "stream",
     "text": [
      "lookback=10, hidden=2, layers=1 → MSE=0.000279\n",
      "lookback=10, hidden=2, layers=2 → MSE=0.000315\n",
      "lookback=10, hidden=4, layers=1 → MSE=0.000235\n",
      "lookback=10, hidden=4, layers=2 → MSE=0.000238\n",
      "lookback=10, hidden=8, layers=1 → MSE=0.000308\n",
      "lookback=10, hidden=8, layers=2 → MSE=0.000362\n",
      "lookback=10, hidden=16, layers=1 → MSE=0.000276\n",
      "lookback=10, hidden=16, layers=2 → MSE=0.000386\n",
      "lookback=15, hidden=2, layers=1 → MSE=0.000217\n",
      "lookback=15, hidden=2, layers=2 → MSE=0.004133\n",
      "lookback=15, hidden=4, layers=1 → MSE=0.000280\n",
      "lookback=15, hidden=4, layers=2 → MSE=0.000174\n",
      "lookback=15, hidden=8, layers=1 → MSE=0.000381\n",
      "lookback=15, hidden=8, layers=2 → MSE=0.000299\n",
      "lookback=15, hidden=16, layers=1 → MSE=0.000262\n",
      "lookback=15, hidden=16, layers=2 → MSE=0.000200\n",
      "lookback=20, hidden=2, layers=1 → MSE=0.001862\n",
      "lookback=20, hidden=2, layers=2 → MSE=0.007914\n",
      "lookback=20, hidden=4, layers=1 → MSE=0.000200\n",
      "lookback=20, hidden=4, layers=2 → MSE=0.004865\n",
      "lookback=20, hidden=8, layers=1 → MSE=0.000212\n",
      "lookback=20, hidden=8, layers=2 → MSE=0.000258\n",
      "lookback=20, hidden=16, layers=1 → MSE=0.000295\n",
      "lookback=20, hidden=16, layers=2 → MSE=0.000204\n",
      "lookback=26, hidden=2, layers=1 → MSE=0.000255\n",
      "lookback=26, hidden=2, layers=2 → MSE=0.001718\n",
      "lookback=26, hidden=4, layers=1 → MSE=0.000270\n",
      "lookback=26, hidden=4, layers=2 → MSE=0.000335\n",
      "lookback=26, hidden=8, layers=1 → MSE=0.000184\n",
      "lookback=26, hidden=8, layers=2 → MSE=0.000260\n",
      "lookback=26, hidden=16, layers=1 → MSE=0.000233\n",
      "lookback=26, hidden=16, layers=2 → MSE=0.000224\n",
      "lookback=31, hidden=2, layers=1 → MSE=0.000296\n",
      "lookback=31, hidden=2, layers=2 → MSE=0.000425\n",
      "lookback=31, hidden=4, layers=1 → MSE=0.000221\n",
      "lookback=31, hidden=4, layers=2 → MSE=0.000261\n",
      "lookback=31, hidden=8, layers=1 → MSE=0.000365\n",
      "lookback=31, hidden=8, layers=2 → MSE=0.000182\n",
      "lookback=31, hidden=16, layers=1 → MSE=0.000359\n",
      "lookback=31, hidden=16, layers=2 → MSE=0.000272\n",
      "lookback=37, hidden=2, layers=1 → MSE=0.001050\n",
      "lookback=37, hidden=2, layers=2 → MSE=0.000611\n",
      "lookback=37, hidden=4, layers=1 → MSE=0.000309\n",
      "lookback=37, hidden=4, layers=2 → MSE=0.000237\n",
      "lookback=37, hidden=8, layers=1 → MSE=0.000299\n",
      "lookback=37, hidden=8, layers=2 → MSE=0.000224\n",
      "lookback=37, hidden=16, layers=1 → MSE=0.000239\n",
      "lookback=37, hidden=16, layers=2 → MSE=0.000246\n",
      "lookback=42, hidden=2, layers=1 → MSE=0.000285\n",
      "lookback=42, hidden=2, layers=2 → MSE=0.004005\n",
      "lookback=42, hidden=4, layers=1 → MSE=0.000273\n",
      "lookback=42, hidden=4, layers=2 → MSE=0.000251\n",
      "lookback=42, hidden=8, layers=1 → MSE=0.000207\n",
      "lookback=42, hidden=8, layers=2 → MSE=0.000248\n",
      "lookback=42, hidden=16, layers=1 → MSE=0.000246\n",
      "lookback=42, hidden=16, layers=2 → MSE=0.000236\n",
      "lookback=48, hidden=2, layers=1 → MSE=0.000317\n",
      "lookback=48, hidden=2, layers=2 → MSE=0.000353\n",
      "lookback=48, hidden=4, layers=1 → MSE=0.000535\n",
      "lookback=48, hidden=4, layers=2 → MSE=0.000385\n",
      "lookback=48, hidden=8, layers=1 → MSE=0.000234\n",
      "lookback=48, hidden=8, layers=2 → MSE=0.000221\n",
      "lookback=48, hidden=16, layers=1 → MSE=0.000210\n",
      "lookback=48, hidden=16, layers=2 → MSE=0.000252\n",
      "lookback=53, hidden=2, layers=1 → MSE=0.000256\n",
      "lookback=53, hidden=2, layers=2 → MSE=0.000297\n",
      "lookback=53, hidden=4, layers=1 → MSE=0.000754\n",
      "lookback=53, hidden=4, layers=2 → MSE=0.000239\n",
      "lookback=53, hidden=8, layers=1 → MSE=0.000214\n",
      "lookback=53, hidden=8, layers=2 → MSE=0.000319\n",
      "lookback=53, hidden=16, layers=1 → MSE=0.000220\n",
      "lookback=53, hidden=16, layers=2 → MSE=0.000248\n",
      "lookback=59, hidden=2, layers=1 → MSE=0.000219\n",
      "lookback=59, hidden=2, layers=2 → MSE=0.000206\n",
      "lookback=59, hidden=4, layers=1 → MSE=0.000239\n",
      "lookback=59, hidden=4, layers=2 → MSE=0.000290\n",
      "lookback=59, hidden=8, layers=1 → MSE=0.000390\n",
      "lookback=59, hidden=8, layers=2 → MSE=0.000308\n",
      "lookback=59, hidden=16, layers=1 → MSE=0.000289\n",
      "lookback=59, hidden=16, layers=2 → MSE=0.000186\n",
      "lookback=64, hidden=2, layers=1 → MSE=0.006367\n",
      "lookback=64, hidden=2, layers=2 → MSE=0.000271\n",
      "lookback=64, hidden=4, layers=1 → MSE=0.000686\n",
      "lookback=64, hidden=4, layers=2 → MSE=0.000474\n",
      "lookback=64, hidden=8, layers=1 → MSE=0.000347\n",
      "lookback=64, hidden=8, layers=2 → MSE=0.000214\n",
      "lookback=64, hidden=16, layers=1 → MSE=0.000225\n",
      "lookback=64, hidden=16, layers=2 → MSE=0.000288\n",
      "lookback=70, hidden=2, layers=1 → MSE=0.000231\n",
      "lookback=70, hidden=2, layers=2 → MSE=0.000300\n",
      "lookback=70, hidden=4, layers=1 → MSE=0.000435\n",
      "lookback=70, hidden=4, layers=2 → MSE=0.000550\n",
      "lookback=70, hidden=8, layers=1 → MSE=0.000254\n",
      "lookback=70, hidden=8, layers=2 → MSE=0.000191\n",
      "lookback=70, hidden=16, layers=1 → MSE=0.000299\n",
      "lookback=70, hidden=16, layers=2 → MSE=0.000238\n",
      "\n",
      "✅ Best parameters: lookback=15, hidden=4, layers=2\n",
      "Best MSE: 0.000174\n"
     ]
    }
   ],
   "source": [
    "model_param_grid = {\n",
    "    \"lookback\": [int(x) for x in np.linspace(10, 70, 12)],\n",
    "    \"hidden_size\": [2, 4, 8, 16],\n",
    "    \"num_layers\": [1, 2],\n",
    "}\n",
    "LSTM.tune_model(model_param_grid)"
   ]
  },
  {
   "cell_type": "code",
   "execution_count": 32,
   "id": "54e3a64a-84ac-4ead-b688-ad3887249f20",
   "metadata": {},
   "outputs": [],
   "source": [
    "data_type = \"validation\"\n",
    "y_pred, y = LSTM.predict(data=data_type)\n",
    "\n",
    "y_pred, y = minmax_scaler.inverse_transform(y_pred.reshape(-1,1)), minmax_scaler.inverse_transform(y.reshape(-1,1))"
   ]
  },
  {
   "cell_type": "code",
   "execution_count": 33,
   "id": "0f1d9770-d7a9-45b8-b62b-d0180c65bab4",
   "metadata": {},
   "outputs": [
    {
     "data": {
      "image/png": "[encoded data removed]",
      "text/plain": [
       "<Figure size 640x480 with 1 Axes>"
      ]
     },
     "metadata": {},
     "output_type": "display_data"
    }
   ],
   "source": [
    "plt.figure()\n",
    "plt.title(\"Classic EEC - LSTM Model Prediction\")\n",
    "plt.plot(y, label=\"Real\")\n",
    "plt.plot(y_pred, label=\"Prediction\")\n",
    "plt.legend()\n",
    "plt.show()"
   ]
  },
  {
   "cell_type": "markdown",
   "id": "6c71d446-298d-4929-9e81-e1d9f71a23e2",
   "metadata": {},
   "source": [
    "### Forecast"
   ]
  },
  {
   "cell_type": "markdown",
   "id": "b52eca8a-289c-49ed-8f32-36abc5dacb9a",
   "metadata": {},
   "source": [
    "We will go through the classic_test_df which is data that has never been seen by our model. We will :\n",
    "* iterate through every week, each 5 business days actually\n",
    "* Calibrate the model parameters\n",
    "* try to forecast the price of the following week."
   ]
  },
  {
   "cell_type": "code",
   "execution_count": 28,
   "id": "513f3859-c937-4c6f-bb7b-ceb49d5db261",
   "metadata": {},
   "outputs": [],
   "source": [
    "dynamic_classic_test_df = classic_test_df.copy()\n",
    "dynamic_classic_development = classic_development_df.copy()"
   ]
  },
  {
   "cell_type": "code",
   "execution_count": null,
   "id": "801f23f7-c600-4cef-bf59-a1fafb8813f8",
   "metadata": {},
   "outputs": [],
   "source": [
    "start_idx = dynamic_classic_test_df.start_index"
   ]
  },
  {
   "cell_type": "code",
   "execution_count": 31,
   "id": "59684ca5-0e76-4434-9500-85d8b39b7038",
   "metadata": {},
   "outputs": [
    {
     "name": "stdout",
     "output_type": "stream",
     "text": [
      "361\n",
      "362\n",
      "363\n",
      "364\n",
      "365\n",
      "366\n",
      "367\n",
      "368\n",
      "369\n",
      "370\n",
      "371\n",
      "372\n",
      "373\n",
      "374\n",
      "375\n",
      "376\n",
      "377\n",
      "378\n",
      "379\n",
      "380\n",
      "381\n",
      "382\n",
      "383\n",
      "384\n",
      "385\n",
      "386\n",
      "387\n",
      "388\n",
      "389\n",
      "390\n",
      "391\n",
      "392\n",
      "393\n",
      "394\n",
      "395\n",
      "396\n",
      "397\n",
      "398\n",
      "399\n",
      "400\n",
      "401\n",
      "402\n",
      "403\n",
      "404\n",
      "405\n",
      "406\n",
      "407\n",
      "408\n",
      "409\n",
      "410\n",
      "411\n",
      "412\n",
      "413\n",
      "414\n",
      "415\n",
      "416\n",
      "417\n",
      "418\n",
      "419\n",
      "420\n",
      "421\n",
      "422\n",
      "423\n",
      "424\n",
      "425\n",
      "426\n",
      "427\n",
      "428\n",
      "429\n",
      "430\n",
      "431\n",
      "432\n",
      "433\n",
      "434\n",
      "435\n",
      "436\n",
      "437\n",
      "438\n",
      "439\n",
      "440\n",
      "441\n",
      "442\n",
      "443\n",
      "444\n",
      "445\n",
      "446\n",
      "447\n",
      "448\n",
      "449\n",
      "450\n"
     ]
    }
   ],
   "source": [
    "for idx, row in dynamic_classic_test_df.iterrows() :\n",
    "    # ARMA\n",
    "\n",
    "    # GRU\n",
    "\n",
    "    # LSTM"
   ]
  }
 ],
 "metadata": {
  "kernelspec": {
   "display_name": "Python 3 (ipykernel)",
   "language": "python",
   "name": "python3"
  },
  "language_info": {
   "codemirror_mode": {
    "name": "ipython",
    "version": 3
   },
   "file_extension": ".py",
   "mimetype": "text/x-python",
   "name": "python",
   "nbconvert_exporter": "python",
   "pygments_lexer": "ipython3",
   "version": "3.13.5"
  }
 },
 "nbformat": 4,
 "nbformat_minor": 5
}
