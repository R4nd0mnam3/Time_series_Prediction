{
 "cells": [
  {
   "cell_type": "markdown",
   "id": "0eb14529",
   "metadata": {},
   "source": [
    "# Importing Libraries"
   ]
  },
  {
   "cell_type": "code",
   "execution_count": 34,
   "id": "6f341299",
   "metadata": {},
   "outputs": [
    {
     "name": "stdout",
     "output_type": "stream",
     "text": [
      "Hello, World!\n"
     ]
    }
   ],
   "source": [
    "print(\"Hello, World!\")"
   ]
  },
  {
   "cell_type": "code",
   "execution_count": 35,
   "id": "46334697",
   "metadata": {},
   "outputs": [],
   "source": [
    "import warnings\n",
    "import pandas as pd\n",
    "import numpy as np\n",
    "import matplotlib.pyplot as plt\n",
    "from statsmodels.tsa.stattools import adfuller\n",
    "from sklearn.preprocessing import MinMaxScaler"
   ]
  },
  {
   "cell_type": "code",
   "execution_count": 36,
   "id": "0473409c",
   "metadata": {},
   "outputs": [],
   "source": [
    "import classes.file_loader as file_loader\n",
    "import classes.linear_time_series as linear_time_series\n",
    "import classes.tools as tools\n",
    "import classes.gated_reccurent_unit as gated_reccurent_unit\n",
    "import classes.long_short_term_memory as long_short_term_memory"
   ]
  },
  {
   "cell_type": "markdown",
   "id": "5f1fe4ed",
   "metadata": {},
   "source": [
    "# Data Preprocessing"
   ]
  },
  {
   "cell_type": "markdown",
   "id": "01b37ede",
   "metadata": {
    "jp-MarkdownHeadingCollapsed": true
   },
   "source": [
    "## Loading Files"
   ]
  },
  {
   "cell_type": "code",
   "execution_count": 37,
   "id": "869ef202",
   "metadata": {},
   "outputs": [],
   "source": [
    "file_path = \"\" # File is in the parent file\n",
    "file_name = \"Index.xlsx\"\n",
    "\n",
    "FileLoader = file_loader.FileLoader(file_path, file_name)"
   ]
  },
  {
   "cell_type": "code",
   "execution_count": 38,
   "id": "22abcf23",
   "metadata": {},
   "outputs": [
    {
     "name": "stderr",
     "output_type": "stream",
     "text": [
      "C:\\Users\\PC FIXE HUGO\\Documents\\Time_series_Prediction\\classes\\file_loader.py:37: FutureWarning: DataFrame.fillna with 'method' is deprecated and will raise in a future version. Use obj.ffill() or obj.bfill() instead.\n",
      "  classic_raw_df.fillna(method = \"ffill\", inplace=True)\n",
      "C:\\Users\\PC FIXE HUGO\\Documents\\Time_series_Prediction\\classes\\file_loader.py:38: FutureWarning: DataFrame.fillna with 'method' is deprecated and will raise in a future version. Use obj.ffill() or obj.bfill() instead.\n",
      "  precarity_raw_df.fillna(method = \"ffill\", inplace=True)\n"
     ]
    }
   ],
   "source": [
    "classic_sheet_name, precarity_sheet_name = \"Classique\",\"Précarité\"\n",
    "\n",
    "classic_raw_df, preacarity_raw_df = FileLoader.load_file(classic_sheet_name, precarity_sheet_name)"
   ]
  },
  {
   "cell_type": "code",
   "execution_count": 39,
   "id": "2e997175",
   "metadata": {},
   "outputs": [
    {
     "data": {
      "text/html": [
       "<div>\n",
       "<style scoped>\n",
       "    .dataframe tbody tr th:only-of-type {\n",
       "        vertical-align: middle;\n",
       "    }\n",
       "\n",
       "    .dataframe tbody tr th {\n",
       "        vertical-align: top;\n",
       "    }\n",
       "\n",
       "    .dataframe thead th {\n",
       "        text-align: right;\n",
       "    }\n",
       "</style>\n",
       "<table border=\"1\" class=\"dataframe\">\n",
       "  <thead>\n",
       "    <tr style=\"text-align: right;\">\n",
       "      <th></th>\n",
       "      <th>Date</th>\n",
       "      <th>SPOT</th>\n",
       "    </tr>\n",
       "  </thead>\n",
       "  <tbody>\n",
       "    <tr>\n",
       "      <th>0</th>\n",
       "      <td>2023-04-24</td>\n",
       "      <td>7.212716</td>\n",
       "    </tr>\n",
       "    <tr>\n",
       "      <th>1</th>\n",
       "      <td>2023-05-01</td>\n",
       "      <td>7.321166</td>\n",
       "    </tr>\n",
       "    <tr>\n",
       "      <th>2</th>\n",
       "      <td>2023-05-08</td>\n",
       "      <td>7.360211</td>\n",
       "    </tr>\n",
       "    <tr>\n",
       "      <th>3</th>\n",
       "      <td>2023-05-15</td>\n",
       "      <td>7.380000</td>\n",
       "    </tr>\n",
       "    <tr>\n",
       "      <th>4</th>\n",
       "      <td>2023-05-22</td>\n",
       "      <td>7.400000</td>\n",
       "    </tr>\n",
       "    <tr>\n",
       "      <th>...</th>\n",
       "      <td>...</td>\n",
       "      <td>...</td>\n",
       "    </tr>\n",
       "    <tr>\n",
       "      <th>85</th>\n",
       "      <td>2024-12-16</td>\n",
       "      <td>7.810000</td>\n",
       "    </tr>\n",
       "    <tr>\n",
       "      <th>86</th>\n",
       "      <td>2024-12-23</td>\n",
       "      <td>7.970000</td>\n",
       "    </tr>\n",
       "    <tr>\n",
       "      <th>87</th>\n",
       "      <td>2024-12-30</td>\n",
       "      <td>7.970000</td>\n",
       "    </tr>\n",
       "    <tr>\n",
       "      <th>88</th>\n",
       "      <td>2025-01-06</td>\n",
       "      <td>7.970000</td>\n",
       "    </tr>\n",
       "    <tr>\n",
       "      <th>89</th>\n",
       "      <td>2025-01-13</td>\n",
       "      <td>8.020000</td>\n",
       "    </tr>\n",
       "  </tbody>\n",
       "</table>\n",
       "<p>90 rows × 2 columns</p>\n",
       "</div>"
      ],
      "text/plain": [
       "         Date      SPOT\n",
       "0  2023-04-24  7.212716\n",
       "1  2023-05-01  7.321166\n",
       "2  2023-05-08  7.360211\n",
       "3  2023-05-15  7.380000\n",
       "4  2023-05-22  7.400000\n",
       "..        ...       ...\n",
       "85 2024-12-16  7.810000\n",
       "86 2024-12-23  7.970000\n",
       "87 2024-12-30  7.970000\n",
       "88 2025-01-06  7.970000\n",
       "89 2025-01-13  8.020000\n",
       "\n",
       "[90 rows x 2 columns]"
      ]
     },
     "execution_count": 39,
     "metadata": {},
     "output_type": "execute_result"
    }
   ],
   "source": [
    "classic_raw_df"
   ]
  },
  {
   "cell_type": "code",
   "execution_count": 40,
   "id": "f6de7c03",
   "metadata": {},
   "outputs": [
    {
     "data": {
      "text/html": [
       "<div>\n",
       "<style scoped>\n",
       "    .dataframe tbody tr th:only-of-type {\n",
       "        vertical-align: middle;\n",
       "    }\n",
       "\n",
       "    .dataframe tbody tr th {\n",
       "        vertical-align: top;\n",
       "    }\n",
       "\n",
       "    .dataframe thead th {\n",
       "        text-align: right;\n",
       "    }\n",
       "</style>\n",
       "<table border=\"1\" class=\"dataframe\">\n",
       "  <thead>\n",
       "    <tr style=\"text-align: right;\">\n",
       "      <th></th>\n",
       "      <th>Date</th>\n",
       "      <th>SPOT</th>\n",
       "    </tr>\n",
       "  </thead>\n",
       "  <tbody>\n",
       "    <tr>\n",
       "      <th>0</th>\n",
       "      <td>2023-04-24</td>\n",
       "      <td>7.296783</td>\n",
       "    </tr>\n",
       "    <tr>\n",
       "      <th>1</th>\n",
       "      <td>2023-05-01</td>\n",
       "      <td>7.460184</td>\n",
       "    </tr>\n",
       "    <tr>\n",
       "      <th>2</th>\n",
       "      <td>2023-05-08</td>\n",
       "      <td>7.465385</td>\n",
       "    </tr>\n",
       "    <tr>\n",
       "      <th>3</th>\n",
       "      <td>2023-05-15</td>\n",
       "      <td>7.465385</td>\n",
       "    </tr>\n",
       "    <tr>\n",
       "      <th>4</th>\n",
       "      <td>2023-05-22</td>\n",
       "      <td>7.473191</td>\n",
       "    </tr>\n",
       "    <tr>\n",
       "      <th>...</th>\n",
       "      <td>...</td>\n",
       "      <td>...</td>\n",
       "    </tr>\n",
       "    <tr>\n",
       "      <th>85</th>\n",
       "      <td>2024-12-16</td>\n",
       "      <td>9.720000</td>\n",
       "    </tr>\n",
       "    <tr>\n",
       "      <th>86</th>\n",
       "      <td>2024-12-23</td>\n",
       "      <td>9.820000</td>\n",
       "    </tr>\n",
       "    <tr>\n",
       "      <th>87</th>\n",
       "      <td>2024-12-30</td>\n",
       "      <td>9.820000</td>\n",
       "    </tr>\n",
       "    <tr>\n",
       "      <th>88</th>\n",
       "      <td>2025-01-06</td>\n",
       "      <td>10.030000</td>\n",
       "    </tr>\n",
       "    <tr>\n",
       "      <th>89</th>\n",
       "      <td>2025-01-13</td>\n",
       "      <td>10.410000</td>\n",
       "    </tr>\n",
       "  </tbody>\n",
       "</table>\n",
       "<p>90 rows × 2 columns</p>\n",
       "</div>"
      ],
      "text/plain": [
       "         Date       SPOT\n",
       "0  2023-04-24   7.296783\n",
       "1  2023-05-01   7.460184\n",
       "2  2023-05-08   7.465385\n",
       "3  2023-05-15   7.465385\n",
       "4  2023-05-22   7.473191\n",
       "..        ...        ...\n",
       "85 2024-12-16   9.720000\n",
       "86 2024-12-23   9.820000\n",
       "87 2024-12-30   9.820000\n",
       "88 2025-01-06  10.030000\n",
       "89 2025-01-13  10.410000\n",
       "\n",
       "[90 rows x 2 columns]"
      ]
     },
     "execution_count": 40,
     "metadata": {},
     "output_type": "execute_result"
    }
   ],
   "source": [
    "preacarity_raw_df"
   ]
  },
  {
   "cell_type": "markdown",
   "id": "a5436e04",
   "metadata": {
    "jp-MarkdownHeadingCollapsed": true
   },
   "source": [
    "## Augmented dataframes"
   ]
  },
  {
   "cell_type": "code",
   "execution_count": 41,
   "id": "33d003bc",
   "metadata": {},
   "outputs": [
    {
     "data": {
      "text/html": [
       "<div>\n",
       "<style scoped>\n",
       "    .dataframe tbody tr th:only-of-type {\n",
       "        vertical-align: middle;\n",
       "    }\n",
       "\n",
       "    .dataframe tbody tr th {\n",
       "        vertical-align: top;\n",
       "    }\n",
       "\n",
       "    .dataframe thead th {\n",
       "        text-align: right;\n",
       "    }\n",
       "</style>\n",
       "<table border=\"1\" class=\"dataframe\">\n",
       "  <thead>\n",
       "    <tr style=\"text-align: right;\">\n",
       "      <th></th>\n",
       "      <th>Date</th>\n",
       "      <th>SPOT</th>\n",
       "    </tr>\n",
       "  </thead>\n",
       "  <tbody>\n",
       "    <tr>\n",
       "      <th>0</th>\n",
       "      <td>2023-04-24</td>\n",
       "      <td>7.212716</td>\n",
       "    </tr>\n",
       "    <tr>\n",
       "      <th>1</th>\n",
       "      <td>2023-04-25</td>\n",
       "      <td>7.208491</td>\n",
       "    </tr>\n",
       "    <tr>\n",
       "      <th>2</th>\n",
       "      <td>2023-04-26</td>\n",
       "      <td>7.259436</td>\n",
       "    </tr>\n",
       "    <tr>\n",
       "      <th>3</th>\n",
       "      <td>2023-04-27</td>\n",
       "      <td>7.284011</td>\n",
       "    </tr>\n",
       "    <tr>\n",
       "      <th>4</th>\n",
       "      <td>2023-04-28</td>\n",
       "      <td>7.320234</td>\n",
       "    </tr>\n",
       "    <tr>\n",
       "      <th>...</th>\n",
       "      <td>...</td>\n",
       "      <td>...</td>\n",
       "    </tr>\n",
       "    <tr>\n",
       "      <th>446</th>\n",
       "      <td>2025-01-07</td>\n",
       "      <td>7.956933</td>\n",
       "    </tr>\n",
       "    <tr>\n",
       "      <th>447</th>\n",
       "      <td>2025-01-08</td>\n",
       "      <td>7.959579</td>\n",
       "    </tr>\n",
       "    <tr>\n",
       "      <th>448</th>\n",
       "      <td>2025-01-09</td>\n",
       "      <td>8.002237</td>\n",
       "    </tr>\n",
       "    <tr>\n",
       "      <th>449</th>\n",
       "      <td>2025-01-10</td>\n",
       "      <td>8.003997</td>\n",
       "    </tr>\n",
       "    <tr>\n",
       "      <th>450</th>\n",
       "      <td>2025-01-13</td>\n",
       "      <td>8.020000</td>\n",
       "    </tr>\n",
       "  </tbody>\n",
       "</table>\n",
       "<p>451 rows × 2 columns</p>\n",
       "</div>"
      ],
      "text/plain": [
       "          Date      SPOT\n",
       "0   2023-04-24  7.212716\n",
       "1   2023-04-25  7.208491\n",
       "2   2023-04-26  7.259436\n",
       "3   2023-04-27  7.284011\n",
       "4   2023-04-28  7.320234\n",
       "..         ...       ...\n",
       "446 2025-01-07  7.956933\n",
       "447 2025-01-08  7.959579\n",
       "448 2025-01-09  8.002237\n",
       "449 2025-01-10  8.003997\n",
       "450 2025-01-13  8.020000\n",
       "\n",
       "[451 rows x 2 columns]"
      ]
     },
     "execution_count": 41,
     "metadata": {},
     "output_type": "execute_result"
    }
   ],
   "source": [
    "augmented_classic_df = FileLoader.interpolate_dataframe(classic_raw_df)\n",
    "augmented_classic_df.to_csv(\"augmented_classic_df.csv\", index=False)\n",
    "augmented_classic_df"
   ]
  },
  {
   "cell_type": "code",
   "execution_count": 42,
   "id": "686d1676",
   "metadata": {
    "scrolled": true
   },
   "outputs": [
    {
     "data": {
      "text/html": [
       "<div>\n",
       "<style scoped>\n",
       "    .dataframe tbody tr th:only-of-type {\n",
       "        vertical-align: middle;\n",
       "    }\n",
       "\n",
       "    .dataframe tbody tr th {\n",
       "        vertical-align: top;\n",
       "    }\n",
       "\n",
       "    .dataframe thead th {\n",
       "        text-align: right;\n",
       "    }\n",
       "</style>\n",
       "<table border=\"1\" class=\"dataframe\">\n",
       "  <thead>\n",
       "    <tr style=\"text-align: right;\">\n",
       "      <th></th>\n",
       "      <th>Date</th>\n",
       "      <th>SPOT</th>\n",
       "    </tr>\n",
       "  </thead>\n",
       "  <tbody>\n",
       "    <tr>\n",
       "      <th>0</th>\n",
       "      <td>2023-04-24</td>\n",
       "      <td>7.296783</td>\n",
       "    </tr>\n",
       "    <tr>\n",
       "      <th>1</th>\n",
       "      <td>2023-04-25</td>\n",
       "      <td>7.335468</td>\n",
       "    </tr>\n",
       "    <tr>\n",
       "      <th>2</th>\n",
       "      <td>2023-04-26</td>\n",
       "      <td>7.385528</td>\n",
       "    </tr>\n",
       "    <tr>\n",
       "      <th>3</th>\n",
       "      <td>2023-04-27</td>\n",
       "      <td>7.429037</td>\n",
       "    </tr>\n",
       "    <tr>\n",
       "      <th>4</th>\n",
       "      <td>2023-04-28</td>\n",
       "      <td>7.446513</td>\n",
       "    </tr>\n",
       "    <tr>\n",
       "      <th>...</th>\n",
       "      <td>...</td>\n",
       "      <td>...</td>\n",
       "    </tr>\n",
       "    <tr>\n",
       "      <th>446</th>\n",
       "      <td>2025-01-07</td>\n",
       "      <td>10.131159</td>\n",
       "    </tr>\n",
       "    <tr>\n",
       "      <th>447</th>\n",
       "      <td>2025-01-08</td>\n",
       "      <td>10.066134</td>\n",
       "    </tr>\n",
       "    <tr>\n",
       "      <th>448</th>\n",
       "      <td>2025-01-09</td>\n",
       "      <td>10.110102</td>\n",
       "    </tr>\n",
       "    <tr>\n",
       "      <th>449</th>\n",
       "      <td>2025-01-10</td>\n",
       "      <td>10.178167</td>\n",
       "    </tr>\n",
       "    <tr>\n",
       "      <th>450</th>\n",
       "      <td>2025-01-13</td>\n",
       "      <td>10.410000</td>\n",
       "    </tr>\n",
       "  </tbody>\n",
       "</table>\n",
       "<p>451 rows × 2 columns</p>\n",
       "</div>"
      ],
      "text/plain": [
       "          Date       SPOT\n",
       "0   2023-04-24   7.296783\n",
       "1   2023-04-25   7.335468\n",
       "2   2023-04-26   7.385528\n",
       "3   2023-04-27   7.429037\n",
       "4   2023-04-28   7.446513\n",
       "..         ...        ...\n",
       "446 2025-01-07  10.131159\n",
       "447 2025-01-08  10.066134\n",
       "448 2025-01-09  10.110102\n",
       "449 2025-01-10  10.178167\n",
       "450 2025-01-13  10.410000\n",
       "\n",
       "[451 rows x 2 columns]"
      ]
     },
     "execution_count": 42,
     "metadata": {},
     "output_type": "execute_result"
    }
   ],
   "source": [
    "augmented_precarity_df = FileLoader.interpolate_dataframe(preacarity_raw_df)\n",
    "augmented_precarity_df.to_csv(\"augmented_precarity_df.csv\", index=False)\n",
    "augmented_precarity_df"
   ]
  },
  {
   "cell_type": "markdown",
   "id": "c7701cda",
   "metadata": {},
   "source": [
    "## Plotting the selected augmented dataframes "
   ]
  },
  {
   "cell_type": "markdown",
   "id": "cf50c99f",
   "metadata": {},
   "source": [
    "We select one iteration of fir the classic and precarirty dataframe."
   ]
  },
  {
   "cell_type": "code",
   "execution_count": 43,
   "id": "21d98306",
   "metadata": {},
   "outputs": [],
   "source": [
    "classic_df = pd.read_csv(\"selected_augmented_classic_df.csv\")\n",
    "precarity_df = pd.read_csv(\"selected_augmented_precarity_df.csv\")"
   ]
  },
  {
   "cell_type": "code",
   "execution_count": 44,
   "id": "c2223577",
   "metadata": {},
   "outputs": [
    {
     "data": {
      "image/png": "[encoded data removed]",
      "text/plain": [
       "<Figure size 640x480 with 1 Axes>"
      ]
     },
     "metadata": {},
     "output_type": "display_data"
    }
   ],
   "source": [
    "plt.figure()\n",
    "\n",
    "plt.plot(classic_df[\"SPOT\"], label = \"Classic EEC\")\n",
    "plt.plot(precarity_df[\"SPOT\"], label = \"Precarity EEC\")\n",
    "plt.title(\"EEC Classic and Precarity\")\n",
    "plt.legend()\n",
    "plt.xticks(rotation = 90)\n",
    "\n",
    "plt.show()"
   ]
  },
  {
   "cell_type": "markdown",
   "id": "f59913d1",
   "metadata": {},
   "source": [
    "Now we will separate data between data that will be used to train our models and the data which will be used to test our trading strategies."
   ]
  },
  {
   "cell_type": "markdown",
   "id": "cf26b625",
   "metadata": {},
   "source": [
    "From the graph we can clearly see that the data is non stationnary. We will first differentiate the time series and check weither it has "
   ]
  },
  {
   "cell_type": "code",
   "execution_count": 45,
   "id": "656811d3",
   "metadata": {},
   "outputs": [
    {
     "data": {
      "text/html": [
       "<div>\n",
       "<style scoped>\n",
       "    .dataframe tbody tr th:only-of-type {\n",
       "        vertical-align: middle;\n",
       "    }\n",
       "\n",
       "    .dataframe tbody tr th {\n",
       "        vertical-align: top;\n",
       "    }\n",
       "\n",
       "    .dataframe thead th {\n",
       "        text-align: right;\n",
       "    }\n",
       "</style>\n",
       "<table border=\"1\" class=\"dataframe\">\n",
       "  <thead>\n",
       "    <tr style=\"text-align: right;\">\n",
       "      <th></th>\n",
       "      <th>Date</th>\n",
       "      <th>SPOT</th>\n",
       "      <th>Delta</th>\n",
       "    </tr>\n",
       "  </thead>\n",
       "  <tbody>\n",
       "    <tr>\n",
       "      <th>1</th>\n",
       "      <td>2023-04-25</td>\n",
       "      <td>7.174503</td>\n",
       "      <td>-0.038213</td>\n",
       "    </tr>\n",
       "    <tr>\n",
       "      <th>2</th>\n",
       "      <td>2023-04-26</td>\n",
       "      <td>7.238924</td>\n",
       "      <td>0.064421</td>\n",
       "    </tr>\n",
       "    <tr>\n",
       "      <th>3</th>\n",
       "      <td>2023-04-27</td>\n",
       "      <td>7.224501</td>\n",
       "      <td>-0.014423</td>\n",
       "    </tr>\n",
       "    <tr>\n",
       "      <th>4</th>\n",
       "      <td>2023-04-28</td>\n",
       "      <td>7.249729</td>\n",
       "      <td>0.025228</td>\n",
       "    </tr>\n",
       "    <tr>\n",
       "      <th>5</th>\n",
       "      <td>2023-05-01</td>\n",
       "      <td>7.321166</td>\n",
       "      <td>0.071437</td>\n",
       "    </tr>\n",
       "    <tr>\n",
       "      <th>...</th>\n",
       "      <td>...</td>\n",
       "      <td>...</td>\n",
       "      <td>...</td>\n",
       "    </tr>\n",
       "    <tr>\n",
       "      <th>446</th>\n",
       "      <td>2025-01-07</td>\n",
       "      <td>7.969759</td>\n",
       "      <td>-0.000241</td>\n",
       "    </tr>\n",
       "    <tr>\n",
       "      <th>447</th>\n",
       "      <td>2025-01-08</td>\n",
       "      <td>7.969839</td>\n",
       "      <td>0.000079</td>\n",
       "    </tr>\n",
       "    <tr>\n",
       "      <th>448</th>\n",
       "      <td>2025-01-09</td>\n",
       "      <td>7.986663</td>\n",
       "      <td>0.016825</td>\n",
       "    </tr>\n",
       "    <tr>\n",
       "      <th>449</th>\n",
       "      <td>2025-01-10</td>\n",
       "      <td>7.988577</td>\n",
       "      <td>0.001914</td>\n",
       "    </tr>\n",
       "    <tr>\n",
       "      <th>450</th>\n",
       "      <td>2025-01-13</td>\n",
       "      <td>8.020000</td>\n",
       "      <td>0.031423</td>\n",
       "    </tr>\n",
       "  </tbody>\n",
       "</table>\n",
       "<p>450 rows × 3 columns</p>\n",
       "</div>"
      ],
      "text/plain": [
       "           Date      SPOT     Delta\n",
       "1    2023-04-25  7.174503 -0.038213\n",
       "2    2023-04-26  7.238924  0.064421\n",
       "3    2023-04-27  7.224501 -0.014423\n",
       "4    2023-04-28  7.249729  0.025228\n",
       "5    2023-05-01  7.321166  0.071437\n",
       "..          ...       ...       ...\n",
       "446  2025-01-07  7.969759 -0.000241\n",
       "447  2025-01-08  7.969839  0.000079\n",
       "448  2025-01-09  7.986663  0.016825\n",
       "449  2025-01-10  7.988577  0.001914\n",
       "450  2025-01-13  8.020000  0.031423\n",
       "\n",
       "[450 rows x 3 columns]"
      ]
     },
     "execution_count": 45,
     "metadata": {},
     "output_type": "execute_result"
    }
   ],
   "source": [
    "classic_df[\"Delta\"] = classic_df[\"SPOT\"] - classic_df[\"SPOT\"].shift(1)\n",
    "classic_df.dropna(inplace = True)\n",
    "classic_df"
   ]
  },
  {
   "cell_type": "markdown",
   "id": "7dbed25a",
   "metadata": {},
   "source": [
    "Neural Networks do not necessarily need stationnary data. However they perform better on normalized data. Hence we create the normalized data using Min-Max Scaler as the data is not normally distributed :"
   ]
  },
  {
   "cell_type": "code",
   "execution_count": 46,
   "id": "216cbc73",
   "metadata": {},
   "outputs": [
    {
     "data": {
      "text/html": [
       "<div>\n",
       "<style scoped>\n",
       "    .dataframe tbody tr th:only-of-type {\n",
       "        vertical-align: middle;\n",
       "    }\n",
       "\n",
       "    .dataframe tbody tr th {\n",
       "        vertical-align: top;\n",
       "    }\n",
       "\n",
       "    .dataframe thead th {\n",
       "        text-align: right;\n",
       "    }\n",
       "</style>\n",
       "<table border=\"1\" class=\"dataframe\">\n",
       "  <thead>\n",
       "    <tr style=\"text-align: right;\">\n",
       "      <th></th>\n",
       "      <th>Date</th>\n",
       "      <th>SPOT</th>\n",
       "      <th>Delta</th>\n",
       "      <th>Normalized Spot</th>\n",
       "    </tr>\n",
       "  </thead>\n",
       "  <tbody>\n",
       "    <tr>\n",
       "      <th>1</th>\n",
       "      <td>2023-04-25</td>\n",
       "      <td>7.174503</td>\n",
       "      <td>-0.038213</td>\n",
       "      <td>0.095268</td>\n",
       "    </tr>\n",
       "    <tr>\n",
       "      <th>2</th>\n",
       "      <td>2023-04-26</td>\n",
       "      <td>7.238924</td>\n",
       "      <td>0.064421</td>\n",
       "      <td>0.129266</td>\n",
       "    </tr>\n",
       "    <tr>\n",
       "      <th>3</th>\n",
       "      <td>2023-04-27</td>\n",
       "      <td>7.224501</td>\n",
       "      <td>-0.014423</td>\n",
       "      <td>0.121654</td>\n",
       "    </tr>\n",
       "    <tr>\n",
       "      <th>4</th>\n",
       "      <td>2023-04-28</td>\n",
       "      <td>7.249729</td>\n",
       "      <td>0.025228</td>\n",
       "      <td>0.134968</td>\n",
       "    </tr>\n",
       "    <tr>\n",
       "      <th>5</th>\n",
       "      <td>2023-05-01</td>\n",
       "      <td>7.321166</td>\n",
       "      <td>0.071437</td>\n",
       "      <td>0.172669</td>\n",
       "    </tr>\n",
       "    <tr>\n",
       "      <th>...</th>\n",
       "      <td>...</td>\n",
       "      <td>...</td>\n",
       "      <td>...</td>\n",
       "      <td>...</td>\n",
       "    </tr>\n",
       "    <tr>\n",
       "      <th>446</th>\n",
       "      <td>2025-01-07</td>\n",
       "      <td>7.969759</td>\n",
       "      <td>-0.000241</td>\n",
       "      <td>0.514964</td>\n",
       "    </tr>\n",
       "    <tr>\n",
       "      <th>447</th>\n",
       "      <td>2025-01-08</td>\n",
       "      <td>7.969839</td>\n",
       "      <td>0.000079</td>\n",
       "      <td>0.515006</td>\n",
       "    </tr>\n",
       "    <tr>\n",
       "      <th>448</th>\n",
       "      <td>2025-01-09</td>\n",
       "      <td>7.986663</td>\n",
       "      <td>0.016825</td>\n",
       "      <td>0.523885</td>\n",
       "    </tr>\n",
       "    <tr>\n",
       "      <th>449</th>\n",
       "      <td>2025-01-10</td>\n",
       "      <td>7.988577</td>\n",
       "      <td>0.001914</td>\n",
       "      <td>0.524895</td>\n",
       "    </tr>\n",
       "    <tr>\n",
       "      <th>450</th>\n",
       "      <td>2025-01-13</td>\n",
       "      <td>8.020000</td>\n",
       "      <td>0.031423</td>\n",
       "      <td>0.541478</td>\n",
       "    </tr>\n",
       "  </tbody>\n",
       "</table>\n",
       "<p>450 rows × 4 columns</p>\n",
       "</div>"
      ],
      "text/plain": [
       "           Date      SPOT     Delta  Normalized Spot\n",
       "1    2023-04-25  7.174503 -0.038213         0.095268\n",
       "2    2023-04-26  7.238924  0.064421         0.129266\n",
       "3    2023-04-27  7.224501 -0.014423         0.121654\n",
       "4    2023-04-28  7.249729  0.025228         0.134968\n",
       "5    2023-05-01  7.321166  0.071437         0.172669\n",
       "..          ...       ...       ...              ...\n",
       "446  2025-01-07  7.969759 -0.000241         0.514964\n",
       "447  2025-01-08  7.969839  0.000079         0.515006\n",
       "448  2025-01-09  7.986663  0.016825         0.523885\n",
       "449  2025-01-10  7.988577  0.001914         0.524895\n",
       "450  2025-01-13  8.020000  0.031423         0.541478\n",
       "\n",
       "[450 rows x 4 columns]"
      ]
     },
     "execution_count": 46,
     "metadata": {},
     "output_type": "execute_result"
    }
   ],
   "source": [
    "minmax_scaler = MinMaxScaler()\n",
    "classic_df[\"Normalized Spot\"] = minmax_scaler.fit_transform(classic_df[[\"SPOT\"]])\n",
    "classic_df"
   ]
  },
  {
   "cell_type": "code",
   "execution_count": 72,
   "id": "b616f060",
   "metadata": {},
   "outputs": [],
   "source": [
    "classic_development_df, classic_test_df = classic_df[:int(0.80*len(classic_df))], classic_df[int(0.80*len(classic_df)):]"
   ]
  },
  {
   "cell_type": "code",
   "execution_count": 48,
   "id": "b922b7d1",
   "metadata": {},
   "outputs": [
    {
     "data": {
      "text/html": [
       "<div>\n",
       "<style scoped>\n",
       "    .dataframe tbody tr th:only-of-type {\n",
       "        vertical-align: middle;\n",
       "    }\n",
       "\n",
       "    .dataframe tbody tr th {\n",
       "        vertical-align: top;\n",
       "    }\n",
       "\n",
       "    .dataframe thead th {\n",
       "        text-align: right;\n",
       "    }\n",
       "</style>\n",
       "<table border=\"1\" class=\"dataframe\">\n",
       "  <thead>\n",
       "    <tr style=\"text-align: right;\">\n",
       "      <th></th>\n",
       "      <th>Date</th>\n",
       "      <th>SPOT</th>\n",
       "      <th>Delta</th>\n",
       "      <th>Normalized Spot</th>\n",
       "    </tr>\n",
       "  </thead>\n",
       "  <tbody>\n",
       "    <tr>\n",
       "      <th>1</th>\n",
       "      <td>2023-04-25</td>\n",
       "      <td>7.174503</td>\n",
       "      <td>-0.038213</td>\n",
       "      <td>0.095268</td>\n",
       "    </tr>\n",
       "    <tr>\n",
       "      <th>2</th>\n",
       "      <td>2023-04-26</td>\n",
       "      <td>7.238924</td>\n",
       "      <td>0.064421</td>\n",
       "      <td>0.129266</td>\n",
       "    </tr>\n",
       "    <tr>\n",
       "      <th>3</th>\n",
       "      <td>2023-04-27</td>\n",
       "      <td>7.224501</td>\n",
       "      <td>-0.014423</td>\n",
       "      <td>0.121654</td>\n",
       "    </tr>\n",
       "    <tr>\n",
       "      <th>4</th>\n",
       "      <td>2023-04-28</td>\n",
       "      <td>7.249729</td>\n",
       "      <td>0.025228</td>\n",
       "      <td>0.134968</td>\n",
       "    </tr>\n",
       "    <tr>\n",
       "      <th>5</th>\n",
       "      <td>2023-05-01</td>\n",
       "      <td>7.321166</td>\n",
       "      <td>0.071437</td>\n",
       "      <td>0.172669</td>\n",
       "    </tr>\n",
       "    <tr>\n",
       "      <th>...</th>\n",
       "      <td>...</td>\n",
       "      <td>...</td>\n",
       "      <td>...</td>\n",
       "      <td>...</td>\n",
       "    </tr>\n",
       "    <tr>\n",
       "      <th>356</th>\n",
       "      <td>2024-09-03</td>\n",
       "      <td>7.939913</td>\n",
       "      <td>-0.013183</td>\n",
       "      <td>0.499213</td>\n",
       "    </tr>\n",
       "    <tr>\n",
       "      <th>357</th>\n",
       "      <td>2024-09-04</td>\n",
       "      <td>7.993982</td>\n",
       "      <td>0.054069</td>\n",
       "      <td>0.527747</td>\n",
       "    </tr>\n",
       "    <tr>\n",
       "      <th>358</th>\n",
       "      <td>2024-09-05</td>\n",
       "      <td>8.041032</td>\n",
       "      <td>0.047050</td>\n",
       "      <td>0.552578</td>\n",
       "    </tr>\n",
       "    <tr>\n",
       "      <th>359</th>\n",
       "      <td>2024-09-06</td>\n",
       "      <td>8.013912</td>\n",
       "      <td>-0.027120</td>\n",
       "      <td>0.538266</td>\n",
       "    </tr>\n",
       "    <tr>\n",
       "      <th>360</th>\n",
       "      <td>2024-09-09</td>\n",
       "      <td>8.061539</td>\n",
       "      <td>0.047627</td>\n",
       "      <td>0.563401</td>\n",
       "    </tr>\n",
       "  </tbody>\n",
       "</table>\n",
       "<p>360 rows × 4 columns</p>\n",
       "</div>"
      ],
      "text/plain": [
       "           Date      SPOT     Delta  Normalized Spot\n",
       "1    2023-04-25  7.174503 -0.038213         0.095268\n",
       "2    2023-04-26  7.238924  0.064421         0.129266\n",
       "3    2023-04-27  7.224501 -0.014423         0.121654\n",
       "4    2023-04-28  7.249729  0.025228         0.134968\n",
       "5    2023-05-01  7.321166  0.071437         0.172669\n",
       "..          ...       ...       ...              ...\n",
       "356  2024-09-03  7.939913 -0.013183         0.499213\n",
       "357  2024-09-04  7.993982  0.054069         0.527747\n",
       "358  2024-09-05  8.041032  0.047050         0.552578\n",
       "359  2024-09-06  8.013912 -0.027120         0.538266\n",
       "360  2024-09-09  8.061539  0.047627         0.563401\n",
       "\n",
       "[360 rows x 4 columns]"
      ]
     },
     "execution_count": 48,
     "metadata": {},
     "output_type": "execute_result"
    }
   ],
   "source": [
    "classic_development_df"
   ]
  },
  {
   "cell_type": "code",
   "execution_count": 49,
   "id": "fd27fa53",
   "metadata": {},
   "outputs": [
    {
     "data": {
      "text/html": [
       "<div>\n",
       "<style scoped>\n",
       "    .dataframe tbody tr th:only-of-type {\n",
       "        vertical-align: middle;\n",
       "    }\n",
       "\n",
       "    .dataframe tbody tr th {\n",
       "        vertical-align: top;\n",
       "    }\n",
       "\n",
       "    .dataframe thead th {\n",
       "        text-align: right;\n",
       "    }\n",
       "</style>\n",
       "<table border=\"1\" class=\"dataframe\">\n",
       "  <thead>\n",
       "    <tr style=\"text-align: right;\">\n",
       "      <th></th>\n",
       "      <th>Date</th>\n",
       "      <th>SPOT</th>\n",
       "      <th>Delta</th>\n",
       "      <th>Normalized Spot</th>\n",
       "    </tr>\n",
       "  </thead>\n",
       "  <tbody>\n",
       "    <tr>\n",
       "      <th>361</th>\n",
       "      <td>2024-09-10</td>\n",
       "      <td>8.089756</td>\n",
       "      <td>0.028217</td>\n",
       "      <td>0.578292</td>\n",
       "    </tr>\n",
       "    <tr>\n",
       "      <th>362</th>\n",
       "      <td>2024-09-11</td>\n",
       "      <td>8.101701</td>\n",
       "      <td>0.011945</td>\n",
       "      <td>0.584596</td>\n",
       "    </tr>\n",
       "    <tr>\n",
       "      <th>363</th>\n",
       "      <td>2024-09-12</td>\n",
       "      <td>8.149817</td>\n",
       "      <td>0.048116</td>\n",
       "      <td>0.609989</td>\n",
       "    </tr>\n",
       "    <tr>\n",
       "      <th>364</th>\n",
       "      <td>2024-09-13</td>\n",
       "      <td>8.259876</td>\n",
       "      <td>0.110059</td>\n",
       "      <td>0.668073</td>\n",
       "    </tr>\n",
       "    <tr>\n",
       "      <th>365</th>\n",
       "      <td>2024-09-16</td>\n",
       "      <td>8.274618</td>\n",
       "      <td>0.014742</td>\n",
       "      <td>0.675853</td>\n",
       "    </tr>\n",
       "    <tr>\n",
       "      <th>...</th>\n",
       "      <td>...</td>\n",
       "      <td>...</td>\n",
       "      <td>...</td>\n",
       "      <td>...</td>\n",
       "    </tr>\n",
       "    <tr>\n",
       "      <th>446</th>\n",
       "      <td>2025-01-07</td>\n",
       "      <td>7.969759</td>\n",
       "      <td>-0.000241</td>\n",
       "      <td>0.514964</td>\n",
       "    </tr>\n",
       "    <tr>\n",
       "      <th>447</th>\n",
       "      <td>2025-01-08</td>\n",
       "      <td>7.969839</td>\n",
       "      <td>0.000079</td>\n",
       "      <td>0.515006</td>\n",
       "    </tr>\n",
       "    <tr>\n",
       "      <th>448</th>\n",
       "      <td>2025-01-09</td>\n",
       "      <td>7.986663</td>\n",
       "      <td>0.016825</td>\n",
       "      <td>0.523885</td>\n",
       "    </tr>\n",
       "    <tr>\n",
       "      <th>449</th>\n",
       "      <td>2025-01-10</td>\n",
       "      <td>7.988577</td>\n",
       "      <td>0.001914</td>\n",
       "      <td>0.524895</td>\n",
       "    </tr>\n",
       "    <tr>\n",
       "      <th>450</th>\n",
       "      <td>2025-01-13</td>\n",
       "      <td>8.020000</td>\n",
       "      <td>0.031423</td>\n",
       "      <td>0.541478</td>\n",
       "    </tr>\n",
       "  </tbody>\n",
       "</table>\n",
       "<p>90 rows × 4 columns</p>\n",
       "</div>"
      ],
      "text/plain": [
       "           Date      SPOT     Delta  Normalized Spot\n",
       "361  2024-09-10  8.089756  0.028217         0.578292\n",
       "362  2024-09-11  8.101701  0.011945         0.584596\n",
       "363  2024-09-12  8.149817  0.048116         0.609989\n",
       "364  2024-09-13  8.259876  0.110059         0.668073\n",
       "365  2024-09-16  8.274618  0.014742         0.675853\n",
       "..          ...       ...       ...              ...\n",
       "446  2025-01-07  7.969759 -0.000241         0.514964\n",
       "447  2025-01-08  7.969839  0.000079         0.515006\n",
       "448  2025-01-09  7.986663  0.016825         0.523885\n",
       "449  2025-01-10  7.988577  0.001914         0.524895\n",
       "450  2025-01-13  8.020000  0.031423         0.541478\n",
       "\n",
       "[90 rows x 4 columns]"
      ]
     },
     "execution_count": 49,
     "metadata": {},
     "output_type": "execute_result"
    }
   ],
   "source": [
    "classic_test_df"
   ]
  },
  {
   "cell_type": "markdown",
   "id": "3d565f44",
   "metadata": {},
   "source": [
    "# Data forecasting"
   ]
  },
  {
   "cell_type": "markdown",
   "id": "c9639d7d",
   "metadata": {},
   "source": [
    "## Classic EEC"
   ]
  },
  {
   "cell_type": "markdown",
   "id": "1e236f22",
   "metadata": {},
   "source": [
    "### ARMA"
   ]
  },
  {
   "cell_type": "code",
   "execution_count": 50,
   "id": "f2c316d0",
   "metadata": {},
   "outputs": [
    {
     "name": "stdout",
     "output_type": "stream",
     "text": [
      "p-value: 8.410526298029446e-14\n",
      "Result: reject unit root -> series is stationary (at 5% level).\n"
     ]
    }
   ],
   "source": [
    "result = adfuller(classic_train_df[\"Delta\"], regression='c', autolag='AIC')\n",
    "\n",
    "adf_stat, pvalue, usedlag, nobs, crit_values, icbest = result\n",
    "\n",
    "print(f\"p-value: {pvalue}\")\n",
    "\n",
    "if pvalue < 0.05:\n",
    "    print(\"Result: reject unit root -> series is stationary (at 5% level).\")\n",
    "else:\n",
    "    print(\"Result: fail to reject unit root -> series is non-stationary.\")"
   ]
  },
  {
   "cell_type": "code",
   "execution_count": 51,
   "id": "3564bd7f",
   "metadata": {},
   "outputs": [
    {
     "data": {
      "image/png": "[encoded data removed]",
      "text/plain": [
       "<Figure size 640x480 with 1 Axes>"
      ]
     },
     "metadata": {},
     "output_type": "display_data"
    }
   ],
   "source": [
    "#Spltting the data into train and test sets\n",
    "\n",
    "plt.figure()\n",
    "plt.plot(classic_train_df[\"Delta\"], label=\"Train data\")\n",
    "plt.plot(classic_test_df[\"Delta\"], label=\"Test data\")\n",
    "plt.legend()\n",
    "plt.show()"
   ]
  },
  {
   "cell_type": "markdown",
   "id": "76389958",
   "metadata": {},
   "source": [
    "We create an ARMA model (in reality ARIMA as the series was already differentiated), using a class built on our own."
   ]
  },
  {
   "cell_type": "code",
   "execution_count": 52,
   "id": "c2bbd0f9",
   "metadata": {},
   "outputs": [],
   "source": [
    "# Initiate the ARMA class\n",
    "\n",
    "LineaTimeSeriesModel = linear_time_series.LineaTimeSeriesModel(classic_development_df[\"Delta\"])"
   ]
  },
  {
   "cell_type": "code",
   "execution_count": 53,
   "id": "1b6d0b83",
   "metadata": {},
   "outputs": [
    {
     "name": "stdout",
     "output_type": "stream",
     "text": [
      "Max MA order: 2, Max AR order: 3\n"
     ]
    }
   ],
   "source": [
    "# Selecting the last relevant lags\n",
    "\n",
    "ma_max_order = LineaTimeSeriesModel.get_ma_max_order()\n",
    "ar_max_order = LineaTimeSeriesModel.get_ar_max_order()\n",
    "print(f\"Max MA order: {ma_max_order}, Max AR order: {ar_max_order}\")"
   ]
  },
  {
   "cell_type": "code",
   "execution_count": 54,
   "id": "5e14bc6a",
   "metadata": {},
   "outputs": [
    {
     "name": "stdout",
     "output_type": "stream",
     "text": [
      "The p-value of the L-JungBox test is 0.0010769501074859085 for the model ARIMA(0,0,0) with AIC = -865.2753020188441\n",
      "The p-value of the L-JungBox test is 0.00019603097391472247 for the model ARIMA(1,0,0) with AIC = -868.6999244134297\n",
      "The p-value of the L-JungBox test is 0.16297763069556573 for the model ARIMA(2,0,0) with AIC = -876.2575485804448\n",
      "The p-value of the L-JungBox test is 0.7157039290153688 for the model ARIMA(3,0,0) with AIC = -880.2907981668743\n",
      "The p-value of the L-JungBox test is 0.0003555213431076301 for the model ARIMA(0,0,1) with AIC = -867.1486027223258\n",
      "The p-value of the L-JungBox test is 0.000996118071911536 for the model ARIMA(1,0,1) with AIC = -869.6690742834799\n",
      "The p-value of the L-JungBox test is 0.9172372419437103 for the model ARIMA(2,0,1) with AIC = -883.1324185427663\n",
      "The p-value of the L-JungBox test is 0.9436644672575555 for the model ARIMA(3,0,1) with AIC = -881.5926364963486\n",
      "The p-value of the L-JungBox test is 0.28029800972230057 for the model ARIMA(0,0,2) with AIC = -879.2671580763878\n",
      "The p-value of the L-JungBox test is 0.7646494395126026 for the model ARIMA(1,0,2) with AIC = -880.3339941602698\n",
      "The p-value of the L-JungBox test is 0.9331606662089476 for the model ARIMA(2,0,2) with AIC = -881.3983844135427\n",
      "The p-value of the L-JungBox test is 0.9487074699040798 for the model ARIMA(3,0,2) with AIC = -880.1123719757504\n"
     ]
    },
    {
     "data": {
      "text/plain": [
       "{'order': (2, 0, 1),\n",
       " 'model': <statsmodels.tsa.arima.model.ARIMAResultsWrapper at 0x28592c4bac0>,\n",
       " 'aic': np.float64(-883.1324185427663)}"
      ]
     },
     "execution_count": 54,
     "metadata": {},
     "output_type": "execute_result"
    }
   ],
   "source": [
    "# Selecting the best model according to AIC using the maximum relevant lags\n",
    "\n",
    "warnings.filterwarnings(\"ignore\")\n",
    "\n",
    "selected_models = LineaTimeSeriesModel.select_model(ma_max_order, ar_max_order)\n",
    "selected_models[\"aic\"]"
   ]
  },
  {
   "cell_type": "code",
   "execution_count": 55,
   "id": "bce72b34",
   "metadata": {},
   "outputs": [],
   "source": [
    "# Prediction using our model\n",
    "train_pred, test_pred = LineaTimeSeriesModel.model_prediction(selected_models[\"aic\"][\"model\"])\n",
    "prediction = np.concatenate([train_pred, test_pred])\n",
    "\n",
    "# Cumulative sum to get back to the original scale\n",
    "cum_train_pred = np.cumsum(train_pred) + classic_df[\"SPOT\"].iloc[0]\n",
    "cum_test_pred = np.cumsum(test_pred) + cum_train_pred.iloc[-1]\n",
    "cum_prediction = np.cumsum(prediction) + classic_df[\"SPOT\"].iloc[0]"
   ]
  },
  {
   "cell_type": "code",
   "execution_count": 56,
   "id": "e013f7ea",
   "metadata": {},
   "outputs": [
    {
     "data": {
      "image/png": "[encoded data removed]",
      "text/plain": [
       "<Figure size 640x480 with 1 Axes>"
      ]
     },
     "metadata": {},
     "output_type": "display_data"
    }
   ],
   "source": [
    "plt.figure()\n",
    "plt.title(\"Classic EEC - ARMA Model Prediction\")\n",
    "plt.plot(classic_train_df[\"SPOT\"], label=\"Real\")\n",
    "plt.plot(cum_prediction, label=\"Prediction\")\n",
    "plt.legend()\n",
    "plt.show()"
   ]
  },
  {
   "cell_type": "code",
   "execution_count": 57,
   "id": "ce8759b3",
   "metadata": {},
   "outputs": [
    {
     "data": {
      "text/plain": [
       "{'train': {'mae': 7.71347015395955,\n",
       "  'rmse': 7.717456456829501,\n",
       "  'mape': inf,\n",
       "  'r2': -20745.296263981512},\n",
       " 'test': {'mae': nan, 'rmse': 7.976731225136826, 'mape': nan, 'r2': 1.0}}"
      ]
     },
     "execution_count": 57,
     "metadata": {},
     "output_type": "execute_result"
    }
   ],
   "source": [
    "# Asssessing performances of ARIMA model\n",
    "arima_model_metrics = tools.model_metrics(LineaTimeSeriesModel.train_dependent, cum_train_pred, LineaTimeSeriesModel.test_dependent, cum_test_pred)\n",
    "\n",
    "all_metrics = arima_model_metrics.get_all_metrics()\n",
    "all_metrics"
   ]
  },
  {
   "cell_type": "markdown",
   "id": "caeb3fb2",
   "metadata": {},
   "source": [
    "### RNN"
   ]
  },
  {
   "cell_type": "markdown",
   "id": "8594a441",
   "metadata": {},
   "source": [
    "#### GRU"
   ]
  },
  {
   "cell_type": "markdown",
   "id": "c3359e1b",
   "metadata": {},
   "source": [
    "Parameters to optimize :\n",
    "\n",
    "-   Lookback : Number of points used to predict the next oneNombre de points utilisés pour prédire le point suivant\n",
    "-   Hidden size : Number of GRU cells per layer\n",
    "-   Number of layers : Number of layers\n",
    "\n",
    "\n",
    "*NB : After having conducted many tests 1 layer seems to provide better results than 2 layers*"
   ]
  },
  {
   "cell_type": "code",
   "execution_count": 58,
   "id": "943a7a29",
   "metadata": {},
   "outputs": [],
   "source": [
    "# Initializing the GRU class\n",
    "GRU = gated_reccurent_unit.GRU(classic_development_df[\"Normalized Spot\"], train_test_ratio=0.8)"
   ]
  },
  {
   "cell_type": "markdown",
   "id": "c900c2eb",
   "metadata": {},
   "source": [
    "##### Tuning Training Parameters"
   ]
  },
  {
   "cell_type": "code",
   "execution_count": 59,
   "id": "7990cb84",
   "metadata": {},
   "outputs": [
    {
     "name": "stdout",
     "output_type": "stream",
     "text": [
      "Training results: cv_mse : 0.017633449286222458, val_size : 200, n_splits : 5\n"
     ]
    },
    {
     "data": {
      "text/plain": [
       "{'lr': 0.1, 'l2': 1e-06, 'epochs': 100}"
      ]
     },
     "execution_count": 59,
     "metadata": {},
     "output_type": "execute_result"
    }
   ],
   "source": [
    "train_param_grid = {\n",
    "    \"l2\" : [1e-02, 1e-03, 1e-04, 1e-05, 1e-06],\n",
    "    \"lrs\" : [1, 0.1, 0.01, 0.001],\n",
    "    \"epochs\" : [20, 30, 40, 60, 80, 100, 120, 140],\n",
    "    \"epochs_mid\" : 80,\n",
    "    \"patience\": 10,\n",
    "    \"min_delta\": 1e-4,\n",
    "    \"n_splits\": 5,\n",
    "    \"val_size\": 200,\n",
    "    \"min_train_size\" : 50     \n",
    "}\n",
    "\n",
    "model_param = {\n",
    "    \"lookback\": 40,\n",
    "    \"hidden_size\": 16,\n",
    "    \"num_layers\": 1,\n",
    "}\n",
    "GRU.tune_train(train_param_grid, model_param)\n",
    "\n",
    "GRU.training_params"
   ]
  },
  {
   "cell_type": "markdown",
   "id": "965bb98f",
   "metadata": {},
   "source": [
    "##### Tuning Model Parameters"
   ]
  },
  {
   "cell_type": "code",
   "execution_count": 60,
   "id": "ec989b42",
   "metadata": {
    "scrolled": true
   },
   "outputs": [
    {
     "name": "stdout",
     "output_type": "stream",
     "text": [
      "lookback=10, hidden=2, layers=1 → MSE=0.000957\n",
      "lookback=10, hidden=2, layers=2 → MSE=0.033298\n",
      "lookback=10, hidden=4, layers=1 → MSE=0.000935\n",
      "lookback=10, hidden=4, layers=2 → MSE=0.001050\n",
      "lookback=10, hidden=8, layers=1 → MSE=0.000784\n",
      "lookback=10, hidden=8, layers=2 → MSE=0.000805\n",
      "lookback=10, hidden=16, layers=1 → MSE=0.000889\n",
      "lookback=10, hidden=16, layers=2 → MSE=0.000912\n",
      "lookback=15, hidden=2, layers=1 → MSE=0.000882\n",
      "lookback=15, hidden=2, layers=2 → MSE=0.000887\n",
      "lookback=15, hidden=4, layers=1 → MSE=0.000889\n",
      "lookback=15, hidden=4, layers=2 → MSE=0.001014\n",
      "lookback=15, hidden=8, layers=1 → MSE=0.000965\n",
      "lookback=15, hidden=8, layers=2 → MSE=0.000998\n",
      "lookback=15, hidden=16, layers=1 → MSE=0.000873\n",
      "lookback=15, hidden=16, layers=2 → MSE=0.000796\n",
      "lookback=20, hidden=2, layers=1 → MSE=0.000950\n",
      "lookback=20, hidden=2, layers=2 → MSE=0.001403\n",
      "lookback=20, hidden=4, layers=1 → MSE=0.000921\n",
      "lookback=20, hidden=4, layers=2 → MSE=0.001144\n",
      "lookback=20, hidden=8, layers=1 → MSE=0.000941\n",
      "lookback=20, hidden=8, layers=2 → MSE=0.000958\n",
      "lookback=20, hidden=16, layers=1 → MSE=0.000930\n",
      "lookback=20, hidden=16, layers=2 → MSE=0.000935\n",
      "lookback=26, hidden=2, layers=1 → MSE=0.001208\n",
      "lookback=26, hidden=2, layers=2 → MSE=0.016077\n",
      "lookback=26, hidden=4, layers=1 → MSE=0.001202\n",
      "lookback=26, hidden=4, layers=2 → MSE=0.001134\n",
      "lookback=26, hidden=8, layers=1 → MSE=0.000981\n",
      "lookback=26, hidden=8, layers=2 → MSE=0.001149\n",
      "lookback=26, hidden=16, layers=1 → MSE=0.001203\n",
      "lookback=26, hidden=16, layers=2 → MSE=0.000956\n",
      "lookback=31, hidden=2, layers=1 → MSE=0.001004\n",
      "lookback=31, hidden=2, layers=2 → MSE=0.001716\n",
      "lookback=31, hidden=4, layers=1 → MSE=0.001079\n",
      "lookback=31, hidden=4, layers=2 → MSE=0.001314\n",
      "lookback=31, hidden=8, layers=1 → MSE=0.001054\n",
      "lookback=31, hidden=8, layers=2 → MSE=0.001025\n",
      "lookback=31, hidden=16, layers=1 → MSE=0.001074\n",
      "lookback=31, hidden=16, layers=2 → MSE=0.002621\n",
      "lookback=37, hidden=2, layers=1 → MSE=0.001246\n",
      "lookback=37, hidden=2, layers=2 → MSE=0.001296\n",
      "lookback=37, hidden=4, layers=1 → MSE=0.001163\n",
      "lookback=37, hidden=4, layers=2 → MSE=0.001301\n",
      "lookback=37, hidden=8, layers=1 → MSE=0.001186\n",
      "lookback=37, hidden=8, layers=2 → MSE=0.001274\n",
      "lookback=37, hidden=16, layers=1 → MSE=0.001252\n",
      "lookback=37, hidden=16, layers=2 → MSE=0.001144\n",
      "lookback=42, hidden=2, layers=1 → MSE=0.001317\n",
      "lookback=42, hidden=2, layers=2 → MSE=0.001392\n",
      "lookback=42, hidden=4, layers=1 → MSE=0.001541\n",
      "lookback=42, hidden=4, layers=2 → MSE=0.001389\n",
      "lookback=42, hidden=8, layers=1 → MSE=0.001289\n",
      "lookback=42, hidden=8, layers=2 → MSE=0.001361\n",
      "lookback=42, hidden=16, layers=1 → MSE=0.001362\n",
      "lookback=42, hidden=16, layers=2 → MSE=0.001706\n",
      "lookback=48, hidden=2, layers=1 → MSE=0.001550\n",
      "lookback=48, hidden=2, layers=2 → MSE=0.002344\n",
      "lookback=48, hidden=4, layers=1 → MSE=0.001528\n",
      "lookback=48, hidden=4, layers=2 → MSE=0.001670\n",
      "lookback=48, hidden=8, layers=1 → MSE=0.001561\n",
      "lookback=48, hidden=8, layers=2 → MSE=0.001497\n",
      "lookback=48, hidden=16, layers=1 → MSE=0.001448\n",
      "lookback=48, hidden=16, layers=2 → MSE=0.001440\n",
      "lookback=53, hidden=2, layers=1 → MSE=0.001723\n",
      "lookback=53, hidden=2, layers=2 → MSE=0.001728\n",
      "lookback=53, hidden=4, layers=1 → MSE=0.001779\n",
      "lookback=53, hidden=4, layers=2 → MSE=0.001864\n",
      "lookback=53, hidden=8, layers=1 → MSE=0.001642\n",
      "lookback=53, hidden=8, layers=2 → MSE=0.001657\n",
      "lookback=53, hidden=16, layers=1 → MSE=0.001559\n",
      "lookback=53, hidden=16, layers=2 → MSE=0.001652\n",
      "lookback=59, hidden=2, layers=1 → MSE=0.001944\n",
      "lookback=59, hidden=2, layers=2 → MSE=0.003266\n",
      "lookback=59, hidden=4, layers=1 → MSE=0.001930\n",
      "lookback=59, hidden=4, layers=2 → MSE=0.002002\n",
      "lookback=59, hidden=8, layers=1 → MSE=0.001973\n",
      "lookback=59, hidden=8, layers=2 → MSE=0.002116\n",
      "lookback=59, hidden=16, layers=1 → MSE=0.002045\n",
      "lookback=59, hidden=16, layers=2 → MSE=0.001900\n",
      "lookback=64, hidden=2, layers=1 → MSE=0.000321\n",
      "lookback=64, hidden=2, layers=2 → MSE=0.000322\n",
      "lookback=64, hidden=4, layers=1 → MSE=0.000248\n",
      "lookback=64, hidden=4, layers=2 → MSE=0.000350\n",
      "lookback=64, hidden=8, layers=1 → MSE=0.000326\n",
      "lookback=64, hidden=8, layers=2 → MSE=0.000373\n",
      "lookback=64, hidden=16, layers=1 → MSE=0.000291\n",
      "lookback=64, hidden=16, layers=2 → MSE=0.000374\n",
      "lookback=70, hidden=2, layers=1 → MSE=0.000312\n",
      "lookback=70, hidden=2, layers=2 → MSE=0.000488\n",
      "lookback=70, hidden=4, layers=1 → MSE=0.000330\n",
      "lookback=70, hidden=4, layers=2 → MSE=0.000356\n",
      "lookback=70, hidden=8, layers=1 → MSE=0.000291\n",
      "lookback=70, hidden=8, layers=2 → MSE=0.000303\n",
      "lookback=70, hidden=16, layers=1 → MSE=0.000298\n",
      "lookback=70, hidden=16, layers=2 → MSE=0.000303\n",
      "\n",
      "✅ Best parameters: lookback=64, hidden=4, layers=1\n",
      "Best MSE: 0.000248\n"
     ]
    }
   ],
   "source": [
    "model_param_grid = {\n",
    "    \"lookback\": [int(x) for x in np.linspace(10, 70, 12)],\n",
    "    \"hidden_size\": [2, 4, 8, 16],\n",
    "    \"num_layers\": [1, 2],\n",
    "}\n",
    "GRU.tune_model(model_param_grid)"
   ]
  },
  {
   "cell_type": "code",
   "execution_count": 61,
   "id": "6c8367c4",
   "metadata": {},
   "outputs": [],
   "source": [
    "data_type = \"validation\"\n",
    "y_pred, y = GRU.predict(data=data_type)\n",
    "\n",
    "y_pred, y = minmax_scaler.inverse_transform(y_pred.reshape(-1,1)), minmax_scaler.inverse_transform(y.reshape(-1,1))"
   ]
  },
  {
   "cell_type": "code",
   "execution_count": 62,
   "id": "d8a4996c",
   "metadata": {},
   "outputs": [
    {
     "data": {
      "image/png": "[encoded data removed]",
      "text/plain": [
       "<Figure size 640x480 with 1 Axes>"
      ]
     },
     "metadata": {},
     "output_type": "display_data"
    }
   ],
   "source": [
    "plt.figure()\n",
    "plt.title(\"Classic EEC - GRU Model Prediction\")\n",
    "plt.plot(y, label=\"Real\")\n",
    "plt.plot(y_pred, label=\"Prediction\")\n",
    "plt.legend()\n",
    "plt.show()"
   ]
  },
  {
   "cell_type": "markdown",
   "id": "dbea66c1",
   "metadata": {},
   "source": [
    "#### LSTM"
   ]
  },
  {
   "cell_type": "code",
   "execution_count": 63,
   "id": "315f9d46",
   "metadata": {},
   "outputs": [],
   "source": [
    "# Initializing the LSTM class\n",
    "\n",
    "LSTM = long_short_term_memory.LSTM(classic_development_df[\"Normalized Spot\"], train_test_ratio=0.8)"
   ]
  },
  {
   "cell_type": "markdown",
   "id": "195f32a3-4169-4733-9d1b-46a975074648",
   "metadata": {},
   "source": [
    "#### Tuning Training Parameters"
   ]
  },
  {
   "cell_type": "code",
   "execution_count": 67,
   "id": "209f2425-e41a-48e6-9969-d25a942e0e8d",
   "metadata": {},
   "outputs": [
    {
     "name": "stdout",
     "output_type": "stream",
     "text": [
      "Training results: cv_mse : 0.0382833406329155, val_size : 200, n_splits : 5\n"
     ]
    },
    {
     "data": {
      "text/plain": [
       "{'lr': 0.1, 'l2': 1e-05, 'epochs': 60}"
      ]
     },
     "execution_count": 67,
     "metadata": {},
     "output_type": "execute_result"
    }
   ],
   "source": [
    "train_param_grid = {\n",
    "    \"l2\" : [1e-02, 1e-03, 1e-04, 1e-05, 1e-06],\n",
    "    \"lrs\" : [1, 0.1, 0.01, 0.001],\n",
    "    \"epochs\" : [20, 30, 40, 60, 80, 100, 120, 140, 150, 160],\n",
    "    \"epochs_mid\" : 80,\n",
    "    \"patience\": 10,\n",
    "    \"min_delta\": 1e-4,\n",
    "    \"n_splits\": 5,\n",
    "    \"val_size\": 200,\n",
    "    \"min_train_size\" : 50     \n",
    "}\n",
    "\n",
    "model_param = {\n",
    "    \"lookback\": 40,\n",
    "    \"hidden_size\": 16,\n",
    "    \"num_layers\": 1,\n",
    "}\n",
    "LSTM.tune_train(train_param_grid, model_param)\n",
    "\n",
    "LSTM.training_params"
   ]
  },
  {
   "cell_type": "markdown",
   "id": "36f42a17-2af5-441d-9cbc-3827ee8d0450",
   "metadata": {},
   "source": [
    "#### Tuning Model Parameters"
   ]
  },
  {
   "cell_type": "code",
   "execution_count": 68,
   "id": "3f478717-e3b8-4d8e-aebf-b5a535e53357",
   "metadata": {},
   "outputs": [
    {
     "name": "stdout",
     "output_type": "stream",
     "text": [
      "lookback=10, hidden=2, layers=1 → MSE=0.001090\n",
      "lookback=10, hidden=2, layers=2 → MSE=0.001424\n",
      "lookback=10, hidden=4, layers=1 → MSE=0.001434\n",
      "lookback=10, hidden=4, layers=2 → MSE=0.029550\n",
      "lookback=10, hidden=8, layers=1 → MSE=0.009958\n",
      "lookback=10, hidden=8, layers=2 → MSE=0.003278\n",
      "lookback=10, hidden=16, layers=1 → MSE=0.001685\n",
      "lookback=10, hidden=16, layers=2 → MSE=0.014336\n",
      "lookback=15, hidden=2, layers=1 → MSE=0.004011\n",
      "lookback=15, hidden=2, layers=2 → MSE=0.025810\n",
      "lookback=15, hidden=4, layers=1 → MSE=0.000898\n",
      "lookback=15, hidden=4, layers=2 → MSE=0.001482\n",
      "lookback=15, hidden=8, layers=1 → MSE=0.000979\n",
      "lookback=15, hidden=8, layers=2 → MSE=0.024261\n",
      "lookback=15, hidden=16, layers=1 → MSE=0.001498\n",
      "lookback=15, hidden=16, layers=2 → MSE=0.005916\n",
      "lookback=20, hidden=2, layers=1 → MSE=0.001965\n",
      "lookback=20, hidden=2, layers=2 → MSE=0.023726\n",
      "lookback=20, hidden=4, layers=1 → MSE=0.001401\n",
      "lookback=20, hidden=4, layers=2 → MSE=0.025580\n",
      "lookback=20, hidden=8, layers=1 → MSE=0.000946\n",
      "lookback=20, hidden=8, layers=2 → MSE=0.001208\n",
      "lookback=20, hidden=16, layers=1 → MSE=0.002767\n",
      "lookback=20, hidden=16, layers=2 → MSE=0.002729\n",
      "lookback=26, hidden=2, layers=1 → MSE=0.000913\n",
      "lookback=26, hidden=2, layers=2 → MSE=0.017388\n",
      "lookback=26, hidden=4, layers=1 → MSE=0.002496\n",
      "lookback=26, hidden=4, layers=2 → MSE=0.017332\n",
      "lookback=26, hidden=8, layers=1 → MSE=0.001023\n",
      "lookback=26, hidden=8, layers=2 → MSE=0.001233\n",
      "lookback=26, hidden=16, layers=1 → MSE=0.001596\n",
      "lookback=26, hidden=16, layers=2 → MSE=0.019737\n",
      "lookback=31, hidden=2, layers=1 → MSE=0.000985\n",
      "lookback=31, hidden=2, layers=2 → MSE=0.006962\n",
      "lookback=31, hidden=4, layers=1 → MSE=0.001612\n",
      "lookback=31, hidden=4, layers=2 → MSE=0.013788\n",
      "lookback=31, hidden=8, layers=1 → MSE=0.001071\n",
      "lookback=31, hidden=8, layers=2 → MSE=0.014147\n",
      "lookback=31, hidden=16, layers=1 → MSE=0.002222\n",
      "lookback=31, hidden=16, layers=2 → MSE=0.001044\n",
      "lookback=37, hidden=2, layers=1 → MSE=0.001423\n",
      "lookback=37, hidden=2, layers=2 → MSE=0.010971\n",
      "lookback=37, hidden=4, layers=1 → MSE=0.001313\n",
      "lookback=37, hidden=4, layers=2 → MSE=0.002074\n",
      "lookback=37, hidden=8, layers=1 → MSE=0.001161\n",
      "lookback=37, hidden=8, layers=2 → MSE=0.001616\n",
      "lookback=37, hidden=16, layers=1 → MSE=0.001433\n",
      "lookback=37, hidden=16, layers=2 → MSE=0.001227\n",
      "lookback=42, hidden=2, layers=1 → MSE=0.001263\n",
      "lookback=42, hidden=2, layers=2 → MSE=0.001480\n",
      "lookback=42, hidden=4, layers=1 → MSE=0.001524\n",
      "lookback=42, hidden=4, layers=2 → MSE=0.001635\n",
      "lookback=42, hidden=8, layers=1 → MSE=0.001564\n",
      "lookback=42, hidden=8, layers=2 → MSE=0.001591\n",
      "lookback=42, hidden=16, layers=1 → MSE=0.001623\n",
      "lookback=42, hidden=16, layers=2 → MSE=0.006916\n",
      "lookback=48, hidden=2, layers=1 → MSE=0.001414\n",
      "lookback=48, hidden=2, layers=2 → MSE=0.011066\n",
      "lookback=48, hidden=4, layers=1 → MSE=0.001862\n",
      "lookback=48, hidden=4, layers=2 → MSE=0.006798\n",
      "lookback=48, hidden=8, layers=1 → MSE=0.001534\n",
      "lookback=48, hidden=8, layers=2 → MSE=0.001390\n",
      "lookback=48, hidden=16, layers=1 → MSE=0.002182\n",
      "lookback=48, hidden=16, layers=2 → MSE=0.002998\n",
      "lookback=53, hidden=2, layers=1 → MSE=0.002354\n",
      "lookback=53, hidden=2, layers=2 → MSE=0.005931\n",
      "lookback=53, hidden=4, layers=1 → MSE=0.001630\n",
      "lookback=53, hidden=4, layers=2 → MSE=0.001821\n",
      "lookback=53, hidden=8, layers=1 → MSE=0.001832\n",
      "lookback=53, hidden=8, layers=2 → MSE=0.001664\n",
      "lookback=53, hidden=16, layers=1 → MSE=0.002045\n",
      "lookback=53, hidden=16, layers=2 → MSE=0.001616\n",
      "lookback=59, hidden=2, layers=1 → MSE=0.004324\n",
      "lookback=59, hidden=2, layers=2 → MSE=0.002907\n",
      "lookback=59, hidden=4, layers=1 → MSE=0.002084\n",
      "lookback=59, hidden=4, layers=2 → MSE=0.002309\n",
      "lookback=59, hidden=8, layers=1 → MSE=0.002158\n",
      "lookback=59, hidden=8, layers=2 → MSE=0.004034\n",
      "lookback=59, hidden=16, layers=1 → MSE=0.002339\n",
      "lookback=59, hidden=16, layers=2 → MSE=0.002186\n",
      "lookback=64, hidden=2, layers=1 → MSE=0.000695\n",
      "lookback=64, hidden=2, layers=2 → MSE=0.001169\n",
      "lookback=64, hidden=4, layers=1 → MSE=0.001289\n",
      "lookback=64, hidden=4, layers=2 → MSE=0.001266\n",
      "lookback=64, hidden=8, layers=1 → MSE=0.005134\n",
      "lookback=64, hidden=8, layers=2 → MSE=0.000619\n",
      "lookback=64, hidden=16, layers=1 → MSE=0.001540\n",
      "lookback=64, hidden=16, layers=2 → MSE=0.000420\n",
      "lookback=70, hidden=2, layers=1 → MSE=0.000356\n",
      "lookback=70, hidden=2, layers=2 → MSE=0.005353\n",
      "lookback=70, hidden=4, layers=1 → MSE=0.000370\n",
      "lookback=70, hidden=4, layers=2 → MSE=0.000814\n",
      "lookback=70, hidden=8, layers=1 → MSE=0.000331\n",
      "lookback=70, hidden=8, layers=2 → MSE=0.000550\n",
      "lookback=70, hidden=16, layers=1 → MSE=0.000792\n",
      "lookback=70, hidden=16, layers=2 → MSE=0.000795\n",
      "\n",
      "✅ Best parameters: lookback=70, hidden=8, layers=1\n",
      "Best MSE: 0.000331\n"
     ]
    }
   ],
   "source": [
    "model_param_grid = {\n",
    "    \"lookback\": [int(x) for x in np.linspace(10, 70, 12)],\n",
    "    \"hidden_size\": [2, 4, 8, 16],\n",
    "    \"num_layers\": [1, 2],\n",
    "}\n",
    "LSTM.tune_model(model_param_grid)"
   ]
  },
  {
   "cell_type": "code",
   "execution_count": 69,
   "id": "54e3a64a-84ac-4ead-b688-ad3887249f20",
   "metadata": {},
   "outputs": [],
   "source": [
    "data_type = \"train\"\n",
    "y_pred, y = LSTM.predict(data=data_type)\n",
    "\n",
    "y_pred, y = minmax_scaler.inverse_transform(y_pred.reshape(-1,1)), minmax_scaler.inverse_transform(y.reshape(-1,1))"
   ]
  },
  {
   "cell_type": "code",
   "execution_count": 71,
   "id": "0f1d9770-d7a9-45b8-b62b-d0180c65bab4",
   "metadata": {},
   "outputs": [
    {
     "data": {
      "image/png": "[encoded data removed]",
      "text/plain": [
       "<Figure size 640x480 with 1 Axes>"
      ]
     },
     "metadata": {},
     "output_type": "display_data"
    }
   ],
   "source": [
    "plt.figure()\n",
    "plt.title(\"Classic EEC - LSTM Model Prediction\")\n",
    "plt.plot(y, label=\"Real\")\n",
    "plt.plot(y_pred, label=\"Prediction\")\n",
    "plt.legend()\n",
    "plt.show()"
   ]
  }
 ],
 "metadata": {
  "kernelspec": {
   "display_name": "Python 3 (ipykernel)",
   "language": "python",
   "name": "python3"
  },
  "language_info": {
   "codemirror_mode": {
    "name": "ipython",
    "version": 3
   },
   "file_extension": ".py",
   "mimetype": "text/x-python",
   "name": "python",
   "nbconvert_exporter": "python",
   "pygments_lexer": "ipython3",
   "version": "3.13.5"
  }
 },
 "nbformat": 4,
 "nbformat_minor": 5
}
